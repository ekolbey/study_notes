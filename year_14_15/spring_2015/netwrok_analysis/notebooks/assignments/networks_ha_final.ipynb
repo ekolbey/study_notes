{
 "metadata": {
  "name": "",
  "signature": "sha256:85edfba59726a517f39af5ae5dd54a706f1bedf38f9d8aed03ab5b2ade81138f"
 },
 "nbformat": 3,
 "nbformat_minor": 0,
 "worksheets": [
  {
   "cells": [
    {
     "cell_type": "code",
     "collapsed": false,
     "input": [
      "import numpy as np\n",
      "import networkx as nx\n",
      "from matplotlib import pyplot as plt\n",
      "%matplotlib inline\n",
      "import warnings\n",
      "warnings.filterwarnings( 'ignore' )"
     ],
     "language": "python",
     "metadata": {},
     "outputs": []
    },
    {
     "cell_type": "markdown",
     "metadata": {},
     "source": [
      "## ToDo"
     ]
    },
    {
     "cell_type": "markdown",
     "metadata": {},
     "source": [
      "1. Your Network Summary  \n",
      "    * Network source and preprocessing\n",
      "    * Node/Edge attributes\n",
      "    * Size, Order\n",
      "    * Gorgeous network layout. Try to show that your network has some structure, play with node sizes and colors, scaling parameters, tools like Gephi may be useful here\n",
      "    * Degree distribution, Diameter, Clustering Coefficient\n",
      "2. Structural Analysis  \n",
      "    * Degree/Closeness/Betweenness centralities. Top nodes interpretation\n",
      "    * Page-Rank. Comparison with centralities\n",
      "    * Assortative Mixing according to node attributes\n",
      "    * Node structural equivalence/similarity\n",
      "3. Community Detection  \n",
      "    * Clique search\n",
      "    * Best results of various community detection algorithms, both in terms of interpretation and some quality criterion. Since Networkx has no community detection algorithms, use additional modules e.g. igraph, communities, graph-tool, etc\n",
      "    * The results should be visible on the network layout or adjacency matrix picture"
     ]
    },
    {
     "cell_type": "markdown",
     "metadata": {},
     "source": [
      "## Summary\n",
      "### Network source\n",
      "This graph shows friend relationships among the people in mu facebook friends list. The newtork was obtained by Netviz facebook app. A purely technical step, but prior to loading with the networkx procedure $\\text{read_gml}(\\cdot)$ the GML-file was preprocessd to convert UTF-8 encoding into special HTML entities. \n",
      "\n",
      "### Attributes\n",
      "The nodes have a short list of attributes which are \n",
      "* gender;\n",
      "* number of posts on the wall;\n",
      "* locale, which represents the language setting of that nodes's facebook page.\n",
      "\n",
      "The network does not have any edge attrbiutes"
     ]
    },
    {
     "cell_type": "code",
     "collapsed": false,
     "input": [
      "## Read the GML graph of facebook friends. Beware of the issues with UTF8\n",
      "##  The studid GML standard explicitly uses ASCII. This is just silly!\n",
      "##  UTF8 should be stored in HTM entitites &uXXXX;\n",
      "## Used the first hit in Google to conver the UTF8 into HTML enities:\n",
      "##    http://konieczny.be/unicode.html\n",
      "G = nx.read_gml( path =\n",
      "\t\"./data/ha5/huge_100004196072232_2015_03_24_11_20_1d58b0ecdf7713656ebbf1a177e81fab.gml\", relabel = False )"
     ],
     "language": "python",
     "metadata": {},
     "outputs": []
    },
    {
     "cell_type": "markdown",
     "metadata": {},
     "source": [
      "The order of a network $G=(V,E)$ is $|V|$ and the size is $|E|$."
     ]
    },
    {
     "cell_type": "code",
     "collapsed": false,
     "input": [
      "print \"The network G is of the order %d. Its size is %d.\" % ( G.number_of_nodes( ), G.number_of_edges( ) )"
     ],
     "language": "python",
     "metadata": {},
     "outputs": []
    },
    {
     "cell_type": "markdown",
     "metadata": {},
     "source": [
      "### Visualisation"
     ]
    },
    {
     "cell_type": "markdown",
     "metadata": {},
     "source": [
      "It is always good to have a nice and attractive picture in a study. "
     ]
    },
    {
     "cell_type": "code",
     "collapsed": false,
     "input": [
      "deg = G.degree( )\n",
      "fig = plt.figure( figsize = (16,12) )\n",
      "axs = fig.add_subplot( 1,1,1, axisbg = 'black' )\n",
      "nx.draw_networkx( G, with_labels = False, ax = axs,\n",
      "     cmap = plt.cm.Purples, node_color = deg.values( ), edge_color = \"magenta\",\n",
      "     nodelist = deg.keys( ), node_size = [ 100 * np.log( d + 1 ) for d in deg.values( ) ],\n",
      "     pos = nx.fruchterman_reingold_layout( G ), )"
     ],
     "language": "python",
     "metadata": {},
     "outputs": []
    },
    {
     "cell_type": "markdown",
     "metadata": {},
     "source": [
      "Let's have a look at connected components, since the plot suggests, that the graph is not connected."
     ]
    },
    {
     "cell_type": "code",
     "collapsed": false,
     "input": [
      "CC = sorted( nx.connected_components( G ), key = len, reverse = True )\n",
      "for i, c in enumerate( CC, 1 ):\n",
      "    row = \", \".join( [ G.node[ n ][ 'label' ] for n in c] )\n",
      "    print \"%#2d (%d)\\t\"%(i, len(c)), ( row )[:100].strip() + (\" ...\" if len( row ) > 100 else \"\" )"
     ],
     "language": "python",
     "metadata": {},
     "outputs": []
    },
    {
     "cell_type": "markdown",
     "metadata": {},
     "source": [
      "The largest community connected component represents family, my acquaintances at shool ($\\leq 2003$) and in university ($2003-2009$) and the second largest component are people I met at Oxford Royale Summer School in 2012. The one-node are either old acquaintances, select colleagues from work, instructors et c.  "
     ]
    },
    {
     "cell_type": "markdown",
     "metadata": {},
     "source": [
      "Since the largest component is an order of magnitude larger than hte next biggest, I decide to focus just on it, rather than the whole network. In fact this convers almost $\\frac{91}{121}\\approx 75\\%$ of vertices, and $\\frac{1030}{1091} \\approx 94\\%$ of edges."
     ]
    },
    {
     "cell_type": "code",
     "collapsed": false,
     "input": [
      "H = G.subgraph( CC[ 0 ] )\n",
      "print \"The largest component is of the order %d. Its size is %d.\" % ( H.number_of_nodes( ), H.number_of_edges( ) )"
     ],
     "language": "python",
     "metadata": {},
     "outputs": []
    },
    {
     "cell_type": "markdown",
     "metadata": {},
     "source": [
      "Let's plot the subgraph and study the its degree distribution."
     ]
    },
    {
     "cell_type": "code",
     "collapsed": false,
     "input": [
      "deg = H.degree( )\n",
      "fig = plt.figure( figsize = (16, 6) )\n",
      "axs = fig.add_subplot( 1,2,1, axisbg = 'black', title = \"Master cluster\", )\n",
      "nx.draw_networkx( H, with_labels = False, ax = axs,\n",
      "     cmap = plt.cm.Oranges, node_color = deg.values( ), edge_color = \"cyan\",\n",
      "     nodelist = deg.keys( ), node_size = [ d * 10 for d in deg.values( ) ],\n",
      "     pos = nx.fruchterman_reingold_layout( G ), )\n",
      "## Degree distribution\n",
      "v, f = np.unique( nx.degree( H ).values( ), return_counts = True)\n",
      "axs = fig.add_subplot( 1,2,2, xlabel = \"Degree\", ylabel = \"Frequency\", title = \"Node degree frequency\" )\n",
      "axs.plot( v, f, \"ob\" )"
     ],
     "language": "python",
     "metadata": {},
     "outputs": []
    },
    {
     "cell_type": "code",
     "collapsed": false,
     "input": [
      "from scipy.stats import rankdata\n",
      "def mean_excess( data ) :\n",
      "    data = np.array( sorted( data, reverse = True ) )\n",
      "    ranks = rankdata( data, method = 'max' )\n",
      "    excesses = np.array( np.unique( len( data ) - ranks ), dtype = np.int )\n",
      "    thresholds = data[ excesses ]\n",
      "    mean_excess = np.cumsum( data )[ excesses ] / ( excesses + 0.0 ) - thresholds\n",
      "    return thresholds, mean_excess\n"
     ],
     "language": "python",
     "metadata": {},
     "outputs": []
    },
    {
     "cell_type": "markdown",
     "metadata": {},
     "source": [
      "### Degree distribution\n",
      "A useful tool for exploring the tail behaviour of sample is the **M**ean **E**xcess plot, defined as the  \n",
      "\n",
      "$$M(u) = \\mathbb{E}\\Big(\\Big. X-u\\,\\big.\\big\\rvert\\,X\\geq u \\Big.\\Big)$$\n",
      "of which the emprical counterpart is  \n",
      "$$\\hat{M}(u) = {\\Big(\\sum_{i=1}^n 1_{x_i\\geq u}\\Big)^{-1}}\\sum_{i=1}^n (x_i-u) 1_{x_i\\geq u}$$\n",
      "The key properties of $M(u)$ are\n",
      " * it steadily increases for power-law tails and the steeper the slope the smaller is the exponent;\n",
      " * it levels for exponential tails (heurstically: the case when $\\alpha\\to \\infty$ is similar to an exponential tail);\n",
      " * it decays towards zero for a tail of a compactly supported distribution.\n",
      "When dealing with the empirical mean-excesses one looks for the trend in the large thresholds to discern behaviour, necessarily bearing in mind that in that region the varinace of the $\\hat{M}(u)$ grows."
     ]
    },
    {
     "cell_type": "code",
     "collapsed": false,
     "input": [
      "plt.figure( figsize = ( 8, 6 ) ) \n",
      "u, m = mean_excess( H.degree().values())\n",
      "plt.plot( u, m )\n",
      "plt.title( \"Mean Excess polt of node-degree\" )\n",
      "plt.xlabel( \"Threshold\" )\n",
      "plt.ylabel( \"Expected excess over the threshold\")"
     ],
     "language": "python",
     "metadata": {},
     "outputs": []
    },
    {
     "cell_type": "markdown",
     "metadata": {},
     "source": [
      "The Mean Excess plot does seems to indicate that the node degree does not follow a scale free distribution. Indeed, the plot levels off as ita approaches the value $50$. The rightmost spike is in the region where the variance of the estimate of the conditional expectation is extremely high, which is why this artefact of finite sample may be ignored."
     ]
    },
    {
     "cell_type": "markdown",
     "metadata": {},
     "source": [
      "### Computatiion of the clustering coefficient\n",
      "The average clustering coefficient of a graph $G=(V,E)$ is defined by the following formula :  \n",
      "\n",
      "$$\\bar{c} = \\frac{1}{n}\\sum_{x\\in V}c_x$$\n",
      "where $n=|V|$ and $c_x$ is the local clustering coefficient of vertex $x\\in V$ defined below.\n",
      "\n",
      "The local (trinagular) clustering coefficient of a node $x\\in V$ is defined as the ratio of the number of unique edge triangles containing $x$ to the number of unique triangles a vertex has in a complete graph of order $\\delta_x$ -- the degree of $x$ in $G$.\n",
      "\n",
      "The expression for $c_x$ is\n",
      "$$c_x = \\frac{1}{\\delta_x (\\delta_x-1)} \\sum_{u\\neq x} \\sum_{v\\neq x,u} 1_{xu} 1_{uv} 1_{vx} = \\frac{1}{\\delta_x (\\delta_x-1)} \\#_{x}$$  \n",
      "\n",
      "where $1_{ij}$ is the indicator equal to $1$ if the edge (undirected) $(i,j)\\in E$ and $0$ otherwise."
     ]
    },
    {
     "cell_type": "code",
     "collapsed": false,
     "input": [
      "print \"This subgraph's clustering coefficient is %.3f.\" % np.mean( nx.clustering( H ).values( ) )"
     ],
     "language": "python",
     "metadata": {},
     "outputs": []
    },
    {
     "cell_type": "code",
     "collapsed": false,
     "input": [
      "G.node[0]"
     ],
     "language": "python",
     "metadata": {},
     "outputs": []
    },
    {
     "cell_type": "code",
     "collapsed": false,
     "input": [
      "## Find the connected components using the BFS graph traversal\n",
      "CC = nx.connected_components( G )\n",
      "\n",
      "## Commected components are most likely the acquaintances i met in various communities\n",
      "## However a better community detection algorithm might consider the volume of paths\n",
      "##  through any particular node, with the view to not fusing weakly connected groups.\n",
      "communities = [ [G.node[ n ][ 'label' ] for n in c] for c in CC ]\n",
      "\n",
      "## Print each member of every community.\n",
      "print \"\\n\\n\".join( [ \", \".join( sorted( group ) ) for group in communities ] )\n",
      "\n",
      "## Study the largest connected component in the graph\n",
      "H = [ G.subgraph( c ) for c in nx.connected_components( G ) ]\n",
      "deg = H[ 0 ].degree( )\n",
      "\n",
      "## Show the radius of the component and plot it\n",
      "print \"The largest community has radius %d\" % nx.radius( H[ 0 ] )\n",
      "plt.figure( figsize = (10, 10) )\n",
      "nx.draw_networkx( H[ 0 ],\n",
      "                 pos = nx.spring_layout( H[ 0 ] ),\n",
      "                 nodelist = sorted( deg, key = deg.get ),\n",
      "                 # nodelist = deg.keys( ),\n",
      "                 # node_size = [ d * 10 for d in deg.values( ) ],\n",
      "                 node_color = deg.values( ),\n",
      "                 font_size = 8,\n",
      "                 cmap = plt.cm.Purples,)"
     ],
     "language": "python",
     "metadata": {},
     "outputs": []
    }
   ],
   "metadata": {}
  }
 ]
}