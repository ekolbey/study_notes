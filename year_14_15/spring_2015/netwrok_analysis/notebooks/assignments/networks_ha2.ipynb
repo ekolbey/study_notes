{
 "metadata": {
  "name": "",
  "signature": "sha256:aa6c80da5df01f5ccd9191e80fccf211f05a1f7016bd66ff0ff298f62ece0d25"
 },
 "nbformat": 3,
 "nbformat_minor": 0,
 "worksheets": [
  {
   "cells": [
    {
     "cell_type": "heading",
     "level": 1,
     "metadata": {},
     "source": [
      "<center>Structural Analysis and Visualization of Networks</center>"
     ]
    },
    {
     "cell_type": "heading",
     "level": 2,
     "metadata": {},
     "source": [
      "<center>Home Assignment #2: Network models</center>"
     ]
    },
    {
     "cell_type": "heading",
     "level": 3,
     "metadata": {},
     "source": [
      "<center>Student: *Nazarov Ivan*</center>"
     ]
    },
    {
     "cell_type": "heading",
     "level": 4,
     "metadata": {},
     "source": [
      "<hr />\n",
      "General Information"
     ]
    },
    {
     "cell_type": "markdown",
     "metadata": {},
     "source": [
      "**Due Date:** 18.02.2015 23:59 <br \\>\n",
      "**Late submission policy:** -0.2 points per day <br \\>\n",
      "\n",
      "\n",
      "Please send your reports to <mailto:leonid.e.zhukov@gmail.com> and <mailto:shestakoffandrey@gmail.com> with message subject of the following structure:<br \\> **[HSE Networks 2015] *Nazarov* *Ivan* HA*1***\n",
      "\n",
      "Support your computations with figures and comments. <br \\>\n",
      "If you are using IPython Notebook you may use this file as a starting point of your report.<br \\>\n",
      "<br \\>\n",
      "<hr \\>"
     ]
    },
    {
     "cell_type": "heading",
     "level": 2,
     "metadata": {},
     "source": [
      "Problems"
     ]
    },
    {
     "cell_type": "heading",
     "level": 3,
     "metadata": {},
     "source": [
      "Task 1"
     ]
    },
    {
     "cell_type": "markdown",
     "metadata": {},
     "source": [
      "Consider Barabasi and Albert dynamical grow model. Two main ingredients of this model are *network growing* and *prefferential attachment*. Implement two restricted B&A-based models:\n",
      "<br \\>\n",
      "\n",
      "**Model A**\n",
      "<br \\>\n",
      "Lack of prefferential attachment, that is at each time-step form edges uniformly at random while network keeps growing.\n",
      "\n",
      "**Model B**\n",
      "<br \\>\n",
      "Lack of growing, that is fix total number of nodes, on each time-step randomly choose one and form edges with prefferential attachment.\n",
      "<br \\>\n",
      "\n",
      "1. Generate networks according to the models above ($N > 1000$ nodes)\n",
      "2. Compute CDF/PDF, describe the distribution and compute\\describe its properties.\n",
      "3. Illustate the following dependencies: \n",
      "    * average path length to the number of nodes\n",
      "    * average clustering coefficient to the number of nodes\n",
      "    * average node degee to the nodes \"age\"\n",
      "4. Is scale-free property conserved in these models?\n",
      "\n",
      "Analyse results with respect to various parameter settings"
     ]
    },
    {
     "cell_type": "markdown",
     "metadata": {},
     "source": [
      "## Solution \\#1"
     ]
    },
    {
     "cell_type": "markdown",
     "metadata": {},
     "source": [
      "First and foremost, but solely for reference purposes, let's state the Barabasi-Albert dynamical growth model in its original form.\n",
      "\n",
      "The evolution of the network is represented by a sequence of graphs ${(G_n)}_{n\\geq0}$ with $G_n = \\big(V_n, E_n\\big)$.\n",
      "The process starts with a fully connected graph $G_0$ of $m_0$ nodes. The initial number of vertices is usually a small number.  At every moment $n$ the network $G_n$ undergoes growth, which can be divided in two phases  \n",
      " * a new vertex $w'\\notin V_n$ is introduced into the network: $V_{n+1} = V_n \\cup \\{w'\\}$;\n",
      " * the vertex forms $m$ links to pre-existing nodes chosen at random without replacement according to some distribution $D_n$ over the nodes $V_n$\n",
      "\n",
      "In the Barabasi-Albert growth model $D_n$ is the ``preferential connection'' distribution: for every $v\\in V_n$\n",
      "$$\\mathbb{P}\\big(w'\\leadsto v\\big) = \\frac{\\delta_n(v)}{\\sum_{u\\in V_n}\\delta_n(u) }$$\n",
      "where $\\delta_n(v)$ is the degree of vertex $v$ in graph $G_n$."
     ]
    },
    {
     "cell_type": "code",
     "collapsed": false,
     "input": [
      "## As usual, attach the numpy and the netwrokx modules\n",
      "import networkx as nx\n",
      "import numpy as np\n",
      "import numpy.random as rnd\n",
      "\n",
      "import matplotlib.pyplot as plt\n",
      "\n",
      "%matplotlib inline\n",
      "\n",
      "def ba_valency( G ) :\n",
      "## Use the numpy's routine for sampling w/o replacement\n",
      "    deg = G.degree( )\n",
      "## For some reason the call to $order( G )$ takes exceptonally long time to return\n",
      "##  But still, we're need the numebr of edges here.\n",
      "    deg_sum = G.number_of_edges() * 2.0\n",
      "## Get the distribution of the valency of the existing nodes\n",
      "    return np.fromiter( (deg[n]/deg_sum for n in G.nodes_iter( ) ),\n",
      "        count = len( G.nodes( ) ), dtype = np.float )\n",
      "\n",
      "## The Barabasi-Albert growth step: a graph G and a vertex v\n",
      "def ba_step( G, m = 5, grow = True, uniform = False ) :\n",
      "## 0. Make a copy of the graph\n",
      "    H = G.copy( )\n",
      "## 1. Add a vertex to the new one\n",
      "    if grow :\n",
      "## Create a new vertex: label it using ``stack allocation''. \n",
      "        v = G.number_of_nodes( )\n",
      "        H.add_node( v )\n",
      "    else :\n",
      "## Pick an existing at random\n",
      "        v = rnd.choice( nx.nodes( G ), size = 1 )[0]\n",
      "## 2. Attach the new vertex to the existing node accroding to their valency or uniformly\n",
      "    theta = None if uniform else ba_valency( G )\n",
      "## Pick out nodes to connect to without replacement from $\\theta$\n",
      "    U = rnd.choice( nx.nodes( G ), size = m, p = theta, replace = False )\n",
      "    H.add_edges_from( [ (v, u) for u in U ] )\n",
      "## Return\n",
      "    return H\n",
      "## https://networkx.github.io/documentation/latest/reference/classes.graph.html\n",
      "\n",
      "## Define a proper routine for depicting a graph evolution step\n",
      "def draw_frame( G ):\n",
      "    plt.clf( )\n",
      "    nx.draw( G, pos = nx.circular_layout( G ) )\n",
      "    plt.draw( )\n",
      "\n",
      "## Initialize the model\n",
      "m0 = 10\n",
      "\n",
      "def run( G, N = 1000 ) :\n",
      "    import time as tm\n",
      "    for f in xrange( N ) :\n",
      "        G = ba_step( G, m = 2, grow = True, uniform = True )\n",
      "        draw_frame( G )\n",
      "        tm.sleep( .15 )\n",
      "\n",
      "## Initialize a fully connected graph of order $m_0$\n",
      "G = nx.complete_graph( m0 )\n",
      "# G = nx.empty_graph( m0 )\n",
      "draw_frame( G )\n",
      "run( G, 100 )\n",
      "\n",
      "## Model A retains growth but does not include preferential attachment.\n",
      "##  The probability of a new node connecting to any pre-existing node is equal. \n",
      "## Model B retains preferential attachment but eliminates growth.\n",
      "##  The model begins with a fixed number of disconnected nodes and adds links,\n",
      "##  preferentially choosing high degree nodes as link destinations."
     ],
     "language": "python",
     "metadata": {},
     "outputs": []
    },
    {
     "cell_type": "code",
     "collapsed": false,
     "input": [
      "theta\n",
      "\n"
     ],
     "language": "python",
     "metadata": {},
     "outputs": []
    },
    {
     "cell_type": "markdown",
     "metadata": {},
     "source": [
      "<hr \\><!-- This is a Blank Line -->"
     ]
    },
    {
     "cell_type": "heading",
     "level": 3,
     "metadata": {},
     "source": [
      "<hr />\n",
      "Task 2"
     ]
    },
    {
     "cell_type": "markdown",
     "metadata": {},
     "source": [
      "Consider the following  \"Vertex copying model\" of growing network.\n",
      "\n",
      "At every time step a random vertex from already existing vertices is selected and duplicated together with all edges, such that  every edge of the  vertex\n",
      "* is copied with probability $q$\n",
      "* is rewired to any other randomly selected vertex with probability $1-q$\n",
      "\n",
      "\n",
      "Starting state is defined by some small number of randomly connected vertices.\n",
      "\n",
      "The model can generate both directed and undirected networks.\n",
      "\n",
      "1. Generate  graphs based on the model ($N > 1000$ nodes)\n",
      "2. Compute CDF/PDF, describe the distribution and compute\\describe its properties.\n",
      "3. Illustate the following dependencies: \n",
      "    * average path length to the number of nodes\n",
      "    * average clustering coefficient to the number of nodes\n",
      "    * average node degee to the nodes \"age\"\n",
      "    \n",
      "Analyse results with respect to various parameter settings"
     ]
    }
   ],
   "metadata": {}
  }
 ]
}