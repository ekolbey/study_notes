{
 "metadata": {
  "name": "",
  "signature": "sha256:f0fa96e02083cb0c7fec05ccf16b88e0bfb948814134b212545d59b66b2db0e8"
 },
 "nbformat": 3,
 "nbformat_minor": 0,
 "worksheets": [
  {
   "cells": [
    {
     "cell_type": "heading",
     "level": 1,
     "metadata": {},
     "source": [
      "<center>Structural Analysis and Visualization of Networks</center>"
     ]
    },
    {
     "cell_type": "heading",
     "level": 2,
     "metadata": {},
     "source": [
      "<center>Home Assignment #2: Network models</center>"
     ]
    },
    {
     "cell_type": "heading",
     "level": 3,
     "metadata": {},
     "source": [
      "<center>Student: *Nazarov Ivan*</center>"
     ]
    },
    {
     "cell_type": "heading",
     "level": 4,
     "metadata": {},
     "source": [
      "<hr />\n",
      "General Information"
     ]
    },
    {
     "cell_type": "markdown",
     "metadata": {},
     "source": [
      "**Due Date:** 18.02.2015 23:59 <br \\>\n",
      "**Late submission policy:** -0.2 points per day <br \\>\n",
      "\n",
      "\n",
      "Please send your reports to <mailto:leonid.e.zhukov@gmail.com> and <mailto:shestakoffandrey@gmail.com> with message subject of the following structure:<br \\> **[HSE Networks 2015] *Nazarov* *Ivan* HA*1***\n",
      "\n",
      "Support your computations with figures and comments. <br \\>\n",
      "If you are using IPython Notebook you may use this file as a starting point of your report.<br \\>\n",
      "<br \\>\n",
      "<hr \\>"
     ]
    },
    {
     "cell_type": "heading",
     "level": 2,
     "metadata": {},
     "source": [
      "Problems"
     ]
    },
    {
     "cell_type": "heading",
     "level": 3,
     "metadata": {},
     "source": [
      "Task 1"
     ]
    },
    {
     "cell_type": "markdown",
     "metadata": {},
     "source": [
      "Consider Barabasi and Albert dynamical grow model. Two main ingredients of this model are *network growing* and *prefferential attachment*. Implement two restricted B&A-based models:\n",
      "<br \\>\n",
      "\n",
      "**Model A**\n",
      "<br \\>\n",
      "Lack of prefferential attachment, that is at each time-step form edges uniformly at random while network keeps growing.\n",
      "\n",
      "**Model B**\n",
      "<br \\>\n",
      "Lack of growing, that is fix total number of nodes, on each time-step randomly choose one and form edges with prefferential attachment.\n",
      "<br \\>\n",
      "\n",
      "1. Generate networks according to the models above ($N > 1000$ nodes)\n",
      "2. Compute CDF/PDF, describe the distribution and compute\\describe its properties.\n",
      "3. Illustate the following dependencies: \n",
      "    * average path length to the number of nodes\n",
      "    * average clustering coefficient to the number of nodes\n",
      "    * average node degee to the nodes \"age\"\n",
      "4. Is scale-free property conserved in these models?\n",
      "\n",
      "Analyse results with respect to various parameter settings"
     ]
    },
    {
     "cell_type": "markdown",
     "metadata": {},
     "source": [
      "<hr/><hr/><br/>"
     ]
    },
    {
     "cell_type": "markdown",
     "metadata": {},
     "source": [
      "## Preamble\n",
      "We shall include all the necessary modules here, before any analysis."
     ]
    },
    {
     "cell_type": "code",
     "collapsed": false,
     "input": [
      "## As usual, attach the numpy and the netwrokx modules\n",
      "import networkx as nx\n",
      "import numpy as np\n",
      "import numpy.random as rnd\n",
      "\n",
      "import matplotlib.pyplot as plt\n",
      "\n",
      "%matplotlib inline"
     ],
     "language": "python",
     "metadata": {},
     "outputs": []
    },
    {
     "cell_type": "markdown",
     "metadata": {},
     "source": [
      "## Solution \\#1"
     ]
    },
    {
     "cell_type": "markdown",
     "metadata": {},
     "source": [
      "First and foremost, but solely for reference purposes, let's state the Barabasi-Albert dynamical growth model in its original form.\n",
      "\n",
      "The evolution of the network is represented by a sequence of graphs ${(G_n)}_{n\\geq0}$ with $G_n = \\big(V_n, E_n\\big)$.\n",
      "The process starts with a fully connected graph $G_0$ of $m_0$ nodes. The initial number of vertices is usually a small number.  At every moment $n$ the network $G_n$ undergoes growth, which can be divided in two phases  \n",
      " * a new vertex $w'\\notin V_n$ is introduced into the network: $V_{n+1} = V_n \\cup \\{w'\\}$;\n",
      " * the vertex forms $m$ links to pre-existing nodes chosen at random without replacement according to some distribution $D_n$ over the nodes $V_n$"
     ]
    },
    {
     "cell_type": "markdown",
     "metadata": {},
     "source": [
      "In the Barabasi-Albert growth model $D_n$ is the ``preferential connection'' distribution: for every $v\\in V_n$\n",
      "$$\\mathbb{P}\\big(w'\\leadsto v\\big) = \\frac{\\delta_n(v)}{\\sum_{u\\in V_n}\\delta_n(u) }$$\n",
      "where $\\delta_n(v)$ is the degree of vertex $v$ in graph $G_n$.\n",
      "Listed below is the procedure, which for a given graph $G$, computes the required distribution."
     ]
    },
    {
     "cell_type": "code",
     "collapsed": false,
     "input": [
      "def ba_valency( G, exclude = [] ) :\n",
      "## Use the numpy's routine for sampling w/o replacement\n",
      "    deg = G.degree( )\n",
      "## For some reason the call to $order( G )$ takes exceptonally long time to return\n",
      "##  But still, we're need the numebr of edges here.\n",
      "    deg_sum = G.number_of_edges() * 2.0\n",
      "## Get the distribution of the valency of the existing nodes\n",
      "    return np.fromiter( (deg[n]/deg_sum for n in G.nodes_iter( ) if not n in exclude ),\n",
      "        count = len( G.nodes( ) ), dtype = np.float )"
     ],
     "language": "python",
     "metadata": {},
     "outputs": []
    },
    {
     "cell_type": "markdown",
     "metadata": {},
     "source": [
      "A has been mentioned above the basic growth step in the original Barabasi-Albert consiste of two pahses:\n",
      " 1. growth;\n",
      " 2. attachment.\n",
      "\n",
      "However it might be insightful to have the ability to toggle these phases. The code below implements such a functionality."
     ]
    },
    {
     "cell_type": "code",
     "collapsed": false,
     "input": [
      "## The Barabasi-Albert growth step of a graph G\n",
      "## https://networkx.github.io/documentation/latest/reference/classes.graph.html\n",
      "def ba_step( G, m = 5, grow = True, uniform = False ) :\n",
      "## 0. Make a copy of the graph\n",
      "    H = G.copy( )\n",
      "## 1. Add a vertex to the new one\n",
      "    if grow :\n",
      "## Create a new vertex: label it using ``stack allocation''. \n",
      "        v = G.number_of_nodes( )\n",
      "        H.add_node( v )\n",
      "    else :\n",
      "## Pick an existing one at random\n",
      "        v = rnd.choice( nx.nodes( G ), size = 1 )[ 0 ]\n",
      "## 2. Attach the new vertex to the existing node accroding to their valency or uniformly\n",
      "    theta = None if uniform else ba_valency( G )\n",
      "## Pick out nodes to connect to without replacement from $\\theta$\n",
      "    U = rnd.choice( nx.nodes( G ), size = m, p = theta, replace = False )\n",
      "    H.add_edges_from( [ ( v, u ) for u in U ] )\n",
      "## Return an evolved network\n",
      "    return H"
     ],
     "language": "python",
     "metadata": {},
     "outputs": []
    },
    {
     "cell_type": "markdown",
     "metadata": {},
     "source": [
      "For convenience let's define wrappers for steps of the original and the restricted models."
     ]
    },
    {
     "cell_type": "code",
     "collapsed": false,
     "input": [
      "def ba_step_basic( G, m = 5 ) :\n",
      "    return ba_step( G, m, True, False )"
     ],
     "language": "python",
     "metadata": {},
     "outputs": []
    },
    {
     "cell_type": "markdown",
     "metadata": {},
     "source": [
      "In **model A** the network grows with time but the newly added nodes are attached to the existing ones uniformly at random."
     ]
    },
    {
     "cell_type": "code",
     "collapsed": false,
     "input": [
      "def ba_step_a( G, m = 5 ) :\n",
      "    return ba_step( G, m, True, True )"
     ],
     "language": "python",
     "metadata": {},
     "outputs": []
    },
    {
     "cell_type": "markdown",
     "metadata": {},
     "source": [
      "**Model B** retains the preferential attachment phase, but foregoes the growth step. Instead, a random existing node is picked and is linked with other nodes, preferentially chosing vertices with high degree.  "
     ]
    },
    {
     "cell_type": "code",
     "collapsed": false,
     "input": [
      "def ba_step_b( G, m = 5 ) :\n",
      "    return ba_step( G, m, False, False )"
     ],
     "language": "python",
     "metadata": {},
     "outputs": []
    },
    {
     "cell_type": "markdown",
     "metadata": {},
     "source": [
      "Just for fun, setup a method to animate the evolution of graphs. However this is not a good solution to the problem."
     ]
    },
    {
     "cell_type": "code",
     "collapsed": false,
     "input": [
      "## This does not seem like a seamless way to generate animated plots.\n",
      "## Ensure that ffmpeg library is installed, since without it evolution\n",
      "##  animations won't work.\n",
      "\n",
      "# http://nbviewer.ipython.org/url/jakevdp.github.io/downloads/notebooks/AnimationEmbedding.ipynb\n",
      "# http://jakevdp.github.io/blog/2012/09/05/quantum-python/\n",
      "from tempfile import NamedTemporaryFile\n",
      "\n",
      "## Convert the matplotlib animation into a video clip, stored locally in\n",
      "##  the object in base64 format.\n",
      "CONTENT_TYPE = \"\"\"data:video/x-m4v;base64,{0}\"\"\"\n",
      "def anim_to_html( anim ) :\n",
      "    if not hasattr( anim, '_encoded_video' ) :\n",
      "        with NamedTemporaryFile( suffix = '.mp4' ) as f :\n",
      "            anim.save( f.name, fps = 15, extra_args = [ '-vcodec', 'libx264', '-pix_fmt', 'yuv420p' ] )\n",
      "            video = open( f.name, \"rb\" ).read( )\n",
      "            anim._encoded_video = video.encode( \"base64\" )\n",
      "    return CONTENT_TYPE.format( anim._encoded_video )\n",
      "\n",
      "## Use direct HTML output capabilities of iPython\n",
      "from IPython.display import HTML\n",
      "## This node is going to be used for embedding video\n",
      "VIDEO_TAG = \"\"\"<video controls><source src=\"{0}\" type=\"video/mp4\">\n",
      "Your browser does not support the video tag.</video>\"\"\"\n",
      "def display_animation( anim ) :\n",
      "## Close and output\n",
      "    plt.close( anim._fig )\n",
      "    return HTML( VIDEO_TAG.format( anim_to_html( anim ) ) )"
     ],
     "language": "python",
     "metadata": {},
     "outputs": []
    },
    {
     "cell_type": "markdown",
     "metadata": {},
     "source": [
      "Analyse results with respect to various parameter settings  \n",
      "1. Generate networks according to the models above ($N > 1000$ nodes)\n",
      "2. Compute CDF/PDF, describe the distribution and compute/describe its properties.\n",
      "3. Illustate the following dependencies:  \n",
      " * average path length to the number of nodes  \n",
      " * average clustering coefficient to the number of nodes  \n",
      " * average node degee to the nodes \"age\"\n",
      "4. Is scale-free property conserved in these models?"
     ]
    },
    {
     "cell_type": "code",
     "collapsed": false,
     "input": [
      "from matplotlib import animation\n",
      "m0 = 21\n",
      "G = nx.complete_graph( m0 )\n",
      "# G = nx.empty_graph( m0 )\n",
      "fig = plt.figure( figsize = (8,6) )\n",
      "axe = fig.add_subplot( 111 )\n",
      "\n",
      "## \n",
      "def animate( i, step, m ) :\n",
      "    global G\n",
      "    G = step( G, m )\n",
      "    axe.clear()\n",
      "    nx.draw( G, pos = nx.circular_layout( G ), ax = axe )\n",
      "\n",
      "## Animate the series of graphs \n",
      "anim = animation.FuncAnimation(fig, animate, frames=1000, interval=10, blit=True, fargs = [ba_step_basic, 20] )\n",
      "\n",
      "# call our new function to display the animation\n",
      "display_animation( anim )\n"
     ],
     "language": "python",
     "metadata": {},
     "outputs": []
    },
    {
     "cell_type": "code",
     "collapsed": false,
     "input": [
      "nx.draw( G, pos = nx.circular_layout( G ), node_size = 10, linewidths = .5, edge_color = 'b' )\n",
      "\n"
     ],
     "language": "python",
     "metadata": {},
     "outputs": []
    },
    {
     "cell_type": "markdown",
     "metadata": {},
     "source": [
      "<hr \\><!-- This is a Blank Line -->"
     ]
    },
    {
     "cell_type": "heading",
     "level": 3,
     "metadata": {},
     "source": [
      "<hr />\n",
      "Task 2"
     ]
    },
    {
     "cell_type": "markdown",
     "metadata": {},
     "source": [
      "Consider the following  \"Vertex copying model\" of growing network.\n",
      "\n",
      "At every time step a random vertex from already existing vertices is selected and duplicated together with all edges, such that  every edge of the  vertex\n",
      "* is copied with probability $q$\n",
      "* is rewired to any other randomly selected vertex with probability $1-q$\n",
      "\n",
      "\n",
      "Starting state is defined by some small number of randomly connected vertices.\n",
      "\n",
      "The model can generate both directed and undirected networks.\n",
      "\n",
      "1. Generate  graphs based on the model ($N > 1000$ nodes)\n",
      "2. Compute CDF/PDF, describe the distribution and compute\\describe its properties.\n",
      "3. Illustate the following dependencies: \n",
      "    * average path length to the number of nodes\n",
      "    * average clustering coefficient to the number of nodes\n",
      "    * average node degee to the nodes \"age\"\n",
      "    \n",
      "Analyse results with respect to various parameter settings"
     ]
    }
   ],
   "metadata": {}
  }
 ]
}