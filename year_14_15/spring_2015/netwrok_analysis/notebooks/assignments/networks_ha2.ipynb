{
 "metadata": {
  "name": "",
  "signature": "sha256:5887f7f7b0cdc259a130a8da1a111357a55caef49e1fe71245e8b8d7b0a0c80a"
 },
 "nbformat": 3,
 "nbformat_minor": 0,
 "worksheets": [
  {
   "cells": [
    {
     "cell_type": "heading",
     "level": 1,
     "metadata": {},
     "source": [
      "<center>Structural Analysis and Visualization of Networks</center>"
     ]
    },
    {
     "cell_type": "heading",
     "level": 2,
     "metadata": {},
     "source": [
      "<center>Home Assignment #2: Network models</center>"
     ]
    },
    {
     "cell_type": "heading",
     "level": 3,
     "metadata": {},
     "source": [
      "<center>Student: *Nazarov Ivan*</center>"
     ]
    },
    {
     "cell_type": "heading",
     "level": 4,
     "metadata": {},
     "source": [
      "<hr />\n",
      "General Information"
     ]
    },
    {
     "cell_type": "markdown",
     "metadata": {},
     "source": [
      "**Due Date:** 18.02.2015 23:59 <br \\>\n",
      "**Late submission policy:** -0.2 points per day <br \\>\n",
      "\n",
      "\n",
      "Please send your reports to <mailto:leonid.e.zhukov@gmail.com> and <mailto:shestakoffandrey@gmail.com> with message subject of the following structure:<br \\> **[HSE Networks 2015] *Nazarov* *Ivan* HA*1***\n",
      "\n",
      "Support your computations with figures and comments. <br \\>\n",
      "If you are using IPython Notebook you may use this file as a starting point of your report.<br \\>\n",
      "<br \\>\n",
      "<hr \\>"
     ]
    },
    {
     "cell_type": "heading",
     "level": 2,
     "metadata": {},
     "source": [
      "Problems"
     ]
    },
    {
     "cell_type": "heading",
     "level": 3,
     "metadata": {},
     "source": [
      "Task 1"
     ]
    },
    {
     "cell_type": "markdown",
     "metadata": {},
     "source": [
      "Consider Barabasi and Albert dynamical grow model. Two main ingredients of this model are *network growing* and *prefferential attachment*. Implement two restricted B&A-based models:\n",
      "<br \\>\n",
      "\n",
      "**Model A**\n",
      "<br \\>\n",
      "Lack of prefferential attachment, that is at each time-step form edges uniformly at random while network keeps growing.\n",
      "\n",
      "**Model B**\n",
      "<br \\>\n",
      "Lack of growing, that is fix total number of nodes, on each time-step randomly choose one and form edges with prefferential attachment.\n",
      "<br \\>\n",
      "\n",
      "1. Generate networks according to the models above ($N > 1000$ nodes)\n",
      "2. Compute CDF/PDF, describe the distribution and compute\\describe its properties.\n",
      "3. Illustate the following dependencies: \n",
      "    * average path length to the number of nodes\n",
      "    * average clustering coefficient to the number of nodes\n",
      "    * average node degee to the nodes \"age\"\n",
      "4. Is scale-free property conserved in these models?\n",
      "\n",
      "Analyse results with respect to various parameter settings"
     ]
    },
    {
     "cell_type": "markdown",
     "metadata": {},
     "source": [
      "<hr/><hr/><br/>"
     ]
    },
    {
     "cell_type": "markdown",
     "metadata": {},
     "source": [
      "## Preamble\n",
      "We shall include all the necessary modules here, before any analysis."
     ]
    },
    {
     "cell_type": "code",
     "collapsed": true,
     "input": [
      "## As usual, attach the numpy and the netwrokx modules\n",
      "import networkx as nx\n",
      "import numpy as np\n",
      "import numpy.random as rnd\n",
      "\n",
      "import matplotlib.pyplot as plt\n",
      "\n",
      "%matplotlib inline"
     ],
     "language": "python",
     "metadata": {},
     "outputs": []
    },
    {
     "cell_type": "markdown",
     "metadata": {},
     "source": [
      "The code below is for service purposes only and does not concern the study itself. It attempts to make a video out of the matplotlib animation sequence."
     ]
    },
    {
     "cell_type": "code",
     "collapsed": true,
     "input": [
      "## This does not seem like a seamless way to generate animated plots.\n",
      "## Ensure that ffmpeg library is installed, since without it evolution\n",
      "##  animations won't work.\n",
      "\n",
      "# http://nbviewer.ipython.org/url/jakevdp.github.io/downloads/notebooks/AnimationEmbedding.ipynb\n",
      "# http://jakevdp.github.io/blog/2012/09/05/quantum-python/\n",
      "from tempfile import NamedTemporaryFile\n",
      "from matplotlib import animation\n",
      "\n",
      "## Convert the matplotlib animation into a video clip, stored locally in\n",
      "##  the object in base64 format.\n",
      "CONTENT_TYPE = \"\"\"data:video/x-m4v;base64,{0}\"\"\"\n",
      "def anim_to_html( anim ) :\n",
      "    if not hasattr( anim, '_encoded_video' ) :\n",
      "        with NamedTemporaryFile( suffix = '.mp4' ) as f :\n",
      "            anim.save( f.name, fps = 15, extra_args = [ '-vcodec', 'libx264', '-pix_fmt', 'yuv420p' ] )\n",
      "            video = open( f.name, \"rb\" ).read( )\n",
      "            anim._encoded_video = video.encode( \"base64\" )\n",
      "    return CONTENT_TYPE.format( anim._encoded_video )\n",
      "\n",
      "## Use direct HTML output capabilities of iPython\n",
      "from IPython.display import HTML\n",
      "## This node is going to be used for embedding video\n",
      "VIDEO_TAG = \"\"\"<video controls><source src=\"{0}\" type=\"video/mp4\">\n",
      "Your browser does not support the video tag.</video>\"\"\"\n",
      "def display_animation( anim ) :\n",
      "## Close and output\n",
      "    plt.close( anim._fig )\n",
      "    return HTML( VIDEO_TAG.format( anim_to_html( anim ) ) )"
     ],
     "language": "python",
     "metadata": {},
     "outputs": []
    },
    {
     "cell_type": "markdown",
     "metadata": {},
     "source": [
      "<br/>"
     ]
    },
    {
     "cell_type": "markdown",
     "metadata": {},
     "source": [
      "## Solution \\#1"
     ]
    },
    {
     "cell_type": "markdown",
     "metadata": {},
     "source": [
      "First and foremost, but solely for reference purposes, let's state the Barabasi-Albert dynamical growth model in its original form.\n",
      "\n",
      "The evolution of the network is represented by a sequence of graphs ${(G_n)}_{n\\geq0}$ with $G_n = \\big(V_n, E_n\\big)$.\n",
      "The process starts with a graph $G_0$ of $m_0$ nodes. The initial number of vertices is usually a small number.  At every moment $n$ the network $G_n$ undergoes evolution, which can be divided in two phases  \n",
      " * a new vertex $w'\\notin V_n$ is introduced into the network: $V_{n+1} = V_n \\cup \\{w'\\}$;\n",
      " * the vertex forms $m$ ($\\leq m_0$) links to pre-existing nodes chosen at random without replacement according to some distribution $D_n$ over the nodes $V_n$"
     ]
    },
    {
     "cell_type": "markdown",
     "metadata": {},
     "source": [
      "In the Barabasi-Albert growth model $D_n$ is the ``preferential connection'' distribution: for every $v\\in V_n$\n",
      "$$\\mathbb{P}\\big(w'\\leadsto v\\big) = \\frac{\\delta_n(v)}{\\sum_{u\\in V_n}\\delta_n(u) }$$\n",
      "where $\\delta_n(v)$ is the degree of vertex $v$ in graph $G_n$."
     ]
    },
    {
     "cell_type": "markdown",
     "metadata": {},
     "source": [
      "### Re-analysis of Barabasi-Albert model\n",
      "\n",
      "Note that in their exposition Barabasi-Albert never state that the initial network $G_0$ is connected : (see p.551 c.1 L 30-35 of [Barabasi, Albert; 1999]) \n",
      "> To incorporate the growing character of the network, starting with a small number ($m_0$) of vertices, at every time step we add a new vertex with $m$ ($\\leq \udbff\udc14m_0$) edges that link the new vertex to $m$ different vertices already present in the system.\n",
      "\n",
      "Furthermore : (see p.551 c.1 L 40-42 of [Barabasi, Albert; 1999])\n",
      "> After $t$ time steps, the model leads to a random network with $t\udbff\udc04 + m0$ vertices and $mt$ edges.\n",
      "\n",
      "Note that it is not ``at least $mt + (m_0-1)$ edges'' as it would have been, had the initial network $G_0$ been connected. The $m_0-1$ term comes form the fact that the minimal spanning tree is the minimal connected graph.\n",
      "\n",
      "It should be noted, however, that unless $m\\neq m_0$, the first attachment step actually brings about a connected star graph."
     ]
    },
    {
     "cell_type": "code",
     "collapsed": true,
     "input": [
      "## The original attachment distribution of Barabasi-Albert\n",
      "def ba_valency( G, nbunch = None ) :\n",
      "## Get the distribution of the valency of the existing nodes base on the observed\n",
      "##  connectivity and degrees.\n",
      "    deg = G.degree( nbunch )\n",
      "## For some reason the call to $order( G )$ takes exceptonally long time to return\n",
      "##  But still, we need the numebr of edges here.\n",
      "    deg_sum = float( sum( deg.values( ) ) )\n",
      "## The vector of valencies is in the same order as the thr nbunch (or nx.nodes(.))\n",
      "    nbunch = nx.nodes( G ) if nbunch is None else nbunch\n",
      "    return np.fromiter( ( deg[ n ] / deg_sum for n in nbunch ),\n",
      "        count = len( nbunch ), dtype = np.float )"
     ],
     "language": "python",
     "metadata": {},
     "outputs": []
    },
    {
     "cell_type": "markdown",
     "metadata": {},
     "source": [
      "The case $m<m_0$ does not seem unnatural as it models the situation when the edge fromation is dominated by vertex discovery, rather than preferential attachment.\n",
      "\n",
      "In light of this observation, the previous definition of attachment probabilities suffers from one serious drawback: isolated vertices remain almost surely isolated.\n",
      "\n",
      "In my opinion, this does not seem to be what had authors had in mind when they devised their model and attempted to check if both evolutionary pahses were indeed necessary for the development of hte power law scaling (see p.551 c.2 L 8-9 of [Barabasi, Albert; 1999] ) : \n",
      "> In model B, we start with $N$ vertices and no edges.  \n",
      "> At each time step, we randomly select a vertex and connect it  \n",
      "> with probability $\\Pi\udbff\udc0a(k_i) =\udbff\udc06 \\frac{k_i}{\udbff\udc0b\\sum_j k_j}$ to vertex $i$ in the system.\n",
      "\n",
      "This definition of attachment probabilities would have no effect on the Barabasi-Albert model and its type-B restriction in the case when $m < m_0$, if the evolution began with a connected graph $G_0$."
     ]
    },
    {
     "cell_type": "markdown",
     "metadata": {},
     "source": [
      "### Bayesian preferential attachment\n",
      "Nevertheless it is easy to patch this ``bug'' in the model.\n",
      "Let's imagine for a moment that for some observed graph $G = (V,E)$ we are faced with the problem of estimating the probabilities ${(\\theta_v)}_{v\\in W}$ of getting attached to a node in some $W\\subseteq V$. Then the vertex degrees of the nodes in $W$ can be regarded as the evidence of attachement, whence the likelihood function should be given by:\n",
      "$$L\\Big(G; {(\\theta_v)}_{v\\in W}\\Big) = \\prod_{v\\in W} \\theta_v^{\\delta(v)}$$"
     ]
    },
    {
     "cell_type": "markdown",
     "metadata": {},
     "source": [
      "#### Brief theory\n",
      "For this task of parameter estimation, let's employ Bayesian approach instead of the common MLE, since the latter tends to overfit the model because it fails to incorporate the uncertainty of the parameters.\n",
      "\n",
      "Cosider a prior $\\pi(\\cdot)$ on the space of possible probability vectors ${(\\theta_v)}_{v\\in W}$ (this space is a $(n-1)$-dimensional simplex $S^\\circ_{n-1}\\subseteq {[0,1]}^n$ where $n=\\big\\rvert W\\big\\lvert$). Using the Bayes theorem, the posterior distribution of ${(\\theta_v)}_{v\\in W}$ given the observed data is\n",
      "$$p\\Big(\\Big.{(\\theta_v)}_{v\\in W}\\,\\big.\\big\\rvert\\,G\\Big.\\Big)\n",
      "\\propto p\\Big(\\Big.G\\,\\big.\\big\\rvert\\,{(\\theta_v)}_{v\\in W}\\Big.\\Big) \\pi\\Big({(\\theta_v)}_{v\\in W}\\Big)\n",
      "= L\\Big(G; {(\\theta_v)}_{v\\in W}\\Big) \\pi\\Big({(\\theta_v)}_{v\\in W}\\Big)$$\n",
      "\n",
      "The conjugate prior for this kind of likelihood is the **Dirichlet distribution** given by\n",
      "$$\\text{Dir}\\big({(\\alpha_v)}_{v\\in W}\\big) = \\frac{\\Gamma\\big( \\sum_{v\\in W} \\alpha_v \\big)}{ \\prod_{v\\in W} \\Gamma\\big(\\alpha_v \\big)} \\prod_{v\\in W} \\theta_v^{\\alpha_v-1}$$\n",
      "\n",
      "It is easy to demonstrate that the posterior is $\\text{Dir}\\big({(\\alpha_v)}_{v\\in W} + {(\\delta(v))}_{v\\in W}\\big)$. This implies that the posterior probability of a random vertex being connected to a node $v\\in W$ is given by\n",
      "$$p\\Big(\\Big. v\\,\\big.\\big\\rvert\\,G\\Big.\\Big)\n",
      "= \\int p\\Big(\\Big. v\\,\\big.\\big\\rvert\\,{(\\theta_v)}_{v\\in W}\\Big.\\Big) p\\Big(\\Big. {(\\theta_v)}_{v\\in W}\\, \\big.\\big\\rvert\\,G\\Big.\\Big) d\\mathbf{\\theta} = \\ldots $$\n",
      "which in our case resolves into\n",
      "$$\\ldots = \\int \\theta_v \\text{Dir}\\big({(\\alpha_v)}_{v\\in W} + {(\\delta(v))}_{v\\in W}\\big) d\\mathbf{\\theta}\n",
      "= \\frac{\\alpha_v + \\delta(v)}{\\sum_{u\\in W} \\alpha_u + \\delta(u)}$$"
     ]
    },
    {
     "cell_type": "markdown",
     "metadata": {},
     "source": [
      "#### Final probability vector\n",
      "Since there is no reason to assume any specific prior distribution of the values of the attachment probability vectors, let's use an uninformative prior, which assigna equal probability of every vector in the simplex. In the case of a Dirichlet family, this sets the hyperparameter ${(\\alpha_v)}_{v\\in W}$ of the prior to a vector of ones: $\\alpha_v=1 for each $v\\in W$.\n",
      "\n",
      "Therefore the attachment probability distribution in $G_n$ is given by \n",
      "$$p\\Big(\\Big. w'\\leadsto v\\,\\big.\\big\\rvert\\,G_n\\Big.\\Big) = \\frac{\\delta_n(v)+1}{\\big\\lvert V_n\\big\\rvert + \\sum_{u\\in S}\\delta_n(u)}$$\n",
      "This differs from the original in that the isolated vertices are not penalized so sverely for having zero degree. This smoothes the distribution a little bit.\n",
      "\n",
      "Notable thing is that in the case of non-informative prior, the posterior distribution given $G$ is equivalent to the original attachment distribution for graph $G\\cup V^\\circ$ with loops at every vertex. \n",
      "\n",
      "Listed below is the procedure, which for a given graph $G$, computes the required distribution."
     ]
    },
    {
     "cell_type": "code",
     "collapsed": true,
     "input": [
      "## Bayesian valency distribution. Funny thing is that this correction\n",
      "##  turns out to is\n",
      "def ba_bayes_valency( G, nbunch = None ) :\n",
      "## Get the degree of nodes\n",
      "    deg = G.degree( nbunch )\n",
      "## Get the adjusted sum of vertex degrees\n",
      "    nbunch = nx.nodes( G ) if nbunch is None else nbunch\n",
      "    deg_sum = float( sum( deg.values( ) ) + len( nbunch ) )\n",
      "## Compute the posterior distribution of vertex valency\n",
      "    return np.fromiter( ( ( deg[ n ] + 1.0 ) / deg_sum for n in nbunch ),\n",
      "        count = len( nbunch ), dtype = np.float )"
     ],
     "language": "python",
     "metadata": {},
     "outputs": []
    },
    {
     "cell_type": "markdown",
     "metadata": {},
     "source": [
      "### Model evolution scenaria"
     ]
    },
    {
     "cell_type": "markdown",
     "metadata": {},
     "source": [
      "A has been mentioned above the basic growth step in the complete Barabasi-Albert consisted of two phases:\n",
      " 1. growth;\n",
      " 2. attachment according to valency distribution."
     ]
    },
    {
     "cell_type": "code",
     "collapsed": false,
     "input": [
      "def barabasi_albert( n, m = 10, callback = None ) :\n",
      "## Make sure the callback is a proper function\n",
      "    callback_fn = callback if callable( callback ) else lambda G: None\n",
      "## Barabasi-Albert evolution always begins with the isolated graph\n",
      "    G = nx.empty_graph( m )\n",
      "## Identify vertices by consequitive integers. \n",
      "    v = G.number_of_nodes( )\n",
      "## To speed up the computations keep track of the node degree locally,\n",
      "##  but instead of using a dictionary, store them in a linear array.\n",
      "    degree = np.zeros( n, dtype = np.int ) ; degree_half_sum = 0\n",
      "## In the original Barabasi-Albert model the first new vertex\n",
      "##  is attached to all m vertices, thus making the graph connected.\n",
      "    U = range( m )\n",
      "## Note that the graph itself is used just to keep track of the edges.\n",
      "    while v < n :\n",
      "## Add pending edges\n",
      "        G.add_edges_from( ( v, u ) for u in U )\n",
      "## Record the vertex degree\n",
      "        degree[ v ] += m ; degree[ U ] += 1\n",
      "        degree_half_sum += m\n",
      "## The evolution step is complete, call therequired function\n",
      "        callback_fn( G )\n",
      "## Create a new vertex using stack allocation -- on top of others.\n",
      "        v = G.number_of_nodes( )\n",
      "## The nodes which the new vertex is attached to are picked\n",
      "##  according to the preferential attachment distribution.\n",
      "        probabilities = degree[ :v ] / ( 2.0 * degree_half_sum )\n",
      "        U = rnd.choice( v, size = m, p = probabilities, replace = False )\n",
      "    return G, degree"
     ],
     "language": "python",
     "metadata": {},
     "outputs": []
    },
    {
     "cell_type": "markdown",
     "metadata": {},
     "source": [
      "In **model A** the network grows with time but the newly added nodes are attached to the existing ones uniformly at random.\n",
      "\n",
      "As a matter of fact, **model A**, the first restricted verison of the evolution, is nothing but the complete Barabasi-Albert model, excpet fo one thing: the attachment distribution is assumed to be uniform.\n",
      "The code below implements the basic steps of both the complete and the first restricted model."
     ]
    },
    {
     "cell_type": "code",
     "collapsed": false,
     "input": [
      "## This evolution step is similar to the original BA step, except it\n",
      "##  relaxes the requirement that m_0 be equal to m, and it implemets\n",
      "##  the egalitarian attachment and bayesian valency.\n",
      "def barabasi_albert_model_a( n, m0 = 10, m = 5, callback = None, bayes = True ) :\n",
      "    callback_fn = callback if callable( callback ) else lambda G: None\n",
      "    G = nx.empty_graph( m0 )\n",
      "    degree = np.zeros( n, dtype = np.int ) ; degree_half_sum = 0\n",
      "    while True :\n",
      "        v = G.number_of_nodes( )\n",
      "        if v >= n : break\n",
      "## Select either the bayesian valency distribution, or uniform attachment\n",
      "        theta = None if not bayes else ( degree[ :v ] + 1.0 ) / ( 2.0 * degree_half_sum + v )\n",
      "        U = rnd.choice( v, size = m, p = theta, replace = False )\n",
      "        G.add_edges_from( ( v, u ) for u in U )\n",
      "        degree[ v ] += m ; degree[ U ] += 1\n",
      "        degree_half_sum += m ;\n",
      "        callback_fn( G )\n",
      "    return G, degree"
     ],
     "language": "python",
     "metadata": {},
     "outputs": []
    },
    {
     "cell_type": "markdown",
     "metadata": {},
     "source": [
      "**Model B** retains the preferential attachment phase, but foregoes the growth step. Instead, a random existing node is picked and is linked with other nodes, preferentially chosing vertices with high degree. Initally this model begins its evolution from a set of isolated nodes."
     ]
    },
    {
     "cell_type": "markdown",
     "metadata": {},
     "source": [
      "Since multiple connections are forbidden in this model, during the preferential attachment of a vertex $w'$ it is necessary to use the conditional node valency distribution: for a prohibited subset $S\\subseteq V$, $w'\\in S$, and any vertex $v\\in V\\setminus S$\n",
      "$$p\\Big(\\Big. w'\\leadsto v\\,\\big.\\big\\rvert\\, w'\\not\\!\\leadsto S,\\,G \\Big.\\Big)\n",
      "= \\frac{p\\Big(\\Big. w'\\leadsto v\\,\\big.\\big\\rvert G \\Big.\\Big)}{p\\Big(\\Big. w'\\not\\!\\leadsto S\\,\\big.\\big\\rvert G \\Big.\\Big)}\n",
      "= \\frac{\\delta_n(v)+1}{\\big\\lvert V\\setminus S\\big\\rvert + \\sum_{u\\in V\\setminus S}\\delta_n(u)} $$\n"
     ]
    },
    {
     "cell_type": "code",
     "collapsed": false,
     "input": [
      "## Another relaxation of the complete Barabasi-Albert model, which eliminates\n",
      "##  the growth phase. This restriction uses the Bayesian valency distribution.\n",
      "##  when performing preferential attachment.\n",
      "def barabasi_albert_model_b( n, m = 5, callback = None ) :\n",
      "    callback_fn = callback if callable( callback ) else lambda G: None\n",
      "    G = nx.empty_graph( n )\n",
      "## Since the Bayesian correction amounts to adding loops, initialize the\n",
      "##  degree with ones.\n",
      "    degree = np.ones( n, dtype = np.int ) ; degree_sum = n\n",
      "    iter = 0\n",
      "    while iter < n :\n",
      "## 1. Pick an existing one at random (cf. p.551 c.3 L 9 of [Barabasi, Albert; 1999])\n",
      "        v = rnd.randint( n, size = 1 )[ 0 ]\n",
      "## Get its neighbours\n",
      "        S = nx.neighbors( G, v )\n",
      "## If it has more neighbours than n-1-m, then connect it to all remaining nodes\n",
      "##  and continue.\n",
      "        m_prime = min( m, n - 1 - len( S ) )\n",
      "        if m_prime > 0 :\n",
      "## Compute the conditional valency of each vertex in the current configuration\n",
      "            c_term = degree[ v ] + np.sum( degree[ S ] )\n",
      "            theta = degree / ( degree_sum - c_term + 0.0 )\n",
      "            theta[ v ] = 0 ; theta[ S ] = 0\n",
      "## 2. Pick m' other nodes to preferentially link the chosen one with.\n",
      "            U = rnd.choice( n, size = m_prime, p = theta, replace = False )\n",
      "            G.add_edges_from( ( v, u ) for u in U )\n",
      "            degree[ v ] += m ; degree[ U ] += 1\n",
      "            degree_sum += m*2 ;\n",
      "            callback_fn( G )\n",
      "## Upon encountering a saturated vertex just ignore it and move on. In effect\n",
      "##  this could be interpreted as a situation when a vertex is just unable to\n",
      "##  form new connections.\n",
      "        iter += 1\n",
      "    return G, degree - 1"
     ],
     "language": "python",
     "metadata": {},
     "outputs": []
    },
    {
     "cell_type": "code",
     "collapsed": false,
     "input": [
      "G, deg = barabasi_albert( 2000, m = 7 )\n",
      "freq_me_plot( deg )"
     ],
     "language": "python",
     "metadata": {},
     "outputs": []
    },
    {
     "cell_type": "code",
     "collapsed": false,
     "input": [
      "G, deg = barabasi_albert_model_a( 2000, m0 = 10, m = 7, bayes = False )\n",
      "freq_me_plot( deg )"
     ],
     "language": "python",
     "metadata": {},
     "outputs": []
    },
    {
     "cell_type": "code",
     "collapsed": false,
     "input": [
      "G, deg = barabasi_albert_model_b( 2000, m = 7 )\n",
      "freq_me_plot( deg )\n"
     ],
     "language": "python",
     "metadata": {},
     "outputs": []
    },
    {
     "cell_type": "code",
     "collapsed": false,
     "input": [
      "v, c = np.unique( d, return_counts = True )\n",
      "plt.loglog(v,c, \"ob\")\n",
      "v"
     ],
     "language": "python",
     "metadata": {},
     "outputs": []
    },
    {
     "cell_type": "code",
     "collapsed": true,
     "input": [
      "## Model B is essentailly different from the the complete Barabasi-Albert model, as it \n",
      "def ba_step_no_growth( G, distr = ba_bayes_valency ) :\n",
      "    v = rnd.choice( nx.nodes( G ), size = 1 )[ 0 ]\n",
      "## Remove the vertex from the graph\n",
      "    U = G.neighbors( v )\n",
      "    G.remove_node( v )\n",
      "## 2. Pick one other node to preferetially link the chosen one with.\n",
      "    theta = None if not callable( distr ) else distr( G )\n",
      "## The vector of valencies is in the same order as the output of nx.nodes(.)\n",
      "    U.extend( rnd.choice( nx.nodes( G ), size = 1, p = theta, replace = False ) )\n",
      "## Restore the original edges and add a new one\n",
      "    G.add_edges_from( ( v, u ) for u in U )\n",
      "## Return the evolved network\n",
      "    return G"
     ],
     "language": "python",
     "metadata": {},
     "outputs": []
    },
    {
     "cell_type": "code",
     "collapsed": true,
     "input": [
      "## The growth step of the complete Barabasi-Albert model, with an optional distribution parameter.\n",
      "def ba_step( G, m = 5, distr = ba_bayes_valency ) :\n",
      "## 1. Add a vertex to the new one. Create a new vertex: label it using ``stack allocation''. \n",
      "    v = G.number_of_nodes( )\n",
      "## 2. Attach the new vertex to the existing node uniformly or accroding to the specified distribution\n",
      "    theta = None if not callable( distr ) else distr( G )\n",
      "## Pick out nodes to connect to without replacement from $\\theta$\n",
      "    U = rnd.choice( nx.nodes( G ), size = m, p = theta, replace = False )\n",
      "## The new vertex v is added automatically \n",
      "    G.add_edges_from( ( v, u ) for u in U )\n",
      "## Return the evolved network\n",
      "    return G\n",
      "## For quick reference on the graph methods and properties see\n",
      "## https://networkx.github.io/documentation/latest/reference/classes.graph.html"
     ],
     "language": "python",
     "metadata": {},
     "outputs": []
    },
    {
     "cell_type": "markdown",
     "metadata": {},
     "source": [
      "### Plan of the simulation study"
     ]
    },
    {
     "cell_type": "markdown",
     "metadata": {},
     "source": [
      "For a complete analysis of the model let's summarize the changes made so far and the correpsonding options:\n",
      " * Attachment distribution:\n",
      "  1. Original Barabasi-Albert preferential attachment;\n",
      "  2. Bayesian valency distribution;\n",
      " * Model dynamics:\n",
      "  1. Complete model: growth and preferential attachment;\n",
      "  2. **Model A**: growth and egalitarian attachment;\n",
      "  3. **Model B**: stunted growth -- fixed number of nodes, preferential attachment;\n",
      " * Initial network state:\n",
      "  1. A random connected graph of order $m_0$;\n",
      "  2. A collection of isolated vertices (only bayesian attachment).\n",
      "  \n",
      "In general the launching the simulation study requires an initialisation routine and an evolution step algorithm. Define for convenience a generic experiment routine."
     ]
    },
    {
     "cell_type": "code",
     "collapsed": true,
     "input": [
      "## A generic simulation routine, which runs the experiment\n",
      "##  for a given number of generations.\n",
      "def run( N, init = None, step = None, fn = None, **kwargs ) :\n",
      "    G = init( **kwargs )\n",
      "    result = list( )\n",
      "    for i in xrange( N ) :\n",
      "        if( i % ( N // 10 ) == 0 ) and i > 0 :\n",
      "            print i\n",
      "        G = step( G, **kwargs )\n",
      "        if callable( fn ) :\n",
      "            result.append( fn( G, **kwargs ) )\n",
      "    return ( result, G )"
     ],
     "language": "python",
     "metadata": {},
     "outputs": []
    },
    {
     "cell_type": "markdown",
     "metadata": {},
     "source": [
      "The list of admissible study configurations is given below:\n",
      "1. the initial graph is a collection of isolated vertices:  \n",
      "  1. Bayesian valency distribution: **Orginal**, **B**;\n",
      "  2. Uniform attachment: **A**;\n",
      "\n",
      "2. the initial network is a connected graph:\n",
      "   1. Bayesian valency distribution: **Orginal**, **B**;\n",
      "   2. Original preferential attachment distribution: **Orginal**, **B**;\n",
      "   3. Uniform attachment: **A**."
     ]
    },
    {
     "cell_type": "code",
     "collapsed": true,
     "input": [
      "## An isolated graph\n",
      "def ssi_isolated( m0 = 10, **kwargs ) :\n",
      "    return nx.empty_graph( m0 )\n",
      "\n",
      "## To generate a random connected graph of the given order\n",
      "##  simulate the model A starting with a trivial graph.\n",
      "def ssi_connected( m0 = 10, **kwargs ) :\n",
      "    G = nx.trivial_graph( )\n",
      "    for i in xrange( m0 - 1 ) :\n",
      "## For each new node pick a vertex to link it with\n",
      "        v = G.number_of_nodes( )\n",
      "        u = rnd.choice( nx.nodes( G ), size = 1, replace = False )[ 0 ]\n",
      "        G.add_edge( v, u )\n",
      "    return G"
     ],
     "language": "python",
     "metadata": {},
     "outputs": []
    },
    {
     "cell_type": "code",
     "collapsed": false,
     "input": [
      "def analyse( G, **kwargs ) :\n",
      "    try :\n",
      "        apl = nx.average_shortest_path_length( G )\n",
      "    except Exception, e :\n",
      "        apl = float('inf')\n",
      "        pass\n",
      "    return apl\n",
      "\n",
      "# %lprun -f ba_step_no_growth run( 1000, ssi_isolated, ba_step_no_growth, analyse )#, m = 10 ) \n",
      "r, G = run( 1000, ssi_connected, ba_step, analyse, m = 10 ) "
     ],
     "language": "python",
     "metadata": {},
     "outputs": []
    },
    {
     "cell_type": "code",
     "collapsed": false,
     "input": [
      "nx.draw( G, pos = nx.circular_layout( G ), node_size = 10, linewidths = .5, edge_color = 'b' )\n",
      "nx.draw( G, pos = nx.circular_layout( G ), node_size = 10, linewidths = .5, edge_color = 'b' )\n",
      "r"
     ],
     "language": "python",
     "metadata": {},
     "outputs": []
    },
    {
     "cell_type": "markdown",
     "metadata": {},
     "source": [
      "Analyse results with respect to various parameter settings  \n",
      "1. Generate networks according to the models above ($N > 1000$ nodes)\n",
      "2. Compute CDF/PDF, describe the distribution and compute/describe its properties.\n",
      "3. Illustate the following dependencies:  \n",
      " * average path length to the number of nodes  \n",
      " * average clustering coefficient to the number of nodes  \n",
      " * average node degee to the nodes \"age\"\n",
      "4. Is scale-free property conserved in these models?"
     ]
    },
    {
     "cell_type": "code",
     "collapsed": false,
     "input": [
      "m0 = 21\n",
      "# G = ssi_isolated( m0 )\n",
      "G = ssi_connected( m0 )\n",
      "for i in xrange( 100 ) :\n",
      "    G = ba_step( G, m = 5, distr = ba_bayes_valency )\n",
      "\n",
      "nx.draw( G, pos = nx.circular_layout( G ), node_size = 10, linewidths = .5, edge_color = 'b' )\n",
      "\n",
      "\n"
     ],
     "language": "python",
     "metadata": {},
     "outputs": []
    },
    {
     "cell_type": "code",
     "collapsed": true,
     "input": [
      "m0 = 21\n",
      "G = ssi_isolated( m0 )\n",
      "\n",
      "fig = plt.figure( figsize = (8,6) )\n",
      "axe = fig.add_subplot( 111 )\n",
      "def animate( i, m ) :\n",
      "    global G\n",
      "    G = ba_step( G, m = m, distr = ba_bayes_valency )\n",
      "    axe.clear()\n",
      "    nx.draw( G, pos = nx.circular_layout( G ), ax = axe )\n",
      " \n",
      "## Animate the series of graphs \n",
      "anim = animation.FuncAnimation(fig, animate, frames=1000, interval=10, blit=True, fargs = [20,] )\n",
      "\n",
      "# call our new function to display the animation\n",
      "display_animation( anim )\n"
     ],
     "language": "python",
     "metadata": {},
     "outputs": []
    },
    {
     "cell_type": "markdown",
     "metadata": {},
     "source": [
      "<br/>"
     ]
    },
    {
     "cell_type": "markdown",
     "metadata": {},
     "source": [
      "## Analysis"
     ]
    },
    {
     "cell_type": "markdown",
     "metadata": {},
     "source": [
      "A useful tool for exploring the tail behaviour of sample is the **M**ean **E**xcess plot, defined as the \n",
      "$$M(u) = \\mathbb{E}\\Big(\\Big. X-u\\,\\big.\\big\\rvert\\,X\\geq u \\Big.\\Big)$$\n",
      "of which the emprical counterpart is \n",
      "$$\\hat{M}(u) = {\\big(\\sum_{i=1}^n 1_{x_i\\geq u}\\big)^{-1}}\\sum_{i=1}^n (x_i-u) 1_{x_i\\geq u}$$\n",
      "The key properties of $M(u)$ are\n",
      " * it steadily increases for a power-law tails;\n",
      " * it level for exponential tails;\n",
      " * it decays for a finite tail.\n",
      "When dealing with the empirical mean-excesses one looks for the trend in the large thresholds to discern behaviour, necessarily bearing in mind that in that region the varinace of the $\\hat{M}(u)$ grows."
     ]
    },
    {
     "cell_type": "code",
     "collapsed": false,
     "input": [
      "from scipy.stats import rankdata\n",
      "def mean_excess( data ) :\n",
      "\tdata = np.array( sorted( data, reverse = True ) )\n",
      "## Compute the last positions in the sorted array of each repeated observation\n",
      "\tranks = rankdata( data, method = 'max' )\n",
      "## Since the array is sorted, the number of observation exceeding the current\n",
      "##  is givne by difference between the length of the array and the max-rank.\n",
      "\texcesses = np.array( np.unique( len( data ) - ranks ), dtype = np.int )\n",
      "## Get the last values in each group -- the thresholds\n",
      "\tthresholds = data[ excesses ]\n",
      "## Get the sum of all values greater than the current threshold \n",
      "\tmean_excess = np.cumsum( data )[ excesses ] / ( excesses + 0.0 ) - thresholds\n",
      "\treturn thresholds, mean_excess"
     ],
     "language": "python",
     "metadata": {},
     "outputs": []
    },
    {
     "cell_type": "code",
     "collapsed": false,
     "input": [
      "def freq_me_plot( deg, c = \"b\" ) :\n",
      "    v, f = np.unique( deg, return_counts = True )\n",
      "    me_t, me_e = mean_excess( deg )\n",
      "## Setup device parameters\n",
      "    plt.figure( 1, figsize = ( 12, 6 ) )\n",
      "## Degree-frequency plot\n",
      "    plt.subplot(121)\n",
      "    plt.title( \"Node degree frequency\" )\n",
      "    plt.loglog( v, f, c+\"o\" )\n",
      "    plt.xlabel( \"degree\" ) ; plt.ylabel( \"frequency\" )\n",
      "## Mean excess plot\n",
      "    plt.subplot(122)\n",
      "    plt.title( \"Mean excess plot\" )\n",
      "    plt.loglog( me_t, me_e, c+\"^-\", linewidth = 2 )\n",
      "    plt.ylabel( \"mean excess\" ) ; plt.xlabel( \"threshold\" )\n",
      "## Commit to device\n",
      "    plt.show( )"
     ],
     "language": "python",
     "metadata": {},
     "outputs": []
    },
    {
     "cell_type": "markdown",
     "metadata": {},
     "source": [
      "Analyse results with respect to various parameter settings  \n",
      "1. Generate networks according to the models above ($N > 1000$ nodes)\n",
      "2. Compute CDF/PDF, describe the distribution and compute/describe its properties.\n",
      "3. Illustate the following dependencies:  \n",
      " * average path length to the number of nodes  \n",
      " * average clustering coefficient to the number of nodes  \n",
      " * average node degee to the nodes \"age\"\n",
      "4. Is scale-free property conserved in these models?"
     ]
    },
    {
     "cell_type": "markdown",
     "metadata": {},
     "source": [
      "For convenience let's define wrappers for steps of the original and the restricted models."
     ]
    },
    {
     "cell_type": "code",
     "collapsed": true,
     "input": [
      "def ba_step_basic( G, m = 5 ) :\n",
      "    return ba_step( G, m, True, False )"
     ],
     "language": "python",
     "metadata": {},
     "outputs": []
    },
    {
     "cell_type": "code",
     "collapsed": true,
     "input": [
      "def ba_step_a( G, m = 5 ) :\n",
      "    return ba_step( G, m, True, True )"
     ],
     "language": "python",
     "metadata": {},
     "outputs": []
    },
    {
     "cell_type": "code",
     "collapsed": true,
     "input": [
      "def ba_step_b( G, m = 5 ) :\n",
      "    return ba_step( G, m, False, False )"
     ],
     "language": "python",
     "metadata": {},
     "outputs": []
    },
    {
     "cell_type": "markdown",
     "metadata": {},
     "source": [
      "Perform the simultaion"
     ]
    },
    {
     "cell_type": "code",
     "collapsed": true,
     "input": [
      "m0 = 3\n",
      "G = nx.complete_graph( m0 )\n",
      "# G = nx.empty_graph( m0 )\n",
      "print G.add_node(\"ass\")\n",
      "print G.add_node(\"bum\")\n",
      "print G.add_node(4)\n",
      "# G.remove_node(0)\n",
      "G.add_edge('ass', 0)\n",
      "G.add_edge('bum', 0)\n",
      "G.add_edge(4, 0)\n",
      "G.add_edge(4, 2)\n",
      "H=G.copy()"
     ],
     "language": "python",
     "metadata": {},
     "outputs": []
    },
    {
     "cell_type": "code",
     "collapsed": true,
     "input": [
      "print nx.edges(H)\n",
      "print nx.nodes(H)\n",
      "G.degree()"
     ],
     "language": "python",
     "metadata": {},
     "outputs": []
    },
    {
     "cell_type": "markdown",
     "metadata": {},
     "source": [
      "Just for fun, setup a method to animate the evolution of graphs. However this is not a good solution to the problem."
     ]
    },
    {
     "cell_type": "code",
     "collapsed": true,
     "input": [
      "nx.draw( G, pos = nx.circular_layout( G ), node_size = 10, linewidths = .5, edge_color = 'b' )\n",
      "\n"
     ],
     "language": "python",
     "metadata": {},
     "outputs": []
    },
    {
     "cell_type": "markdown",
     "metadata": {},
     "source": [
      "<hr \\><!-- This is a Blank Line -->"
     ]
    },
    {
     "cell_type": "heading",
     "level": 3,
     "metadata": {},
     "source": [
      "<hr />\n",
      "Task 2"
     ]
    },
    {
     "cell_type": "markdown",
     "metadata": {},
     "source": [
      "Consider the following  \"Vertex copying model\" of growing network.\n",
      "\n",
      "At every time step a random vertex from already existing vertices is selected and duplicated together with all edges, such that  every edge of the  vertex\n",
      "* is copied with probability $q$\n",
      "* is rewired to any other randomly selected vertex with probability $1-q$\n",
      "\n",
      "\n",
      "Starting state is defined by some small number of randomly connected vertices.\n",
      "\n",
      "The model can generate both directed and undirected networks.\n",
      "\n",
      "1. Generate  graphs based on the model ($N > 1000$ nodes)\n",
      "2. Compute CDF/PDF, describe the distribution and compute\\describe its properties.\n",
      "3. Illustate the following dependencies: \n",
      "    * average path length to the number of nodes\n",
      "    * average clustering coefficient to the number of nodes\n",
      "    * average node degee to the nodes \"age\"\n",
      "    \n",
      "Analyse results with respect to various parameter settings"
     ]
    }
   ],
   "metadata": {}
  }
 ]
}