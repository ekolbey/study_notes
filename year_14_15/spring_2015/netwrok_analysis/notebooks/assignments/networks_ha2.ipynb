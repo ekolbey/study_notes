{
 "metadata": {
  "name": "",
  "signature": "sha256:0269cb5a8cec0fc143696418a9c5d5f4566964acc54e03a422b9410f859cb635"
 },
 "nbformat": 3,
 "nbformat_minor": 0,
 "worksheets": [
  {
   "cells": [
    {
     "cell_type": "heading",
     "level": 1,
     "metadata": {},
     "source": [
      "<center>Structural Analysis and Visualization of Networks</center>"
     ]
    },
    {
     "cell_type": "heading",
     "level": 2,
     "metadata": {},
     "source": [
      "<center>Home Assignment #2: Network models</center>"
     ]
    },
    {
     "cell_type": "heading",
     "level": 3,
     "metadata": {},
     "source": [
      "<center>Student: *Nazarov Ivan*</center>"
     ]
    },
    {
     "cell_type": "heading",
     "level": 4,
     "metadata": {},
     "source": [
      "<hr />\n",
      "General Information"
     ]
    },
    {
     "cell_type": "markdown",
     "metadata": {},
     "source": [
      "**Due Date:** 18.02.2015 23:59 <br \\>\n",
      "**Late submission policy:** -0.2 points per day <br \\>\n",
      "\n",
      "\n",
      "Please send your reports to <mailto:leonid.e.zhukov@gmail.com> and <mailto:shestakoffandrey@gmail.com> with message subject of the following structure:<br \\> **[HSE Networks 2015] *Nazarov* *Ivan* HA*1***\n",
      "\n",
      "Support your computations with figures and comments. <br \\>\n",
      "If you are using IPython Notebook you may use this file as a starting point of your report.<br \\>\n",
      "<br \\>\n",
      "<hr \\>"
     ]
    },
    {
     "cell_type": "heading",
     "level": 2,
     "metadata": {},
     "source": [
      "Problems"
     ]
    },
    {
     "cell_type": "heading",
     "level": 3,
     "metadata": {},
     "source": [
      "Task 1"
     ]
    },
    {
     "cell_type": "markdown",
     "metadata": {},
     "source": [
      "Consider Barabasi and Albert dynamical grow model. Two main ingredients of this model are *network growing* and *prefferential attachment*. Implement two restricted B&A-based models:\n",
      "<br \\>\n",
      "\n",
      "**Model A**\n",
      "<br \\>\n",
      "Lack of prefferential attachment, that is at each time-step form edges uniformly at random while network keeps growing.\n",
      "\n",
      "**Model B**\n",
      "<br \\>\n",
      "Lack of growing, that is fix total number of nodes, on each time-step randomly choose one and form edges with prefferential attachment.\n",
      "<br \\>\n",
      "\n",
      "1. Generate networks according to the models above ($N > 1000$ nodes)\n",
      "2. Compute CDF/PDF, describe the distribution and compute\\describe its properties.\n",
      "3. Illustate the following dependencies: \n",
      "    * average path length to the number of nodes\n",
      "    * average clustering coefficient to the number of nodes\n",
      "    * average node degee to the nodes \"age\"\n",
      "4. Is scale-free property conserved in these models?\n",
      "\n",
      "Analyse results with respect to various parameter settings"
     ]
    },
    {
     "cell_type": "markdown",
     "metadata": {},
     "source": [
      "<hr/><hr/><br/>"
     ]
    },
    {
     "cell_type": "markdown",
     "metadata": {},
     "source": [
      "## Preamble\n",
      "We shall include all the necessary modules here, before any analysis."
     ]
    },
    {
     "cell_type": "code",
     "collapsed": true,
     "input": [
      "## As usual, attach the numpy and the netwrokx modules\n",
      "import networkx as nx\n",
      "import numpy as np\n",
      "import numpy.random as rnd\n",
      "\n",
      "import matplotlib.pyplot as plt\n",
      "\n",
      "%matplotlib inline"
     ],
     "language": "python",
     "metadata": {},
     "outputs": []
    },
    {
     "cell_type": "code",
     "collapsed": true,
     "input": [
      "## This does not seem like a seamless way to generate animated plots.\n",
      "## Ensure that ffmpeg library is installed, since without it evolution\n",
      "##  animations won't work.\n",
      "\n",
      "# http://nbviewer.ipython.org/url/jakevdp.github.io/downloads/notebooks/AnimationEmbedding.ipynb\n",
      "# http://jakevdp.github.io/blog/2012/09/05/quantum-python/\n",
      "from tempfile import NamedTemporaryFile\n",
      "from matplotlib import animation\n",
      "\n",
      "## Convert the matplotlib animation into a video clip, stored locally in\n",
      "##  the object in base64 format.\n",
      "CONTENT_TYPE = \"\"\"data:video/x-m4v;base64,{0}\"\"\"\n",
      "def anim_to_html( anim ) :\n",
      "    if not hasattr( anim, '_encoded_video' ) :\n",
      "        with NamedTemporaryFile( suffix = '.mp4' ) as f :\n",
      "            anim.save( f.name, fps = 15, extra_args = [ '-vcodec', 'libx264', '-pix_fmt', 'yuv420p' ] )\n",
      "            video = open( f.name, \"rb\" ).read( )\n",
      "            anim._encoded_video = video.encode( \"base64\" )\n",
      "    return CONTENT_TYPE.format( anim._encoded_video )\n",
      "\n",
      "## Use direct HTML output capabilities of iPython\n",
      "from IPython.display import HTML\n",
      "## This node is going to be used for embedding video\n",
      "VIDEO_TAG = \"\"\"<video controls><source src=\"{0}\" type=\"video/mp4\">\n",
      "Your browser does not support the video tag.</video>\"\"\"\n",
      "def display_animation( anim ) :\n",
      "## Close and output\n",
      "    plt.close( anim._fig )\n",
      "    return HTML( VIDEO_TAG.format( anim_to_html( anim ) ) )"
     ],
     "language": "python",
     "metadata": {},
     "outputs": []
    },
    {
     "cell_type": "markdown",
     "metadata": {},
     "source": [
      "## Solution \\#1"
     ]
    },
    {
     "cell_type": "markdown",
     "metadata": {},
     "source": [
      "First and foremost, but solely for reference purposes, let's state the Barabasi-Albert dynamical growth model in its original form.\n",
      "\n",
      "The evolution of the network is represented by a sequence of graphs ${(G_n)}_{n\\geq0}$ with $G_n = \\big(V_n, E_n\\big)$.\n",
      "The process starts with a graph $G_0$ of $m_0$ nodes. The initial number of vertices is usually a small number.  At every moment $n$ the network $G_n$ undergoes growth, which can be divided in two phases  \n",
      " * a new vertex $w'\\notin V_n$ is introduced into the network: $V_{n+1} = V_n \\cup \\{w'\\}$;\n",
      " * the vertex forms $m$ links to pre-existing nodes chosen at random without replacement according to some distribution $D_n$ over the nodes $V_n$"
     ]
    },
    {
     "cell_type": "markdown",
     "metadata": {},
     "source": [
      "In the Barabasi-Albert growth model $D_n$ is the ``preferential connection'' distribution: for every $v\\in V_n$\n",
      "$$\\mathbb{P}\\big(w'\\leadsto v\\big) = \\frac{\\delta_n(v)}{\\sum_{u\\in V_n}\\delta_n(u) }$$\n",
      "where $\\delta_n(v)$ is the degree of vertex $v$ in graph $G_n$."
     ]
    },
    {
     "cell_type": "code",
     "collapsed": true,
     "input": [
      "## The original attachment distribution of Barabasi-Albert\n",
      "def ba_valency( G ) :\n",
      "## For some reason the call to $order( G )$ takes exceptonally long time to return\n",
      "##  But still, we're need the numebr of edges here.\n",
      "    deg_sum = G.number_of_edges() * 2.0\n",
      "## Get the distribution of the valency of the existing nodes base on the observed\n",
      "##  connectivity and degrees.\n",
      "    deg = G.degree( )\n",
      "    return np.fromiter( ( deg[ n ] / deg_sum for n in G.nodes_iter( ) ),\n",
      "        count = G.number_of_nodes( ), dtype = np.float )"
     ],
     "language": "python",
     "metadata": {},
     "outputs": []
    },
    {
     "cell_type": "markdown",
     "metadata": {},
     "source": [
      "### Re-analysis of Barabasi-Albert model\n",
      "\n",
      "Note that in their exposition Barabasi-Albert never state that the initial network $G_0$ is fully connected: (see p.551 c.1 L 30-35 of [Barabasi, Albert; 1999]) \n",
      "> To incorporate the growing character of the network, starting with a small number ($m_0$) of vertices, at every time step we add a new vertex with $m$($\\leq \udbff\udc14m_0$) edges that link the new vertex to $m$ different vertices already present in the system.\n",
      "\n",
      "Furthermore : (see p.551 c.1 L 40-42 of [Barabasi, Albert; 1999])\n",
      "> After $t$ time steps, the model leads to a random network with $t\udbff\udc04 + m0$ vertices and $mt$ edges.\n",
      "\n",
      "\n",
      "\n",
      "Note that it is not $mt + \\frac{m_0(m_0-1)}{2}$ edges as it would have been, had the initial network $G_0$ been fully connected."
     ]
    },
    {
     "cell_type": "markdown",
     "metadata": {},
     "source": [
      "In light of these observations, their definition of attachment probabilities suffers from one minor drawback: isolated vertices remain isolated almost surely. \n",
      "Furthermore, as soon as one vertex gets a non-zero degree, say by an unexpected random perturbation from outside the system, each newly added vertex will almost surely be connected only to it.\n",
      "\n",
      "This does not seem to be what had authors had in mind when they devised their model and attempted to ``verify that both ingredients are necessary''. Indeed see p.551 c.2 L 8-9 of [Barabasi, Albert; 1999] : \n",
      "> In model B, we start with $N$ vertices and no edges.  \n",
      "> At each time step, we randomly select a vertex and connect it ...\n",
      "\n",
      "This definition of probabilities would have no effect on the Barabasi-Albert model and its restrictions, if the evolution began with a complete graph."
     ]
    },
    {
     "cell_type": "markdown",
     "metadata": {},
     "source": [
      "### Bayesian preferential attachment\n",
      "Nevertheless it is possible to patch this ``bug'' easily.\n",
      "Let's imagine for a moment that for some observed graph $G = (V,E)$ we are faced with the problem of estimating the probabilities of getting attached to a node in some $W\\subseteq V$, ${(\\theta_v)}_{v\\in W}$. Suppose the vertex degrees of the nodes in $W$ are the observations of attachement. The likelihood function is given by:\n",
      "$$L\\Big(G; {(\\theta_v)}_{v\\in W}\\Big) = \\prod_{v\\in W} \\theta_v^{\\delta(v)}$$"
     ]
    },
    {
     "cell_type": "markdown",
     "metadata": {},
     "source": [
      "#### Brief theory\n",
      "Now instead of the common MLE let's employ Bayesian approach, since MLE tends to overfit the model as it fails to incorporate the uncertainty of the parameters.\n",
      "\n",
      "Cosider an prior $\\pi(\\cdot)$ on the space of possible probability vectors ${(\\theta_v)}_{v\\in W}$ (this space is a $(n-1)$-dimensional simplex $S^\\circ_{n-1}\\subseteq {[0,1]}^n$ where $n=\\big\\rvert W\\big\\lvert$). Then the posterior distribution of ${(\\theta_v)}_{v\\in W}$ given the observed data is\n",
      "$$p\\Big({(\\theta_v)}_{v\\in W}\\Big. \\big\\lvert\\,G\\big.\\Big.\\Big) \\propto p\\Big(G\\Big. \\big\\lvert\\, {(\\theta_v)}_{v\\in W}\\big.\\Big.\\Big) \\pi\\Big({(\\theta_v)}_{v\\in W}\\Big) = L\\Big(G; {(\\theta_v)}_{v\\in W}\\Big) \\pi\\Big({(\\theta_v)}_{v\\in W}\\Big)$$\n",
      "\n",
      "The conjugate prior for this kind of likelihoof is the **Dirichlet distribution** given by\n",
      "$$\\text{Dir}\\big({(\\alpha_v)}_{v\\in W}\\big) = \\frac{\\Gamma\\big( \\sum_{v\\in W} \\alpha_v \\big)}{ \\prod_{v\\in W} \\Gamma\\big(\\alpha_v \\big)} \\prod_{v\\in W} \\theta_v^{\\alpha_v-1}$$\n",
      "\n",
      "The posterior is then $\\text{Dir}\\big({(\\alpha_v)}_{v\\in W} + {(\\delta(v))}_{v\\in W}\\big)$, and the posterior probability of attachemnt to a node $v\\in W$ is given by\n",
      "$$p\\Big(v \\Big. \\big\\lvert\\,G\\big.\\Big.\\Big)\n",
      "= \\int p\\Big(v \\Big. \\big\\lvert\\,{(\\theta_v)}_{v\\in W}\\big.\\Big.\\Big) p\\Big({(\\theta_v)}_{v\\in W}\\Big. \\big\\lvert\\,G\\big.\\Big.\\Big) d\\mathbf{\\theta} = $$\n",
      "which in our case resolves into\n",
      "$$= \\int \\theta_v \\text{Dir}\\big({(\\alpha_v)}_{v\\in W} + {(\\delta(v))}_{v\\in W}\\big) d\\mathbf{\\theta}\n",
      "= \\frac{\\alpha_v + \\delta(v)}{\\sum_{u\\in W} \\alpha_u + \\delta(u)}$$"
     ]
    },
    {
     "cell_type": "markdown",
     "metadata": {},
     "source": [
      "#### Final probability vector\n",
      "Since there is no reason to assume any specific prior distribution of the values of the attachment probability vectors, let's use an uninformative prior, which assigna equal probability of every vector in the simplex. In the case of a Dirichlet family, this sets the hyperparameter ${(\\alpha_v)}_{v\\in W}$ of the prior to a vector of ones: $\\alpha_v=1 for each $v\\in W$.\n",
      "\n",
      "Therefore the attachment probability distribution in $G_n$ is given by \n",
      "$$\\mathbb{P}\\big(w'\\leadsto v\\big) = \\frac{\\delta_n(v)+1}{\\big\\lvert V_n\\big\\rvert + \\sum_{u\\in S}\\delta_n(u)}$$\n",
      "This differs from the original in that the isolated vertices are not penalized so sverely for having zero degree. This smoothes the distribution a little bit.\n",
      "\n",
      "Listed below is the procedure, which for a given graph $G$, computes the required distribution."
     ]
    },
    {
     "cell_type": "code",
     "collapsed": true,
     "input": [
      "## Bayesian valency distribution.\n",
      "def ba_bayes_valency( G ) :\n",
      "## Get the adjusted sum of vertex degrees\n",
      "    deg_sum = G.number_of_nodes() + G.number_of_edges() * 2.0\n",
      "## Get the degree of nodes\n",
      "    deg = G.degree( )\n",
      "## Compute the posterior distribution of vertex valency\n",
      "    return np.fromiter( ( ( deg[ n ] + 1.0 ) / deg_sum for n in G.nodes_iter( ) ),\n",
      "        count = G.number_of_nodes( ), dtype = np.float )"
     ],
     "language": "python",
     "metadata": {},
     "outputs": []
    },
    {
     "cell_type": "markdown",
     "metadata": {},
     "source": [
      "### Model evolution scenaria"
     ]
    },
    {
     "cell_type": "markdown",
     "metadata": {},
     "source": [
      "A has been mentioned above the basic growth step in the complete Barabasi-Albert consisted of two phases:\n",
      " 1. growth;\n",
      " 2. attachment according to valency distribution.\n",
      "\n",
      "In **model A** the network grows with time but the newly added nodes are attached to the existing ones uniformly at random.\n",
      "\n",
      "As a matter of fact, **model A**, the first restricted verison of the evolution, is nothing but the complete Barabasi-Albert model, excpet fo one thig: the attachment distribution is assumed to be uniform.\n",
      "The code below implements the basic steps of both the complete and the first restricted model."
     ]
    },
    {
     "cell_type": "code",
     "collapsed": true,
     "input": [
      "## The growth step of the complete Barabasi-Albert model, with an optional distribution parameter.\n",
      "def ba_step( G, m = 5, distr = ba_bayes_valency ) :\n",
      "## 0. Make a copy of the graph -- this was a very slow step, which i eliminated\n",
      "    H = G.copy( )\n",
      "## 1. Add a vertex to the new one. Create a new vertex: label it using ``stack allocation''. \n",
      "    v = H.number_of_nodes( )\n",
      "#     H.add_node( v )\n",
      "## 2. Attach the new vertex to the existing node uniformly or accroding to the specified distribution\n",
      "    theta = None if not callable( distr ) else distr( G )\n",
      "## Pick out nodes to connect to without replacement from $\\theta$\n",
      "    U = rnd.choice( nx.nodes( G ), size = m, p = theta, replace = False )\n",
      "    H.add_edges_from( ( v, u ) for u in U )\n",
      "## Return the evolved network\n",
      "    return H\n",
      "## For quick reference on the graph methods and properties see\n",
      "## https://networkx.github.io/documentation/latest/reference/classes.graph.html"
     ],
     "language": "python",
     "metadata": {},
     "outputs": []
    },
    {
     "cell_type": "markdown",
     "metadata": {},
     "source": [
      "**Model B** retains the preferential attachment phase, but foregoes the growth step. Instead, a random existing node is picked and is linked with other nodes, preferentially chosing vertices with high degree. Initally this model begins its evolution from a set of isolated nodes."
     ]
    },
    {
     "cell_type": "code",
     "collapsed": true,
     "input": [
      "## Model B is essentailly different from the the complete Barabasi-Albert model, as it \n",
      "def ba_step_no_growth( G, distr = ba_bayes_valency ) :\n",
      "## 1. Pick an existing one at random (cf. p.551 c.3 L 9 of [Barabasi, Albert; 1999])\n",
      "    v = rnd.choice( nx.nodes( G ), size = 1 )[ 0 ]\n",
      "## Create a graph without the chosen vertex\n",
      "    F = G.copy( )\n",
      "    F.remove_node( v )\n",
      "## 2. Pick one other node to preferetially link the chosen one with.\n",
      "    theta = None if not callable( distr ) else distr( F )\n",
      "    u = rnd.choice( nx.nodes( F ), size = 1, p = theta, replace = False )[ 0 ]\n",
      "    del F\n",
      "## 0. Make a copy of the original graph\n",
      "    H = G.copy( )\n",
      "    H.add_edge( v, u )\n",
      "## Return the evolved network\n",
      "    return H"
     ],
     "language": "python",
     "metadata": {},
     "outputs": []
    },
    {
     "cell_type": "markdown",
     "metadata": {},
     "source": [
      "### Plan of the simulation study"
     ]
    },
    {
     "cell_type": "markdown",
     "metadata": {},
     "source": [
      "For a complete analysis of the model let's summarize the changes made so far and the correpsonding options:\n",
      " * Attachment distribution:\n",
      "  1. Original Barabasi-Albert preferential attachment;\n",
      "  2. Bayesian valency distribution;\n",
      " * Model dynamics:\n",
      "  1. Complete model: growth and preferential attachment;\n",
      "  2. **Model A**: growth and egalitarian attachment;\n",
      "  3. **Model B**: stunted growth -- fixed number of nodes, preferential attachment;\n",
      " * Initial network state:\n",
      "  1. A random connected graph of order $m_0$;\n",
      "  2. A collection of isolated vertices (only bayesian attachment).\n",
      "  \n",
      "In general the launching the simulation study requires an initialisation routine and an evolution step algorithm. Define for convenience a generic experiment routine."
     ]
    },
    {
     "cell_type": "code",
     "collapsed": true,
     "input": [
      "## A generic simulation routine, which runs the experiment\n",
      "##  for a given number of generations.\n",
      "def run( N, init = None, step = None, fn = None, **kwargs ) :\n",
      "    G = init( **kwargs )\n",
      "    result = list( )\n",
      "    for i in xrange( N ) :\n",
      "        if( i % ( N // 10 ) == 0 ) and i > 0 :\n",
      "            print i\n",
      "        G = step( G, i, **kwargs )\n",
      "        if callable( fn ) :\n",
      "            result.append( fn( G, **kwargs ) )\n",
      "    return ( result, G )"
     ],
     "language": "python",
     "metadata": {},
     "outputs": []
    },
    {
     "cell_type": "markdown",
     "metadata": {},
     "source": [
      "The list of admissible study configurations is given below:\n",
      "1. the initial graph is a collection of isolated vertices:  \n",
      "  1. Bayesian valency distribution: **Orginal**, **B**;\n",
      "  2. Uniform attachment: **A**;\n",
      "\n",
      "2. the initial network is a connected graph:\n",
      "   1. Bayesian valency distribution: **Orginal**, **B**;\n",
      "   2. Original preferential attachment distribution: **Orginal**, **B**;\n",
      "   3. Uniform attachment: **A**."
     ]
    },
    {
     "cell_type": "code",
     "collapsed": true,
     "input": [
      "## An isolated graph\n",
      "def ssi_isolated( m0 = 10, **kwargs ) :\n",
      "    return nx.empty_graph( m0 )\n",
      "\n",
      "## To generate a random connected graph of the given order\n",
      "##  simulate the model A starting with a trivial graph.\n",
      "def ssi_connected( m0 = 10, **kwargs ) :\n",
      "    G = nx.trivial_graph( )\n",
      "    for i in xrange( m0 - 1 ) :\n",
      "## For each new node pick a vertex to link it with\n",
      "        v = G.number_of_nodes( )\n",
      "        u = rnd.choice( nx.nodes( G ), size = 1, replace = False )[ 0 ]\n",
      "        G.add_edge( v, u )\n",
      "    return G"
     ],
     "language": "python",
     "metadata": {},
     "outputs": []
    },
    {
     "cell_type": "code",
     "collapsed": false,
     "input": [
      "def analyse( G, **kwargs ) :\n",
      "    try :\n",
      "        apl = nx.average_shortest_path_length()\n",
      "    except Exception, e :\n",
      "        apl = float('inf')\n",
      "        pass\n",
      "    return apl\n",
      "\n",
      "%lprun -f ba_step run( 1000, ssi_isolated, ba_step, analyse ) "
     ],
     "language": "python",
     "metadata": {},
     "outputs": []
    },
    {
     "cell_type": "markdown",
     "metadata": {},
     "source": [
      "Analyse results with respect to various parameter settings  \n",
      "1. Generate networks according to the models above ($N > 1000$ nodes)\n",
      "2. Compute CDF/PDF, describe the distribution and compute/describe its properties.\n",
      "3. Illustate the following dependencies:  \n",
      " * average path length to the number of nodes  \n",
      " * average clustering coefficient to the number of nodes  \n",
      " * average node degee to the nodes \"age\"\n",
      "4. Is scale-free property conserved in these models?"
     ]
    },
    {
     "cell_type": "code",
     "collapsed": false,
     "input": [
      "m0 = 21\n",
      "# G = ssi_isolated( m0 )\n",
      "G = ssi_connected( m0 )\n",
      "for i in xrange( 100 ) :\n",
      "    G = ba_step( G, m = 5, distr = ba_bayes_valency )\n",
      "\n",
      "nx.draw( G, pos = nx.circular_layout( G ), node_size = 10, linewidths = .5, edge_color = 'b' )\n",
      "\n",
      "\n"
     ],
     "language": "python",
     "metadata": {},
     "outputs": []
    },
    {
     "cell_type": "code",
     "collapsed": true,
     "input": [
      "m0 = 21\n",
      "G = ssi_isolated( m0 )\n",
      "\n",
      "fig = plt.figure( figsize = (8,6) )\n",
      "axe = fig.add_subplot( 111 )\n",
      "def animate( i, m ) :\n",
      "    global G\n",
      "    G = ba_step( G, m = m, distr = ba_bayes_valency )\n",
      "    axe.clear()\n",
      "    nx.draw( G, pos = nx.circular_layout( G ), ax = axe )\n",
      " \n",
      "## Animate the series of graphs \n",
      "anim = animation.FuncAnimation(fig, animate, frames=1000, interval=10, blit=True, fargs = [20,] )\n",
      "\n",
      "# call our new function to display the animation\n",
      "display_animation( anim )\n"
     ],
     "language": "python",
     "metadata": {},
     "outputs": []
    },
    {
     "cell_type": "markdown",
     "metadata": {},
     "source": [
      "<br/>"
     ]
    },
    {
     "cell_type": "markdown",
     "metadata": {},
     "source": [
      "## Analysis"
     ]
    },
    {
     "cell_type": "markdown",
     "metadata": {},
     "source": [
      "Analyse results with respect to various parameter settings  \n",
      "1. Generate networks according to the models above ($N > 1000$ nodes)\n",
      "2. Compute CDF/PDF, describe the distribution and compute/describe its properties.\n",
      "3. Illustate the following dependencies:  \n",
      " * average path length to the number of nodes  \n",
      " * average clustering coefficient to the number of nodes  \n",
      " * average node degee to the nodes \"age\"\n",
      "4. Is scale-free property conserved in these models?"
     ]
    },
    {
     "cell_type": "markdown",
     "metadata": {},
     "source": [
      "For convenience let's define wrappers for steps of the original and the restricted models."
     ]
    },
    {
     "cell_type": "code",
     "collapsed": true,
     "input": [
      "def ba_step_basic( G, m = 5 ) :\n",
      "    return ba_step( G, m, True, False )"
     ],
     "language": "python",
     "metadata": {},
     "outputs": []
    },
    {
     "cell_type": "code",
     "collapsed": true,
     "input": [
      "def ba_step_a( G, m = 5 ) :\n",
      "    return ba_step( G, m, True, True )"
     ],
     "language": "python",
     "metadata": {},
     "outputs": []
    },
    {
     "cell_type": "code",
     "collapsed": true,
     "input": [
      "def ba_step_b( G, m = 5 ) :\n",
      "    return ba_step( G, m, False, False )"
     ],
     "language": "python",
     "metadata": {},
     "outputs": []
    },
    {
     "cell_type": "markdown",
     "metadata": {},
     "source": [
      "Perform the simultaion"
     ]
    },
    {
     "cell_type": "code",
     "collapsed": true,
     "input": [
      "m0 = 3\n",
      "G = nx.complete_graph( m0 )\n",
      "# G = nx.empty_graph( m0 )\n",
      "print G.add_node(\"ass\")\n",
      "print G.add_node(\"bum\")\n",
      "print G.add_node(4)\n",
      "# G.remove_node(0)\n",
      "G.add_edge('ass', 0)\n",
      "G.add_edge('bum', 0)\n",
      "G.add_edge(4, 0)\n",
      "G.add_edge(4, 2)\n",
      "H=G.copy()"
     ],
     "language": "python",
     "metadata": {},
     "outputs": []
    },
    {
     "cell_type": "code",
     "collapsed": true,
     "input": [
      "print nx.edges(H)\n",
      "print nx.nodes(H)\n",
      "G.degree()"
     ],
     "language": "python",
     "metadata": {},
     "outputs": []
    },
    {
     "cell_type": "markdown",
     "metadata": {},
     "source": [
      "Just for fun, setup a method to animate the evolution of graphs. However this is not a good solution to the problem."
     ]
    },
    {
     "cell_type": "code",
     "collapsed": true,
     "input": [
      "nx.draw( G, pos = nx.circular_layout( G ), node_size = 10, linewidths = .5, edge_color = 'b' )\n",
      "\n"
     ],
     "language": "python",
     "metadata": {},
     "outputs": []
    },
    {
     "cell_type": "markdown",
     "metadata": {},
     "source": [
      "<hr \\><!-- This is a Blank Line -->"
     ]
    },
    {
     "cell_type": "heading",
     "level": 3,
     "metadata": {},
     "source": [
      "<hr />\n",
      "Task 2"
     ]
    },
    {
     "cell_type": "markdown",
     "metadata": {},
     "source": [
      "Consider the following  \"Vertex copying model\" of growing network.\n",
      "\n",
      "At every time step a random vertex from already existing vertices is selected and duplicated together with all edges, such that  every edge of the  vertex\n",
      "* is copied with probability $q$\n",
      "* is rewired to any other randomly selected vertex with probability $1-q$\n",
      "\n",
      "\n",
      "Starting state is defined by some small number of randomly connected vertices.\n",
      "\n",
      "The model can generate both directed and undirected networks.\n",
      "\n",
      "1. Generate  graphs based on the model ($N > 1000$ nodes)\n",
      "2. Compute CDF/PDF, describe the distribution and compute\\describe its properties.\n",
      "3. Illustate the following dependencies: \n",
      "    * average path length to the number of nodes\n",
      "    * average clustering coefficient to the number of nodes\n",
      "    * average node degee to the nodes \"age\"\n",
      "    \n",
      "Analyse results with respect to various parameter settings"
     ]
    }
   ],
   "metadata": {}
  }
 ]
}