{
 "metadata": {
  "name": "",
  "signature": "sha256:a6079c92b0fb2401d9f2b7d6a0b2a021fa3b7cca3a14b67547e877aba93ee01b"
 },
 "nbformat": 3,
 "nbformat_minor": 0,
 "worksheets": [
  {
   "cells": [
    {
     "cell_type": "heading",
     "level": 1,
     "metadata": {},
     "source": [
      "<center>Structural Analysis and Visualization of Networks</center>"
     ]
    },
    {
     "cell_type": "heading",
     "level": 2,
     "metadata": {},
     "source": [
      "<center>Home Assignment #2: Network models</center>"
     ]
    },
    {
     "cell_type": "heading",
     "level": 3,
     "metadata": {},
     "source": [
      "<center>Student: *Nazarov Ivan*</center>"
     ]
    },
    {
     "cell_type": "heading",
     "level": 4,
     "metadata": {},
     "source": [
      "<hr />\n",
      "General Information"
     ]
    },
    {
     "cell_type": "markdown",
     "metadata": {},
     "source": [
      "**Due Date:** 18.02.2015 23:59 <br \\>\n",
      "**Late submission policy:** -0.2 points per day <br \\>\n",
      "\n",
      "\n",
      "Please send your reports to <mailto:leonid.e.zhukov@gmail.com> and <mailto:shestakoffandrey@gmail.com> with message subject of the following structure:<br \\> **[HSE Networks 2015] *Nazarov* *Ivan* HA*1***\n",
      "\n",
      "Support your computations with figures and comments. <br \\>\n",
      "If you are using IPython Notebook you may use this file as a starting point of your report.<br \\>\n",
      "<br \\>\n",
      "<hr \\>"
     ]
    },
    {
     "cell_type": "heading",
     "level": 2,
     "metadata": {},
     "source": [
      "Problems"
     ]
    },
    {
     "cell_type": "heading",
     "level": 3,
     "metadata": {},
     "source": [
      "Task 1"
     ]
    },
    {
     "cell_type": "markdown",
     "metadata": {},
     "source": [
      "Consider Barabasi and Albert dynamical grow model. Two main ingredients of this model are *network growing* and *prefferential attachment*. Implement two restricted B&A-based models:\n",
      "<br \\>\n",
      "\n",
      "**Model A**\n",
      "<br \\>\n",
      "Lack of prefferential attachment, that is at each time-step form edges uniformly at random while network keeps growing.\n",
      "\n",
      "**Model B**\n",
      "<br \\>\n",
      "Lack of growing, that is fix total number of nodes, on each time-step randomly choose one and form edges with prefferential attachment.\n",
      "<br \\>\n",
      "\n",
      "1. Generate networks according to the models above ($N > 1000$ nodes)\n",
      "2. Compute CDF/PDF, describe the distribution and compute\\describe its properties.\n",
      "3. Illustate the following dependencies: \n",
      "    * average path length to the number of nodes\n",
      "    * average clustering coefficient to the number of nodes\n",
      "    * average node degee to the nodes \"age\"\n",
      "4. Is scale-free property conserved in these models?\n",
      "\n",
      "Analyse results with respect to various parameter settings"
     ]
    },
    {
     "cell_type": "markdown",
     "metadata": {},
     "source": [
      "<hr/><hr/>"
     ]
    },
    {
     "cell_type": "markdown",
     "metadata": {},
     "source": [
      "## Preamble\n",
      "We shall include all the necessary modules here, before any analysis."
     ]
    },
    {
     "cell_type": "code",
     "collapsed": false,
     "input": [
      "## As usual, attach the numpy and the netwrokx modules\n",
      "import networkx as nx\n",
      "import numpy as np\n",
      "import numpy.random as rnd\n",
      "\n",
      "import matplotlib.pyplot as plt\n",
      "\n",
      "%matplotlib inline"
     ],
     "language": "python",
     "metadata": {},
     "outputs": []
    },
    {
     "cell_type": "markdown",
     "metadata": {},
     "source": [
      "<br/>"
     ]
    },
    {
     "cell_type": "markdown",
     "metadata": {},
     "source": [
      "## Solution \\#1"
     ]
    },
    {
     "cell_type": "markdown",
     "metadata": {},
     "source": [
      "First and foremost, but solely for reference purposes, let's state the Barabasi-Albert dynamical growth model in its original form.\n",
      "\n",
      "The evolution of the network is represented by a sequence of graphs ${(G_n)}_{n\\geq0}$ with $G_n = \\big(V_n, E_n\\big)$.\n",
      "The process starts with a graph $G_0$ of $m_0$ nodes. The initial number of vertices is usually a small number.  At every moment $n$ the network $G_n$ undergoes evolution, which can be divided in two phases  \n",
      " * a new vertex $w'\\notin V_n$ is introduced into the network: $V_{n+1} = V_n \\cup \\{w'\\}$;\n",
      " * the vertex forms $m$ ($\\leq m_0$) links to pre-existing nodes chosen at random without replacement according to some distribution $D_n$ over the nodes $V_n$"
     ]
    },
    {
     "cell_type": "markdown",
     "metadata": {},
     "source": [
      "In the Barabasi-Albert growth model $D_n$ is the ``preferential connection'' distribution: for every $v\\in V_n$  \n",
      "\n",
      "$$\\mathbb{P}\\big(w'\\leadsto v\\big) = \\frac{\\delta_n(v)}{\\sum_{u\\in V_n}\\delta_n(u) }$$\n",
      "where $\\delta_n(v)$ is the degree of vertex $v$ in graph $G_n$."
     ]
    },
    {
     "cell_type": "code",
     "collapsed": false,
     "input": [
      "## The original attachment distribution of Barabasi-Albert\n",
      "def ba_valency( G, nbunch = None ) :\n",
      "## Get the distribution of the valency of the existing nodes base on the observed\n",
      "##  connectivity and degrees.\n",
      "    deg = G.degree( nbunch )\n",
      "## For some reason the call to $order( G )$ takes exceptonally long time to return\n",
      "##  But still, we need the numebr of edges here.\n",
      "    deg_sum = float( sum( deg.values( ) ) )\n",
      "## The vector of valencies is in the same order as the thr nbunch (or nx.nodes(.))\n",
      "    nbunch = nx.nodes( G ) if nbunch is None else nbunch\n",
      "    return np.fromiter( ( deg[ n ] / deg_sum for n in nbunch ),\n",
      "        count = len( nbunch ), dtype = np.float )"
     ],
     "language": "python",
     "metadata": {},
     "outputs": []
    },
    {
     "cell_type": "markdown",
     "metadata": {},
     "source": [
      "### Analysis of Barabasi-Albert model\n",
      "#### Motivation\n",
      "\n",
      "In their exposition Barabasi-Albert never state that the initial network $G_0$ is connected, although it should be noted that, unless $m\\neq m_0$, the first ever attachment step brings about a connected star graph. Nevertheless, the model is stated as follows : (see p.551 c.1 L 30-35 of [Barabasi, Albert; 1999]) \n",
      "> To incorporate the growing character of the network, starting with a small number ($m_0$) of vertices, at every time step we add a new vertex with $m$ ($\\leq \udbff\udc14m_0$) edges that link the new vertex to $m$ different vertices already present in the system.\n",
      "\n",
      "Furthermore : (see p.551 c.1 L 40-42 of [Barabasi, Albert; 1999])\n",
      "> After $t$ time steps, the model leads to a random network with $t\udbff\udc04 + m_0$ vertices and $mt$ edges.\n",
      "\n",
      "Note that had the initial network $G_0$ been connected, at least minimally, it would have had at least $mt + (m_0-1)$ edges by the end of step $t$. The $m_0-1$ term comes form the fact that the minimal spanning tree is the minimal connected graph."
     ]
    },
    {
     "cell_type": "markdown",
     "metadata": {},
     "source": [
      "Now, the case $m < m_0$ does not seem unnatural as it models the situation when the edge fromation is dominated by vertex discovery rather than preferential attachment.\n",
      "\n",
      "In light of this observation the previous definition of attachment probability dstribution suffers from the following drawback: isolated vertices remain almost surely isolated.\n",
      "\n",
      "In my opinion, this does not seem to be what authors had had in mind when they devised their model and attempted to check if both evolutionary phases were indeed necessary for the development of the power law scaling (see p.551 c.2 L 8-9 of [Barabasi, Albert; 1999] ) : \n",
      "> In model B, we start with $N$ vertices and no edges. At each time step, we randomly select a vertex and connect it with probability $\\Pi\udbff\udc0a(k_i) =\udbff\udc06 \\frac{k_i}{\udbff\udc0b\\sum_j k_j}$ to vertex $i$ in the system.\n",
      "\n",
      "This definition of attachment probabilities would have no effect on the Barabasi-Albert model and its type-B restriction even in the case when $m < m_0$, if the evolution began with a connected graph $G_0$."
     ]
    },
    {
     "cell_type": "markdown",
     "metadata": {},
     "source": [
      "### Bayesian preferential attachment\n",
      "Nevertheless it is easy to patch this \"vagueness\" in the model.\n",
      "Let's imagine for a moment that for some observed graph $G = (V,E)$ we are faced with the problem of estimating the probabilities ${(\\theta_v)}_{v\\in W}$ of getting attached to a node in some $W\\subseteq V$. Then the vertex degrees of the nodes in $W$ can be regarded as the evidence of attachement, whence the likelihood function should be given by:  \n",
      "\n",
      "$$L\\Big(G; {(\\theta_v)}_{v\\in W}\\Big) = \\prod_{v\\in W} \\theta_v^{\\delta(v)}$$"
     ]
    },
    {
     "cell_type": "markdown",
     "metadata": {},
     "source": [
      "#### Brief theory\n",
      "For this task of parameter estimation, let's employ Bayesian approach instead of the common MLE, since the latter tends to overfit the model because it fails to incorporate the uncertainty of the parameters.\n",
      "\n",
      "Cosider a prior $\\pi(\\cdot)$ on the space of possible probability vectors ${(\\theta_v)}_{v\\in W}$ -- a $(n-1)$-dimensional simplex $S^\\circ_{n-1}\\subseteq {[0,1]}^n$ where $n=\\big\\rvert W\\big\\lvert$. Using Bayes' theorem, the posterior distribution of ${(\\theta_v)}_{v\\in W}$ given the observed data is  \n",
      "\n",
      "$$p\\Big(\\Big.{(\\theta_v)}_{v\\in W}\\,\\big.\\big\\rvert\\,G\\Big.\\Big)\n",
      "\\propto p\\Big(\\Big.G\\,\\big.\\big\\rvert\\,{(\\theta_v)}_{v\\in W}\\Big.\\Big) \\pi\\Big({(\\theta_v)}_{v\\in W}\\Big)\n",
      "= L\\Big(G; {(\\theta_v)}_{v\\in W}\\Big) \\pi\\Big({(\\theta_v)}_{v\\in W}\\Big)$$\n",
      "\n",
      "In general it is convenient to pick a prior $\\pi(\\cdot)$ from an \"**eigen-family**\" of this prior-to-posterior tranfromation. Such prior families are know nas the **conjugate prior families**. For this particular kind of likelihood such a family is the **Dirichlet distribution** given by  \n",
      "\n",
      "$$\\text{Dir}\\big({(\\alpha_v)}_{v\\in W}\\big) = \\frac{\\Gamma\\big( \\sum_{v\\in W} \\alpha_v \\big)}{ \\prod_{v\\in W} \\Gamma\\big(\\alpha_v \\big)} \\prod_{v\\in W} \\theta_v^{\\alpha_v-1}$$\n",
      "\n",
      "It is easy to demonstrate that the posterior is $\\text{Dir}\\big({(\\alpha_v)}_{v\\in W} + {(\\delta(v))}_{v\\in W}\\big)$. This implies that the posterior probability of a random vertex being connected to a node $v\\in W$ is given by  \n",
      "$$p\\Big(\\Big. v\\,\\big.\\big\\rvert\\,G\\Big.\\Big)\n",
      "= \\int p\\Big(\\Big. v\\,\\big.\\big\\rvert\\,{(\\theta_v)}_{v\\in W}\\Big.\\Big) p\\Big(\\Big. {(\\theta_v)}_{v\\in W}\\, \\big.\\big\\rvert\\,G\\Big.\\Big) d\\mathbf{\\theta} = \\ldots $$  \n",
      "\n",
      "which in our case resolves into  \n",
      "$$\\ldots = \\int \\theta_v \\text{Dir}\\big({(\\alpha_v)}_{v\\in W} + {(\\delta(v))}_{v\\in W}\\big) d\\mathbf{\\theta}\n",
      "= \\frac{\\alpha_v + \\delta(v)}{\\sum_{u\\in W} \\alpha_u + \\delta(u)}$$"
     ]
    },
    {
     "cell_type": "markdown",
     "metadata": {},
     "source": [
      "#### Final probability vector\n",
      "Since there is no reason to assume any specific prior distribution of the values of the attachment probability vectors, let's use an uninformative prior, which assigna equal probability of every vector in the simplex. In the case of a Dirichlet family, this sets the hyperparameter ${(\\alpha_v)}_{v\\in W}$ of the prior to a vector of ones: $\\alpha_v=1$ for each $v\\in W$.\n",
      "\n",
      "Therefore the attachment probability distribution in $G_n$ is given by  \n",
      "\n",
      "$$p\\Big(\\Big. w'\\leadsto v\\,\\big.\\big\\rvert\\,G_n\\Big.\\Big) = \\frac{\\delta_n(v)+1}{\\big\\lvert V_n\\big\\rvert + \\sum_{u\\in S}\\delta_n(u)}$$  \n",
      "\n",
      "Listed below is the procedure, which computes the required distribution for a given graph $G$."
     ]
    },
    {
     "cell_type": "code",
     "collapsed": false,
     "input": [
      "## Bayesian valency distribution. Funny thing is that this correction\n",
      "##  turns out to is\n",
      "def ba_bayes_valency( G, nbunch = None ) :\n",
      "## Get the degree of nodes\n",
      "    deg = G.degree( nbunch )\n",
      "## Get the adjusted sum of vertex degrees\n",
      "    nbunch = nx.nodes( G ) if nbunch is None else nbunch\n",
      "    deg_sum = float( sum( deg.values( ) ) + len( nbunch ) )\n",
      "## Compute the posterior distribution of vertex valency\n",
      "    return np.fromiter( ( ( deg[ n ] + 1.0 ) / deg_sum for n in nbunch ),\n",
      "        count = len( nbunch ), dtype = np.float )"
     ],
     "language": "python",
     "metadata": {},
     "outputs": []
    },
    {
     "cell_type": "markdown",
     "metadata": {},
     "source": [
      "Bayesian smoothing reduces the zero-degree penalty on the isolated vertices, thus enabling vertex discovery during the early stages of evolution. Notable thing is that for an uninformative prior the posterior distribution given $G$ is equivalent to the original attachment distribution for the same graph with an extra loop at every vertex."
     ]
    },
    {
     "cell_type": "markdown",
     "metadata": {},
     "source": [
      "### Model evolution"
     ]
    },
    {
     "cell_type": "markdown",
     "metadata": {},
     "source": [
      "#### _Complete model_\n",
      "A has been mentioned above the basic growth step in the complete Barabasi-Albert consisted of two phases:\n",
      " 1. growth;\n",
      " 2. attachment according to valency distribution."
     ]
    },
    {
     "cell_type": "code",
     "collapsed": true,
     "input": [
      "def barabasi_albert( n, m = 10, callback = None ) :\n",
      "## Make sure the callback is a proper function\n",
      "    callback_fn = callback if callable( callback ) else lambda G: None\n",
      "## Barabasi-Albert evolution always begins with the isolated graph\n",
      "    G = nx.empty_graph( m )\n",
      "## Identify vertices by consequitive integers. \n",
      "    v = G.number_of_nodes( )\n",
      "## To speed up the computations keep track of the node degree locally,\n",
      "##  but instead of using a dictionary, store them in a linear array.\n",
      "    degree = np.zeros( n, dtype = np.int ) ; degree_half_sum = 0\n",
      "## In the original Barabasi-Albert model the first new vertex\n",
      "##  is attached to all m vertices, thus making the graph connected.\n",
      "    U = range( m )\n",
      "## Note that the graph itself is used just to keep track of the edges.\n",
      "    result = list( )\n",
      "    while v < n :\n",
      "## Add pending edges\n",
      "        G.add_edges_from( ( v, u ) for u in U )\n",
      "## Record the vertex degree\n",
      "        degree[ v ] += m ; degree[ U ] += 1\n",
      "        degree_half_sum += m\n",
      "## The evolution step is complete, call therequired function\n",
      "        result.append( callback_fn( G ) )\n",
      "## Create a new vertex using stack allocation -- on top of others.\n",
      "        v = G.number_of_nodes( )\n",
      "## The nodes which the new vertex is attached to are picked\n",
      "##  according to the preferential attachment distribution.\n",
      "        probabilities = degree[ :v ] / ( 2.0 * degree_half_sum )\n",
      "        U = rnd.choice( v, size = m, p = probabilities, replace = False )\n",
      "    return G, result\n",
      "## https://networkx.github.io/documentation/latest/reference/classes.graph.html"
     ],
     "language": "python",
     "metadata": {},
     "outputs": []
    },
    {
     "cell_type": "markdown",
     "metadata": {},
     "source": [
      "#### _Model A_\n",
      "In **model A**, the first restricted verison of the evolution, the network grows with time but the newly added nodes are attached to the existing ones uniformly at random.\n",
      "The code below implements the basic steps of both the Bayesian and the first restricted model."
     ]
    },
    {
     "cell_type": "code",
     "collapsed": true,
     "input": [
      "## This evolution step is similar to the original BA step, except it\n",
      "##  relaxes the requirement that m_0 be equal to m, and it implemets\n",
      "##  the egalitarian attachment and bayesian valency.\n",
      "def barabasi_albert_model_a( n, m0 = 10, m = 5, callback = None, bayes = True ) :\n",
      "    callback_fn = callback if callable( callback ) else lambda G: None\n",
      "    G = nx.empty_graph( m0 )\n",
      "    degree = np.zeros( n, dtype = np.int ) ; degree_half_sum = 0\n",
      "    result = list( )\n",
      "    while True :\n",
      "        v = G.number_of_nodes( )\n",
      "        if v >= n : break\n",
      "## Select either the bayesian valency distribution, or uniform attachment\n",
      "        theta = None if not bayes else ( degree[ :v ] + 1.0 ) / ( 2.0 * degree_half_sum + v )\n",
      "        U = rnd.choice( v, size = m, p = theta, replace = False )\n",
      "        G.add_edges_from( ( v, u ) for u in U )\n",
      "        degree[ v ] += m ; degree[ U ] += 1\n",
      "        degree_half_sum += m ;\n",
      "        result.append( callback_fn( G ) )\n",
      "    return G, result"
     ],
     "language": "python",
     "metadata": {},
     "outputs": []
    },
    {
     "cell_type": "markdown",
     "metadata": {},
     "source": [
      "#### _Model B_\n",
      "**Model B** retains the preferential attachment phase, but foregoes the growth step. Instead, a random existing node is picked and is linked with other nodes, preferentially chosing vertices with high degree. Initally this model begins its evolution from a set of isolated nodes.\n",
      "\n",
      "For this model to work as intended the only option is to use the Bayesian valency distribution, since the originally proposed probabilities handle poorly the isolated nodes, as it has been alread stated. "
     ]
    },
    {
     "cell_type": "markdown",
     "metadata": {},
     "source": [
      "###### A couple of nuances\n",
      "Let $w'\\in V$ be a randomly picked vertex. Since multiple connections and loops are forbidden in the model, the preferential attachment of a vertex $w'$ must use conditional node valency distribution. If a subset $S\\subseteq V$, $w'\\in S$, is **prohibited**, then for any vertex $v\\in V\\setminus S$  \n",
      "\n",
      "$$p\\Big(\\Big. w'\\leadsto v\\,\\big.\\big\\rvert\\, w'\\not\\!\\leadsto S,\\,G \\Big.\\Big)\n",
      "= \\frac{p\\Big(\\Big. w'\\leadsto v\\,\\big.\\big\\rvert G \\Big.\\Big)}{p\\Big(\\Big. w'\\not\\!\\leadsto S\\,\\big.\\big\\rvert G \\Big.\\Big)}\n",
      "= \\frac{\\delta_n(v)+1}{\\big\\lvert V\\setminus S\\big\\rvert + \\sum_{u\\in V\\setminus S}\\delta_n(u)} $$  \n",
      "\n",
      "In particular, the prohibited set for a vertex $w'$ is itself and the set of its immediate neighbours:  \n",
      "\n",
      "$$S = \\big\\{w'\\big\\}\\cup N_G(w')$$\n",
      "\n",
      "Another subtle point is the connection strategy when $\\big\\lvert N_G(w') \\big\\rvert\\geq n-1-m$. If $\\big\\lvert N_G(w') \\big\\rvert < n-1$, the model forcefully connects $w'$ to all of the remaining vertices. If however $w'$ is saturated, then the attachment step for this node is skipped as this vertex is just unable to form new connections."
     ]
    },
    {
     "cell_type": "code",
     "collapsed": true,
     "input": [
      "## Another relaxation of the complete Barabasi-Albert model, which eliminates\n",
      "##  the growth phase. This restriction uses the Bayesian valency distribution.\n",
      "##  when performing preferential attachment.\n",
      "def barabasi_albert_model_b( n, m = 5, callback = None ) :\n",
      "    callback_fn = callback if callable( callback ) else lambda G: None\n",
      "    G = nx.empty_graph( n )\n",
      "## Since the Bayesian correction amounts to adding loops, initialize the\n",
      "##  degree with ones.\n",
      "    degree = np.ones( n, dtype = np.int ) ; degree_sum = n\n",
      "    iter = 0\n",
      "    result = list( )\n",
      "    while iter < n :\n",
      "        iter += 1\n",
      "## 1. Pick an existing one at random (cf. p.551 c.3 L 9 of [Barabasi, Albert; 1999])\n",
      "        v = rnd.randint( n, size = 1 )[ 0 ]\n",
      "## Get its neighbours\n",
      "        S = nx.neighbors( G, v )\n",
      "## If it has more neighbours than n-1-m, connect it to the remaining nodes\n",
      "##  and continue. If the node is staturated, ignore it.\n",
      "        m_prime = min( m, n - 1 - len( S ) )\n",
      "        if m_prime == 0 : continue\n",
      "## Compute the conditional valency of each vertex in the current configuration\n",
      "## Get the correction terms due to conditioning. The \"background\" ones\n",
      "##  which come from the Baesian correction have been embedded into the \n",
      "##  degree array.\n",
      "        c_term = degree[ v ] + np.sum( degree[ S ] )\n",
      "## Calculate the probability\n",
      "        theta = degree / ( 0.0 + degree_sum - c_term )\n",
      "## Zero out the prohibited vertices, so that they'll never be picked.\n",
      "        theta[ v ] = 0 ; theta[ S ] = 0\n",
      "## 2. Pick m' other nodes to preferentially link the chosen one to.\n",
      "        U = rnd.choice( n, size = m_prime, p = theta, replace = False )\n",
      "        G.add_edges_from( ( v, u ) for u in U )\n",
      "        degree[ v ] += m ; degree[ U ] += 1\n",
      "        degree_sum += m*2 ;\n",
      "        result.append( callback_fn( G ) )\n",
      "    return G, result"
     ],
     "language": "python",
     "metadata": {},
     "outputs": []
    },
    {
     "cell_type": "markdown",
     "metadata": {},
     "source": [
      "### Simulation study"
     ]
    },
    {
     "cell_type": "markdown",
     "metadata": {},
     "source": [
      "#### Analysis toolkit"
     ]
    },
    {
     "cell_type": "markdown",
     "metadata": {},
     "source": [
      "A useful tool for exploring the tail behaviour of sample is the **M**ean **E**xcess plot, defined as the  \n",
      "\n",
      "$$M(u) = \\mathbb{E}\\Big(\\Big. X-u\\,\\big.\\big\\rvert\\,X\\geq u \\Big.\\Big)$$\n",
      "of which the emprical counterpart is  \n",
      "$$\\hat{M}(u) = {\\Big(\\sum_{i=1}^n 1_{x_i\\geq u}\\Big)^{-1}}\\sum_{i=1}^n (x_i-u) 1_{x_i\\geq u}$$\n",
      "The key properties of $M(u)$ are\n",
      " * it steadily increases for a power-law tails;\n",
      " * it level for exponential tails;\n",
      " * it decays for a finite tail.\n",
      "When dealing with the empirical mean-excesses one looks for the trend in the large thresholds to discern behaviour, necessarily bearing in mind that in that region the varinace of the $\\hat{M}(u)$ grows."
     ]
    },
    {
     "cell_type": "code",
     "collapsed": true,
     "input": [
      "from scipy.stats import rankdata\n",
      "def mean_excess( data ) :\n",
      "    data = np.array( sorted( data, reverse = True ) )\n",
      "## Compute the last positions in the sorted array of each repeated observation\n",
      "    ranks = rankdata( data, method = 'max' )\n",
      "## Since the array is sorted, the number of observation exceeding the current\n",
      "##  is givne by difference between the length of the array and the max-rank.\n",
      "    excesses = np.array( np.unique( len( data ) - ranks ), dtype = np.int )\n",
      "## Get the last values in each group -- the thresholds\n",
      "    thresholds = data[ excesses ]\n",
      "## Get the sum of all values greater than the current threshold \n",
      "    mean_excess = np.cumsum( data )[ excesses ] / ( excesses + 0.0 ) - thresholds\n",
      "    return thresholds, mean_excess"
     ],
     "language": "python",
     "metadata": {},
     "outputs": []
    },
    {
     "cell_type": "markdown",
     "metadata": {},
     "source": [
      "#### Plan of the simulation study"
     ]
    },
    {
     "cell_type": "markdown",
     "metadata": {},
     "source": [
      "Below are the key point to test in the simulation study:\n",
      " 1. Test the effects of the Bayesian correction on the scal-free properties of hte network;\n",
      "  * run the original Barabasi-Albert model against the type-A restriction with Bayesian valency distribution for $m = m_0 = 1, 5, 13, 31$ for at least 5000 nodes;\n",
      " 2. Verify the necessity of both phases in the emergence of the scale-free degree law:\n",
      "  1. Evolve the type-A restriction with uniform attachment distribution for at least 5000 iterations for $m = m_0 = 1, 5, 13, 31$;\n",
      "  2. Run the type-B restricted model for 5000 generations and for  $m = 1, 5, 13, 31$;\n",
      " 3. "
     ]
    },
    {
     "cell_type": "markdown",
     "metadata": {},
     "source": [
      "Contesting the Bayesian valency against the orgignal model"
     ]
    },
    {
     "cell_type": "code",
     "collapsed": false,
     "input": [
      "## Define the experiment parameters\n",
      "M0 = 1\n",
      "M = 1"
     ],
     "language": "python",
     "metadata": {},
     "outputs": []
    },
    {
     "cell_type": "code",
     "collapsed": true,
     "input": [
      "## Analyse the model with the specified parameters\n",
      "G0, _ = barabasi_albert( 10000, m = M )\n",
      "G1, _ = barabasi_albert_model_a( 10000, m0 = M0, m = M, bayes = True )\n",
      "plt.figure( 1, figsize = ( 12, 6 ) )\n",
      "deg0 = G0.degree().values()\n",
      "deg1 = G1.degree().values()\n",
      "plt.subplot(121)\n",
      "v0, f0 = np.unique( deg0, return_counts = True )\n",
      "v1, f1 = np.unique( deg1, return_counts = True )\n",
      "plt.title( \"Node degree frequency\" )\n",
      "plt.loglog( v0, f0, \"ro\" )\n",
      "plt.loglog( v1, f1, \"b<\" )\n",
      "plt.xlabel( \"degree\" ) ; plt.ylabel( \"frequency\" )\n",
      "## Mean excess plot\n",
      "plt.subplot(122)\n",
      "t0, e0 = mean_excess( deg0 )\n",
      "t1, e1 = mean_excess( deg1 )\n",
      "plt.title( \"Mean excess plot\" )\n",
      "plt.loglog( t0, e0, \"ro-\", linewidth = 2 )\n",
      "plt.loglog( t1, e1, \"bo-\", linewidth = 2 )\n",
      "plt.ylabel( \"mean excess\" ) ; plt.xlabel( \"threshold\" )\n",
      "## Commit to device\n",
      "plt.show( )"
     ],
     "language": "python",
     "metadata": {},
     "outputs": []
    },
    {
     "cell_type": "code",
     "collapsed": false,
     "input": [
      "## Create a convenient macro definition\n",
      "%macro -q fa _i"
     ],
     "language": "python",
     "metadata": {},
     "outputs": []
    },
    {
     "cell_type": "code",
     "collapsed": false,
     "input": [
      "M0 = 300 ; M = 13"
     ],
     "language": "python",
     "metadata": {},
     "outputs": []
    },
    {
     "cell_type": "code",
     "collapsed": false,
     "input": [
      "fa"
     ],
     "language": "python",
     "metadata": {},
     "outputs": []
    },
    {
     "cell_type": "markdown",
     "metadata": {},
     "source": [
      "Analyse results with respect to various parameter settings  \n",
      "1. Generate networks according to the models above ($N > 1000$ nodes)\n",
      "2. Compute CDF/PDF, describe the distribution and compute/describe its properties.\n",
      "3. Illustate the following dependencies:  \n",
      " * average path length to the number of nodes  \n",
      " * average clustering coefficient to the number of nodes  \n",
      " * average node degee to the nodes \"age\"\n",
      "4. Is scale-free property conserved in these models?"
     ]
    },
    {
     "cell_type": "markdown",
     "metadata": {},
     "source": [
      "The list of admissible study configurations is given below:\n",
      "1. the initial graph is a collection of isolated vertices:  \n",
      "  1. Bayesian valency distribution: **Orginal**, **B**;\n",
      "  2. Uniform attachment: **A**;\n",
      "\n",
      "2. the initial network is a connected graph:\n",
      "   1. Bayesian valency distribution: **Orginal**, **B**;\n",
      "   2. Original preferential attachment distribution: **Orginal**, **B**;\n",
      "   3. Uniform attachment: **A**."
     ]
    },
    {
     "cell_type": "code",
     "collapsed": true,
     "input": [
      "def analyse( G, **kwargs ) :\n",
      "    if not nx.is_connected( G ) :\n",
      "        return float( \"inf\" ) \n",
      "    return nx.average_shortest_path_length( G )\n",
      "\n",
      "# %lprun -f ba_step_no_growth run( 1000, ssi_isolated, ba_step_no_growth, analyse )#, m = 10 ) \n",
      "r, G = run( 1000, ssi_connected, ba_step, analyse, m = 10 ) "
     ],
     "language": "python",
     "metadata": {},
     "outputs": []
    },
    {
     "cell_type": "markdown",
     "metadata": {},
     "source": [
      "For a complete analysis of the model let's summarize the changes made so far and the correpsonding options:\n",
      " * Attachment distribution:\n",
      "  1. Original Barabasi-Albert preferential attachment;\n",
      "  2. Bayesian valency distribution;\n",
      " * Model dynamics:\n",
      "  1. Complete model: growth and preferential attachment;\n",
      "  2. **Model A**: growth and egalitarian attachment;\n",
      "  3. **Model B**: stunted growth -- fixed number of nodes and bayes preferential attachment;\n",
      " * Initial network state:\n",
      "  1. A random connected graph of order $m_0$;\n",
      "  2. A collection of isolated vertices (only bayesian attachment).\n",
      "  \n",
      "In general the launching the simulation study requires an initialisation routine and an evolution step algorithm. Define for convenience a generic experiment routine."
     ]
    },
    {
     "cell_type": "code",
     "collapsed": false,
     "input": [
      "## An isolated graph\n",
      "def ssi_isolated( m0 = 10, **kwargs ) :\n",
      "    return nx.empty_graph( m0 )\n",
      "\n",
      "## To generate a random connected graph of the given order\n",
      "##  simulate the model A starting with a trivial graph.\n",
      "def ssi_connected( m0 = 10, **kwargs ) :\n",
      "    G = nx.trivial_graph( )\n",
      "    for i in xrange( m0 - 1 ) :\n",
      "## For each new node pick a vertex to link it with\n",
      "        v = G.number_of_nodes( )\n",
      "        u = rnd.choice( nx.nodes( G ), size = 1, replace = False )[ 0 ]\n",
      "        G.add_edge( v, u )\n",
      "    return G"
     ],
     "language": "python",
     "metadata": {},
     "outputs": []
    },
    {
     "cell_type": "code",
     "collapsed": true,
     "input": [
      "G, deg = barabasi_albert_model_a( 2000, m0 = 10, m = 1, bayes = False )\n",
      "freq_me_plot( deg )\n",
      "print np.unique(deg, return_counts = True)"
     ],
     "language": "python",
     "metadata": {},
     "outputs": []
    },
    {
     "cell_type": "code",
     "collapsed": true,
     "input": [
      "G, deg = barabasi_albert_model_b( 2000, m = 1 )\n",
      "freq_me_plot( deg )\n",
      "print np.unique(deg, return_counts = True)"
     ],
     "language": "python",
     "metadata": {},
     "outputs": []
    },
    {
     "cell_type": "code",
     "collapsed": false,
     "input": [
      "## Model B is essentailly different from the the complete Barabasi-Albert model, as it \n",
      "def ba_step_no_growth( G, distr = ba_bayes_valency ) :\n",
      "    v = rnd.choice( nx.nodes( G ), size = 1 )[ 0 ]\n",
      "## Remove the vertex from the graph\n",
      "    U = G.neighbors( v )\n",
      "    G.remove_node( v )\n",
      "## 2. Pick one other node to preferetially link the chosen one with.\n",
      "    theta = None if not callable( distr ) else distr( G )\n",
      "## The vector of valencies is in the same order as the output of nx.nodes(.)\n",
      "    U.extend( rnd.choice( nx.nodes( G ), size = 1, p = theta, replace = False ) )\n",
      "## Restore the original edges and add a new one\n",
      "    G.add_edges_from( ( v, u ) for u in U )\n",
      "## Return the evolved network\n",
      "    return G"
     ],
     "language": "python",
     "metadata": {},
     "outputs": []
    },
    {
     "cell_type": "code",
     "collapsed": false,
     "input": [
      "## The growth step of the complete Barabasi-Albert model, with an optional distribution parameter.\n",
      "def ba_step( G, m = 5, distr = ba_bayes_valency ) :\n",
      "## 1. Add a vertex to the new one. Create a new vertex: label it using ``stack allocation''. \n",
      "    v = G.number_of_nodes( )\n",
      "## 2. Attach the new vertex to the existing node uniformly or accroding to the specified distribution\n",
      "    theta = None if not callable( distr ) else distr( G )\n",
      "## Pick out nodes to connect to without replacement from $\\theta$\n",
      "    U = rnd.choice( nx.nodes( G ), size = m, p = theta, replace = False )\n",
      "## The new vertex v is added automatically \n",
      "    G.add_edges_from( ( v, u ) for u in U )\n",
      "## Return the evolved network\n",
      "    return G\n",
      "## For quick reference on the graph methods and properties see\n",
      "## https://networkx.github.io/documentation/latest/reference/classes.graph.html"
     ],
     "language": "python",
     "metadata": {},
     "outputs": []
    },
    {
     "cell_type": "code",
     "collapsed": false,
     "input": [
      "## A generic simulation routine, which runs the experiment\n",
      "##  for a given number of generations.\n",
      "def run( N, init = None, step = None, fn = None, **kwargs ) :\n",
      "    G = init( **kwargs )\n",
      "    result = list( )\n",
      "    for i in xrange( N ) :\n",
      "        if( i % ( N // 10 ) == 0 ) and i > 0 :\n",
      "            print i\n",
      "        G = step( G, **kwargs )\n",
      "        if callable( fn ) :\n",
      "            result.append( fn( G, **kwargs ) )\n",
      "    return ( result, G )"
     ],
     "language": "python",
     "metadata": {},
     "outputs": []
    },
    {
     "cell_type": "code",
     "collapsed": true,
     "input": [
      "m0 = 21\n",
      "# G = ssi_isolated( m0 )\n",
      "G = ssi_connected( m0 )\n",
      "for i in xrange( 100 ) :\n",
      "    G = ba_step( G, m = 5, distr = ba_bayes_valency )\n",
      "\n",
      "nx.draw( G, pos = nx.circular_layout( G ), node_size = 10, linewidths = .5, edge_color = 'b' )\n",
      "\n",
      "\n"
     ],
     "language": "python",
     "metadata": {},
     "outputs": []
    },
    {
     "cell_type": "code",
     "collapsed": false,
     "input": [
      "m0 = 21\n",
      "G = ssi_isolated( m0 )\n",
      "\n",
      "fig = plt.figure( figsize = (8,6) )\n",
      "axe = fig.add_subplot( 111 )\n",
      "def animate( i, m ) :\n",
      "    global G\n",
      "    G = ba_step( G, m = m, distr = ba_bayes_valency )\n",
      "    axe.clear()\n",
      "    nx.draw( G, pos = nx.circular_layout( G ), ax = axe )\n",
      " \n",
      "## Animate the series of graphs \n",
      "anim = animation.FuncAnimation(fig, animate, frames=1000, interval=10, blit=True, fargs = [20,] )\n",
      "\n",
      "# call our new function to display the animation\n",
      "display_animation( anim )\n"
     ],
     "language": "python",
     "metadata": {},
     "outputs": []
    },
    {
     "cell_type": "markdown",
     "metadata": {},
     "source": [
      "<br/>"
     ]
    },
    {
     "cell_type": "markdown",
     "metadata": {},
     "source": [
      "Analyse results with respect to various parameter settings  \n",
      "1. Generate networks according to the models above ($N > 1000$ nodes)\n",
      "2. Compute CDF/PDF, describe the distribution and compute/describe its properties.\n",
      "3. Illustate the following dependencies:  \n",
      " * average path length to the number of nodes  \n",
      " * average clustering coefficient to the number of nodes  \n",
      " * average node degee to the nodes \"age\"\n",
      "4. Is scale-free property conserved in these models?"
     ]
    },
    {
     "cell_type": "markdown",
     "metadata": {},
     "source": [
      "For convenience let's define wrappers for steps of the original and the restricted models."
     ]
    },
    {
     "cell_type": "markdown",
     "metadata": {},
     "source": [
      "Perform the simultaion"
     ]
    },
    {
     "cell_type": "markdown",
     "metadata": {},
     "source": [
      "Just for fun, setup a method to animate the evolution of graphs. However this is not a good solution to the problem."
     ]
    },
    {
     "cell_type": "code",
     "collapsed": false,
     "input": [
      "nx.draw( G, pos = nx.circular_layout( G ), node_size = 10, linewidths = .5, edge_color = 'b' )\n",
      "\n"
     ],
     "language": "python",
     "metadata": {},
     "outputs": []
    },
    {
     "cell_type": "markdown",
     "metadata": {},
     "source": [
      "<hr \\><!-- This is a Blank Line -->"
     ]
    },
    {
     "cell_type": "heading",
     "level": 3,
     "metadata": {},
     "source": [
      "<hr />\n",
      "Task 2"
     ]
    },
    {
     "cell_type": "markdown",
     "metadata": {},
     "source": [
      "Consider the following  \"Vertex copying model\" of growing network.\n",
      "\n",
      "At every time step a random vertex from already existing vertices is selected and duplicated together with all edges, such that  every edge of the  vertex\n",
      "* is copied with probability $q$\n",
      "* is rewired to any other randomly selected vertex with probability $1-q$\n",
      "\n",
      "\n",
      "Starting state is defined by some small number of randomly connected vertices.\n",
      "\n",
      "The model can generate both directed and undirected networks.\n",
      "\n",
      "1. Generate  graphs based on the model ($N > 1000$ nodes)\n",
      "2. Compute CDF/PDF, describe the distribution and compute\\describe its properties.\n",
      "3. Illustate the following dependencies: \n",
      "    * average path length to the number of nodes\n",
      "    * average clustering coefficient to the number of nodes\n",
      "    * average node degee to the nodes \"age\"\n",
      "    \n",
      "Analyse results with respect to various parameter settings"
     ]
    },
    {
     "cell_type": "markdown",
     "metadata": {},
     "source": [
      "<br/>"
     ]
    },
    {
     "cell_type": "markdown",
     "metadata": {},
     "source": [
      "The code below is for service purposes only and does not concern the study itself. It attempts to make a video out of the matplotlib animation sequence."
     ]
    },
    {
     "cell_type": "code",
     "collapsed": false,
     "input": [
      "## This does not seem like a seamless way to generate animated plots.\n",
      "## Ensure that ffmpeg library is installed, since without it evolution\n",
      "##  animations won't work.\n",
      "\n",
      "# http://nbviewer.ipython.org/url/jakevdp.github.io/downloads/notebooks/AnimationEmbedding.ipynb\n",
      "# http://jakevdp.github.io/blog/2012/09/05/quantum-python/\n",
      "from tempfile import NamedTemporaryFile\n",
      "from matplotlib import animation\n",
      "\n",
      "## Convert the matplotlib animation into a video clip, stored locally in\n",
      "##  the object in base64 format.\n",
      "CONTENT_TYPE = \"\"\"data:video/x-m4v;base64,{0}\"\"\"\n",
      "def anim_to_html( anim ) :\n",
      "    if not hasattr( anim, '_encoded_video' ) :\n",
      "        with NamedTemporaryFile( suffix = '.mp4' ) as f :\n",
      "            anim.save( f.name, fps = 15, extra_args = [ '-vcodec', 'libx264', '-pix_fmt', 'yuv420p' ] )\n",
      "            video = open( f.name, \"rb\" ).read( )\n",
      "            anim._encoded_video = video.encode( \"base64\" )\n",
      "    return CONTENT_TYPE.format( anim._encoded_video )\n",
      "\n",
      "## Use direct HTML output capabilities of iPython\n",
      "from IPython.display import HTML\n",
      "## This HTML node is going to be used for embedding video\n",
      "VIDEO_TAG = \"\"\"<video controls><source src=\"{0}\" type=\"video/mp4\">\n",
      "Your browser does not support the video tag.</video>\"\"\"\n",
      "def display_animation( anim ) :\n",
      "## Close and output\n",
      "    plt.close( anim._fig )\n",
      "    return HTML( VIDEO_TAG.format( anim_to_html( anim ) ) )"
     ],
     "language": "python",
     "metadata": {},
     "outputs": []
    }
   ],
   "metadata": {}
  }
 ]
}