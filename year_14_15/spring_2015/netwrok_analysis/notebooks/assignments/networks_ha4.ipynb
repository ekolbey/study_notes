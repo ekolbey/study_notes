{
 "metadata": {
  "name": "",
  "signature": "sha256:886821ee8aa29dd9860a77e0a9fee14ee17578ca7c56a4b26d5735a3dde0eada"
 },
 "nbformat": 3,
 "nbformat_minor": 0,
 "worksheets": [
  {
   "cells": [
    {
     "cell_type": "heading",
     "level": 1,
     "metadata": {},
     "source": [
      "<center>Structural Analysis and Visualization of Networks</center>"
     ]
    },
    {
     "cell_type": "heading",
     "level": 2,
     "metadata": {},
     "source": [
      "<center>Home Assignment #4: Community Detection Algorithms"
     ]
    },
    {
     "cell_type": "heading",
     "level": 3,
     "metadata": {},
     "source": [
      "<center>Student: *Nazarov Ivan*</center>"
     ]
    },
    {
     "cell_type": "heading",
     "level": 4,
     "metadata": {},
     "source": [
      "<hr />\n",
      "General Information"
     ]
    },
    {
     "cell_type": "markdown",
     "metadata": {},
     "source": [
      "**Due Date:** 19.03.2015 23:59 <br \\>\n",
      "**Late submission policy:** -0.2 points per day <br \\>\n",
      "\n",
      "\n",
      "Please send your reports to <mailto:leonid.e.zhukov@gmail.com> and <mailto:shestakoffandrey@gmail.com> with message subject of the following structure:<br \\> **[HSE Networks 2015] *Nazarov* *Ivan* HA*4***\n",
      "\n",
      "Support your computations with figures and comments. <br \\>\n",
      "If you are using IPython Notebook you may use this file as a starting point of your report.<br \\>\n",
      "<br \\>\n",
      "<hr \\>"
     ]
    },
    {
     "cell_type": "markdown",
     "metadata": {},
     "source": [
      "## Preamble"
     ]
    },
    {
     "cell_type": "markdown",
     "metadata": {},
     "source": [
      "The toolbox includes Numpy for computation, NetworkX for graph manipulation and algorithms, matplotlib for visualization and Scipy.IO for processing matlab objects."
     ]
    },
    {
     "cell_type": "code",
     "collapsed": false,
     "input": [
      "import numpy as np\n",
      "import networkx as nx\n",
      "from matplotlib import pyplot as plt\n",
      "%matplotlib inline\n",
      "from scipy.io import loadmat"
     ],
     "language": "python",
     "metadata": {},
     "outputs": []
    },
    {
     "cell_type": "heading",
     "level": 2,
     "metadata": {},
     "source": [
      "Problems"
     ]
    },
    {
     "cell_type": "heading",
     "level": 3,
     "metadata": {},
     "source": [
      "Task 1* (For those who have not done that during the seminar)"
     ]
    },
    {
     "cell_type": "markdown",
     "metadata": {},
     "source": [
      "On this seminar your are asked to implement simple community detection algorightm. It is called [Markov Cluster Algorithm](http://micans.org/mcl/) (MCL)."
     ]
    },
    {
     "cell_type": "markdown",
     "metadata": {},
     "source": [
      "#### Markor Clustering Algorithm  \n",
      "**Input:** Transition matrix $T = D^{-1}A$  \n",
      "**Output:** Adjacency matrix $M^*$  \n",
      "1. Set $M = T$\n",
      "2. **repeat:**\n",
      "    3. *Expansion Step:* $M = M^p$ (usually $p=2$)\n",
      "    4. *Inflation Step:* Raise every entry of $M$ to the power $\\alpha$ (usualy $\\alpha=2$)\n",
      "    5. *Renormalize:* Normalize each row by its sum\n",
      "    6. *Prunning:* Replace entries that are close to $0$ by pure $0$\n",
      "7. **until** $M$ converges\n",
      "8. $M^* = M$"
     ]
    },
    {
     "cell_type": "markdown",
     "metadata": {},
     "source": [
      "As a result you should get a cluster matrix s.t. elements of the cluster correspont to nonzero elements of the columns of the matrix. "
     ]
    },
    {
     "cell_type": "markdown",
     "metadata": {},
     "source": [
      "* Run this method for network [1](https://www.dropbox.com/s/so0ly2ozh2pzxp6/network1.mat?dl=0), [2](https://www.dropbox.com/s/xcswyhoeehq95v2/network2.mat?dl=0) and [3](https://www.dropbox.com/s/cwshsfr2d8fn470/network3.mat?dl=0).\n",
      "* Play with the parameters ($p$, $\\alpha$, zero tolerance), analyse the results"
     ]
    },
    {
     "cell_type": "markdown",
     "metadata": {},
     "source": [
      "### Solution"
     ]
    },
    {
     "cell_type": "markdown",
     "metadata": {},
     "source": [
      "The is a prefectly clear recipe for the MCL iterative algorithm, which is why there is no need for elaborate preliminary discussion."
     ]
    },
    {
     "cell_type": "code",
     "collapsed": false,
     "input": [
      "def mcl_iter( A, p = 2, alpha = 2, tol = 1e-8, rel_eps = 1e-4, niter = 10000 ) :\n",
      "## Convert A into a transition kernel: M_{ij} is the probability of making a transition from i to j.\n",
      "    M = np.multiply( 1.0 / A.sum( axis = 1, dtype = np.float64 ).reshape(-1,1), A )\n",
      "    i = 0\n",
      "    while i < niter :\n",
      "        M_prime = M.copy( )\n",
      "## Expansion step: M_{ij} is the probability of reaching a vertex j from i in p hops.\n",
      "        M = np.linalg.matrix_power( M, p )\n",
      "## Inflation step: dampen the probabilites\n",
      "        M = np.power( M, alpha )\n",
      "## Pruning: make vertices with very low probability into almost surely unreachable.\n",
      "        M[ np.abs( M ) < tol ] = 0\n",
      "## Renormalisation step: make the matrix into a stochastic transition kernel\n",
      "        M = np.multiply( 1.0 / M.sum( axis = 1, dtype = np.float64 ).reshape(-1,1), M )\n",
      "## Convergence criterion is the L1 norm of relative divergence of transition probabilities\n",
      "        if np.sum( np.abs( M - M_prime ) / ( np.abs( M_prime ) + rel_eps ) ) < rel_eps :\n",
      "            break\n",
      "## Advance to the next iteration\n",
      "        i += 1\n",
      "    return (M, i)"
     ],
     "language": "python",
     "metadata": {},
     "outputs": []
    },
    {
     "cell_type": "markdown",
     "metadata": {},
     "source": [
      "The agorithm is desinged to transform the graph connectivity in such a way as to disconnect different communities and concentrate connectivity within one.\n",
      "\n",
      "At each iteration the algorithm cacluates a new transition kernel, based on the **$p$-hop importance score** $u_{ij}$ of connectivity of nodes $i$ and $j$ in the original kernel.\n",
      "\n",
      "The score is a nonlinear transformation of the $p$-hop connectivity probability $\\pi^p_{sd} = \\mathbb{P}( s\\rightarrow_p d )$, which reflects the chances of reaching any node $d$ from a vertex $s$ in $p$-hops. \n",
      "\n",
      "The heuristic is that the more likely that nodes $s$ and $d$ belong to the same community, the higher is the probability of a random walk reaching them in finite time, and therfore the higher the score should be. In contrast, endopints of paths with negligible score have very low chance of being in the same community, since the overall likelihood of $p$-hop paths between them has been low in the first place. \n",
      "\n",
      "The procedure consists of an \"inflation\" and \"pruning\" steps. The first damps $i\\rightarrow j$ $p$-hop transition probability with a power transformation with parameter $\\alpha>1$ to getthe score $u_{ij} = \\big(\\pi^p_{ij}\\big)^\\alpha$. Then in the pruning step, the pairs of vertices with score lower than $\\theta$ threshold are considered disconnected, whereas pairs $(i,j)$ with score above $\\theta$ are are considered connected by an edge with weight $u_{ij}$.\n",
      "\n",
      "The a new transition kernel is thus $\\pi_{ij}' \\propto u_{ij} 1_{u_{ij}\\geq\\theta}$ with the constraint $\\sum_j \\pi_{ij}' = 1$. The matrix $M$ in the algorithm is a transposed stochastic transition matrix: each entry is the probability $\\pi_{ij} = \\mathbb{P}( i\\rightarrow j )$."
     ]
    },
    {
     "cell_type": "markdown",
     "metadata": {},
     "source": [
      "Based on this description the following hypothese can be formulated with respect to the effects of the parameters $\\alpha$, $p$ and $\\theta$:\n",
      "* $\\theta\\in(0,1)$ -- determines the treshold beyond which the damped path-conncetivity is considered importatnt enoguh to contibute to a community; The higher the $\\theta$ the more important paths are eliminated thereby detecting more concentrated communities. With lower $\\theta$ the algorithm is more likely to find larger communities;\n",
      "* $p\\geq1$ integer: determines how far the periphery of a community may spread. The higher the $p$ the the less sensitie is community detection to the separation of nodes, the more likely it is to find macro-community.\n",
      "* $\\alpha>1$ real: governs the damping. With high $\\alpha$ only the really probable transitions make into the transition kernel of the next iteration, that is why the smaller the less spread out the final communities are."
     ]
    },
    {
     "cell_type": "code",
     "collapsed": false,
     "input": [
      "def extract_communities( M, lengths = True ) :\n",
      "## It is extected that the MCL matrix detects communities in columns\n",
      "    C = list( ) ; i0 = 0\n",
      "## Find all indices of nonzero elements\n",
      "    r, c = np.where( M )\n",
      "## Sort them by the column index and find the community sizes\n",
      "    r = r[ np.argsort( c ) ]\n",
      "    u = np.unique( c, return_counts = True )\n",
      "    if lengths :\n",
      "        return u[ 1 ]\n",
      "## Columns indices of nonzero entries are ordered, so we just need to\n",
      "##  sweep across the sizes\n",
      "    for s in u[ 1 ] :\n",
      "## Row indices for a column with a nonzero element are the indices of\n",
      "##  nodes in the community.\n",
      "        list.append( C, r[ i0:i0+s ] )\n",
      "        i0 += s\n",
      "    return C"
     ],
     "language": "python",
     "metadata": {},
     "outputs": []
    },
    {
     "cell_type": "markdown",
     "metadata": {},
     "source": [
      "Maybe the all-pars shortest path matrix could yield some insight into the effects of the different parameter settings."
     ]
    },
    {
     "cell_type": "code",
     "collapsed": false,
     "input": [
      "def floyd_warshall( A ) :\n",
      "## Create a matrix object (not just a 2D array -- different broadcasting properties)\n",
      "    pi = np.matrix( A, dtype = np.float, copy = True )\n",
      "## Fill as of yet unreachable vertices\n",
      "    pi[ pi != 1 ] = np.inf\n",
      "## And show that the shortest path to oneself is staying.\n",
      "    np.fill_diagonal( pi, 0 )\n",
      "## For each transitory vertex\n",
      "    for v in xrange( pi.shape[ 0 ] ) :\n",
      "## Decide which is faster: to use a path without it, or to pass through it.\n",
      "        np.minimum( pi, pi[:,v] + pi[v,:], pi )\n",
      "## Return the shortest path matrix\n",
      "    return pi"
     ],
     "language": "python",
     "metadata": {},
     "outputs": []
    },
    {
     "cell_type": "markdown",
     "metadata": {},
     "source": [
      "Let's load the first netork and run the MCL community detection procedure with default parameters."
     ]
    },
    {
     "cell_type": "code",
     "collapsed": false,
     "input": [
      "## Load the first network\n",
      "data = loadmat( './data/hw4/network1.mat' )\n",
      "\n",
      "## Run the MCL\n",
      "A = np.array( data[ 'A' ], np.float )\n",
      "C, n = mcl_iter( data[ 'A' ] )\n",
      "sz = extract_communities( C )\n",
      "\n",
      "print \"MCL converged in %d iterations.\" % n\n",
      "print \"Found %d communities with sizes:\" % len( sz ), sz\n",
      "\n",
      "## plot the original and the MCL community detection for the default parameters\n",
      "plt.figure( figsize=(16,6) )\n",
      "plt.subplot( 121 )\n",
      "plt.spy( A )\n",
      "plt.title( \"the orginal adjacency matrix\" )\n",
      "plt.subplot( 122 )\n",
      "plt.spy( C )\n",
      "plt.title( \"the community matrix\" )\n",
      "plt.show( )\n"
     ],
     "language": "python",
     "metadata": {},
     "outputs": []
    },
    {
     "cell_type": "markdown",
     "metadata": {},
     "source": [
      "#### First network"
     ]
    },
    {
     "cell_type": "markdown",
     "metadata": {},
     "source": [
      "Create $10\\times 15$ grid of $(\\alpha, p)$ pairs, with $\\alpha$ spaced evenly apart from $1$ to $10$, and $p$ running from $1$ to $15$."
     ]
    },
    {
     "cell_type": "code",
     "collapsed": false,
     "input": [
      "alpha_grid, p_grid = 2 + np.arange(10), 2 + np.arange( 15, dtype = np.int )"
     ],
     "language": "python",
     "metadata": {},
     "outputs": []
    },
    {
     "cell_type": "markdown",
     "metadata": {},
     "source": [
      "Run the MCL for each pair of the parameters in the grid."
     ]
    },
    {
     "cell_type": "code",
     "collapsed": false,
     "input": [
      "%lprun -f mcl_iter [  mcl_iter( A, p = p, alpha = a ) for p in p_grid for a in alpha_grid ]\n",
      "# mcl_res = [ mcl_iter( A, p = p, alpha = a ) for p in p_grid for a in alpha_grid ]"
     ],
     "language": "python",
     "metadata": {},
     "outputs": []
    },
    {
     "cell_type": "markdown",
     "metadata": {},
     "source": [
      "<hr />"
     ]
    },
    {
     "cell_type": "heading",
     "level": 3,
     "metadata": {},
     "source": [
      "Task 2"
     ]
    },
    {
     "cell_type": "markdown",
     "metadata": {},
     "source": [
      "Load [Yahoo Music network](https://www.dropbox.com/s/o3x14v4rznrh555/music_data.mat?dl=0). Edges in this network appear if enough number of users have given ratings to both music bands. Note, that edges are weighted with similarity of the ratings.\n",
      "\n",
      "* Implement *multilevel spectral recursive partitioning* algorithm that was described during the lecture\n",
      "* Visualize community structure of the network and output some of the dense clusters (with interpretation, if you can)\n",
      "\n",
      "You can load .mat files with the following commands:"
     ]
    },
    {
     "cell_type": "code",
     "collapsed": false,
     "input": [
      "import numpy as np\n",
      "import networkx as nx\n",
      "from matplotlib import pyplot as plt\n",
      "%matplotlib inline\n",
      "from scipy.io import loadmat\n",
      "from sklearn.cluster import SpectralClustering"
     ],
     "language": "python",
     "metadata": {},
     "outputs": []
    },
    {
     "cell_type": "code",
     "collapsed": false,
     "input": [
      "import scipy.io\n",
      "import scipy.sparse as spma\n",
      "import scipy.sparse.linalg as spla\n",
      "\n",
      "data = scipy.io.loadmat('./data/hw4/music_data.mat')\n",
      "A = spma.csc_matrix( data[ 'A' ], dtype = np.float )"
     ],
     "language": "python",
     "metadata": {},
     "outputs": []
    },
    {
     "cell_type": "code",
     "collapsed": false,
     "input": [
      "## Compute the Normalized symmetric laplacian: L = E - D^{-0.5} A D^{-0.5}\n",
      "D = spma.diags( np.array( 1.0 / np.sqrt( A.sum( axis = 1 ) ) ).ravel( ), 0 )\n",
      "L1 = spma.eye( *A.shape ) - D.dot( A.dot( D ) )"
     ],
     "language": "python",
     "metadata": {},
     "outputs": []
    },
    {
     "cell_type": "code",
     "collapsed": false,
     "input": [
      "## Compute the stochastic transition kernel: L = D^{-1} A' = D^{-1} A\n",
      "D = spma.diags( np.array( 1.0 / A.sum( axis = 1 ) ).ravel( ), 0 )\n",
      "L2 = D.dot( A )"
     ],
     "language": "python",
     "metadata": {},
     "outputs": []
    },
    {
     "cell_type": "code",
     "collapsed": false,
     "input": [
      "## Compute the ordinary laplacian: L = D - A\n",
      "D = spma.diags( np.array( 1.0 / A.sum( axis = 1 ) ).ravel( ), 0 )\n",
      "L3 = D - A"
     ],
     "language": "python",
     "metadata": {},
     "outputs": []
    },
    {
     "cell_type": "code",
     "collapsed": false,
     "input": [
      "def split( A, N = 10 ) :\n",
      "## Compute the graph laplacian\n",
      "    D = A.sum( axis = 1 )\n",
      "    L = spma.eye(*A.shape)\n",
      "    "
     ],
     "language": "python",
     "metadata": {},
     "outputs": []
    }
   ],
   "metadata": {}
  }
 ]
}