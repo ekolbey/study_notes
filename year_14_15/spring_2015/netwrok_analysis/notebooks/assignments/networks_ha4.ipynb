{
 "metadata": {
  "name": "",
  "signature": "sha256:02a32e6537cc22edbd5a96debe0a4ed52ea76c16189f9d714a587b9731528943"
 },
 "nbformat": 3,
 "nbformat_minor": 0,
 "worksheets": [
  {
   "cells": [
    {
     "cell_type": "heading",
     "level": 1,
     "metadata": {},
     "source": [
      "<center>Structural Analysis and Visualization of Networks</center>"
     ]
    },
    {
     "cell_type": "heading",
     "level": 2,
     "metadata": {},
     "source": [
      "<center>Home Assignment #4: Community Detection Algorithms"
     ]
    },
    {
     "cell_type": "heading",
     "level": 3,
     "metadata": {},
     "source": [
      "<center>Student: *{Your Name}*</center>"
     ]
    },
    {
     "cell_type": "heading",
     "level": 4,
     "metadata": {},
     "source": [
      "<hr />\n",
      "General Information"
     ]
    },
    {
     "cell_type": "markdown",
     "metadata": {},
     "source": [
      "**Due Date:** 19.03.2015 23:59 <br \\>\n",
      "**Late submission policy:** -0.2 points per day <br \\>\n",
      "\n",
      "\n",
      "Please send your reports to <mailto:leonid.e.zhukov@gmail.com> and <mailto:shestakoffandrey@gmail.com> with message subject of the following structure:<br \\> **[HSE Networks 2015] *Nazarov* *Ivan* HA*4***\n",
      "\n",
      "Support your computations with figures and comments. <br \\>\n",
      "If you are using IPython Notebook you may use this file as a starting point of your report.<br \\>\n",
      "<br \\>\n",
      "<hr \\>"
     ]
    },
    {
     "cell_type": "markdown",
     "metadata": {},
     "source": [
      "## Preamble"
     ]
    },
    {
     "cell_type": "markdown",
     "metadata": {},
     "source": [
      "The toolbox includes Numpy for computation, NetworkX for graph manipulation and algorithms, matplotlib for visualization and Scipy.IO for processing matlab objects."
     ]
    },
    {
     "cell_type": "code",
     "collapsed": false,
     "input": [
      "import numpy as np\n",
      "import networkx as nx\n",
      "from matplotlib import pyplot as plt\n",
      "%matplotlib inline\n",
      "from scipy.io import loadmat"
     ],
     "language": "python",
     "metadata": {},
     "outputs": []
    },
    {
     "cell_type": "heading",
     "level": 2,
     "metadata": {},
     "source": [
      "Problems"
     ]
    },
    {
     "cell_type": "heading",
     "level": 3,
     "metadata": {},
     "source": [
      "Task 1* (For those who have not done that during the seminar)"
     ]
    },
    {
     "cell_type": "markdown",
     "metadata": {},
     "source": [
      "On this seminar your are asked to implement simple community detection algorightm. It is called [Markov Cluster Algorithm](http://micans.org/mcl/) (MCL)."
     ]
    },
    {
     "cell_type": "markdown",
     "metadata": {},
     "source": [
      "#### Markor Clustering Algorithm  \n",
      "**Input:** Transition matrix $T = D^{-1}A$  \n",
      "**Output:** Adjacency matrix $M^*$  \n",
      "1. Set $M = T$\n",
      "2. **repeat:**\n",
      "    3. *Expansion Step:* $M = M^p$ (usually $p=2$)\n",
      "    4. *Inflation Step:* Raise every entry of $M$ to the power $\\alpha$ (usualy $\\alpha=2$)\n",
      "    5. *Renormalize:* Normalize each row by its sum\n",
      "    6. *Prunning:* Replace entries that are close to $0$ by pure $0$\n",
      "7. **until** $M$ converges\n",
      "8. $M^* = M$"
     ]
    },
    {
     "cell_type": "markdown",
     "metadata": {},
     "source": [
      "As a result you should get a cluster matrix s.t. elements of the cluster correspont to nonzero elements of the columns of the matrix. "
     ]
    },
    {
     "cell_type": "markdown",
     "metadata": {},
     "source": [
      "* Run this method for network [1](https://www.dropbox.com/s/so0ly2ozh2pzxp6/network1.mat?dl=0), [2](https://www.dropbox.com/s/xcswyhoeehq95v2/network2.mat?dl=0) and [3](https://www.dropbox.com/s/cwshsfr2d8fn470/network3.mat?dl=0).\n",
      "* Play with the parameters ($p$, $\\alpha$, zero tolerance), analyse the results"
     ]
    },
    {
     "cell_type": "markdown",
     "metadata": {},
     "source": [
      "### Solution"
     ]
    },
    {
     "cell_type": "markdown",
     "metadata": {},
     "source": [
      "The is a prefectly clear recipe for the MCL iterative algorithm, which is why there is no need for elaborate preliminary discussion."
     ]
    },
    {
     "cell_type": "code",
     "collapsed": false,
     "input": [
      "def mcl_iter( A, p = 2, alpha = 2, tol = 1e-8, rel_eps = 1e-4, niter = 10000 ) :\n",
      "## Convert A into a transition kernel: M_{ij} is the probability of making a transition from i to j.\n",
      "    M = np.multiply( 1.0 / A.sum( axis = 1, dtype = np.float64 ).reshape(-1,1), A )\n",
      "    i = 0\n",
      "    while i < niter :\n",
      "        M_prime = M.copy( )\n",
      "## Expansion step: M_{ij} is the probability of reaching a vertex j from i in p hops.\n",
      "        M = np.linalg.matrix_power( M, p )\n",
      "## Inflation step: amplify or dampen the probabilites\n",
      "        M = np.power( M, alpha )\n",
      "## Pruning: make vertices with very low probability into almost surely unreachable.\n",
      "        M[ np.abs( M ) < tol ] = 0\n",
      "## Renormalisation step: make the matrix into a stochastic transition kernel\n",
      "        M = np.multiply( 1.0 / M.sum( axis = 1, dtype = np.float64 ).reshape(-1,1), M )\n",
      "## Convergence criterion is the L1 norm of relative divergence of transition probabilities\n",
      "        if np.sum( np.abs( M - M_prime ) / ( np.abs( M_prime ) + rel_eps ) ) < rel_eps :\n",
      "            break\n",
      "## Advance to the next iteration\n",
      "        i += 1\n",
      "    return (M, i)"
     ],
     "language": "python",
     "metadata": {},
     "outputs": []
    },
    {
     "cell_type": "markdown",
     "metadata": {},
     "source": [
      "The agorithm is desinged to transform the graph connectivity in such a way as to disconnect different communities and concentrate connectivity within one.\n",
      "\n",
      "The matrix $M$ in the algorithm is a transposed stochastic transition matrix: each entry is the probability $\\pi_{ij} = \\mathbb{P}( i\\rightarrow j )$.\n",
      "\n",
      "At each iteration the algorithm cacluates a new transition kernel, based on the $p$-hop connectivity. In particular\n",
      "computes the probability . Then $p$-hop connectivity probabilites $\\pi^p_{ij} = \\mathbb{P}( i\\rightarrow_p j )$ of reaching any node $j$ from a vertex $i$ in $p$-hops are damped by power transformation with parameter $\\alpha>1$ to get the **reachability score** $u_{ij} = \\big(\\pi^p_{ij}\\big)^\\alpha$. The computed score $u_{ij}$ determines the importance of a path from $i\\leadsto j$:  \n",
      " * pairs of vertices $(i,j)$ with score lower than $\\theta$ threshold are considered disconnected;\n",
      " * whereas pairs with scores above $\\theta$ are kept.\n",
      "\n",
      "The heuristic idea behind this is that if the path from $i$ to $j$ is very important, i.e. probable and with high connectivity score, then it is highly likely that these nodsd belong to the same community. In contrast, endopints of paths with negligible score have very low chance of being in the same community, since the probability of reaching one from another in $p$-hops has been low in the first place. \n",
      "\n",
      "The a new transition kernel is thus $\\pi_{ij}' \\propto u_{ij} 1_{u_{ij}\\geq\\theta}$ with the obvious constraint that $\\sum_j \\pi_{ij}' = 1$.\n",
      "\n",
      "\n",
      "each into a star graph centered around an arbitrary inside node.\n",
      "This is achieved by concentrating nonzero values\n",
      "by in each communnity detect communites\n",
      "This corresponds to connectivity discovery.\n",
      "the $p$-hop reachability probability vertices, reachable in $p$ hops\n",
      "\n",
      "Parameter effects\n",
      "* $\\theta$ -- low score tolerance\n",
      "* $p\\geq1$ integer: determines how far the perifpehery of a community may spread.  the reachability parameter\n",
      "* $\\alpha>1$ real: governs the damping \n",
      "    * closer the transition probability $\\pi_{ij}$ to $0$ the stronger it is damped; where transition probabilites \n"
     ]
    },
    {
     "cell_type": "code",
     "collapsed": false,
     "input": [
      "def extract_communities( M ) :\n",
      "## It is extected that the MCL matrix detects communities in columns\n",
      "    C = list( ) ; i0 = 0\n",
      "## Find all indices of nonzero elements\n",
      "    r, c = np.where( M )\n",
      "## Sort them by the column index and find the community sizes\n",
      "    r = r[ np.argsort( c ) ]\n",
      "    u = np.unique( c, return_counts = True )\n",
      "## Columns indices of nonzero entries are ordered, so we just need to\n",
      "##  sweep across the sizes\n",
      "    for s in u[ 1 ] :\n",
      "## Row indices for a column with a nonzero element are the indices of\n",
      "##  nodes in the community.\n",
      "        list.append( C, r[ i0:i0+s ] )\n",
      "        i0 += s\n",
      "    return C"
     ],
     "language": "python",
     "metadata": {},
     "outputs": []
    },
    {
     "cell_type": "markdown",
     "metadata": {},
     "source": [
      "Let's load the first netork and run the MCl community detection procedure with default parameters."
     ]
    },
    {
     "cell_type": "code",
     "collapsed": false,
     "input": [
      "## Load the first network\n",
      "data = loadmat( './data/hw4/network1.mat' )\n",
      "A = np.array( data[ 'A' ], np.float )\n",
      "C, n = mcl_iter( data[ 'A' ], p = 20, alpha = .1 )\n",
      "\n",
      "## plot the original and the MCL community detection for the default parameters\n",
      "print \"MCL converged in %d iterations.\" % n\n",
      "plt.figure( figsize=(16,6) )\n",
      "plt.subplot( 121 )\n",
      "plt.spy( A )\n",
      "plt.title( \"the orginal adjacency matrix\" )\n",
      "plt.subplot( 122 )\n",
      "plt.spy( C )\n",
      "plt.title( \"the community matrix\" )\n",
      "plt.show( )"
     ],
     "language": "python",
     "metadata": {},
     "outputs": []
    },
    {
     "cell_type": "markdown",
     "metadata": {},
     "source": [
      "Create $15\\times 15$ grid of $(\\alpha, p)$ pairs, with $\\alpha$ spaced evenly apart on a log scale from $1$ to $10$, and $p$ running from $1$ to $15$."
     ]
    },
    {
     "cell_type": "code",
     "collapsed": false,
     "input": [
      "alpha_grid = np.logspace(0, 1, 15)\n",
      "p_grid = 1 + np.arange( 15, dtype = np.int )"
     ],
     "language": "python",
     "metadata": {},
     "outputs": []
    },
    {
     "cell_type": "markdown",
     "metadata": {},
     "source": [
      "Run the MCL for each pair of the parameters in the grid."
     ]
    },
    {
     "cell_type": "code",
     "collapsed": false,
     "input": [
      "mcl_res = [ mcl_iter( A, p = p, alpha = a ) for p in p_grid for a in alpha_grid ]\n"
     ],
     "language": "python",
     "metadata": {},
     "outputs": []
    },
    {
     "cell_type": "markdown",
     "metadata": {},
     "source": [
      "<hr />"
     ]
    },
    {
     "cell_type": "heading",
     "level": 3,
     "metadata": {},
     "source": [
      "Task 2"
     ]
    },
    {
     "cell_type": "markdown",
     "metadata": {},
     "source": [
      "Load [Yahoo Music network](https://www.dropbox.com/s/o3x14v4rznrh555/music_data.mat?dl=0). Edges in this network appear if enough number of users have given ratings to both music bands. Note, that edges are weighted with similarity of the ratings.\n",
      "\n",
      "* Implement *multilevel spectral recursive partitioning* algorithm that was described during the lecture\n",
      "* Visualize community structure of the network and output some of the dense clusters (with interpretation, if you can)\n",
      "\n",
      "You can load .mat files with the following commands:"
     ]
    },
    {
     "cell_type": "code",
     "collapsed": false,
     "input": [
      "import scipy.io\n",
      "\n",
      "data = scipy.io.loadmat('music_data.mat')"
     ],
     "language": "python",
     "metadata": {},
     "outputs": []
    }
   ],
   "metadata": {}
  }
 ]
}