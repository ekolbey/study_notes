{
 "metadata": {
  "name": "",
  "signature": "sha256:eb454ceebbcae1b7e381f89ef5304a9bd3ff33973a95dfa7c544f7c62c4189c0"
 },
 "nbformat": 3,
 "nbformat_minor": 0,
 "worksheets": [
  {
   "cells": [
    {
     "cell_type": "heading",
     "level": 1,
     "metadata": {},
     "source": [
      "<center>Structural Analysis and Visualization of Networks</center>"
     ]
    },
    {
     "cell_type": "heading",
     "level": 2,
     "metadata": {},
     "source": [
      "<center>Home Assignment #3: Centralities and Assortativity</center>"
     ]
    },
    {
     "cell_type": "heading",
     "level": 3,
     "metadata": {},
     "source": [
      "<center>Student: *{Your Name}*</center>"
     ]
    },
    {
     "cell_type": "heading",
     "level": 4,
     "metadata": {},
     "source": [
      "<hr />\n",
      "General Information"
     ]
    },
    {
     "cell_type": "markdown",
     "metadata": {},
     "source": [
      "**Due Date:** 09.03.2015 23:59 <br \\>\n",
      "**Late submission policy:** -0.2 points per day <br \\>\n",
      "\n",
      "\n",
      "Please send your reports to <mailto:leonid.e.zhukov@gmail.com> and <mailto:shestakoffandrey@gmail.com> with message subject of the following structure:<br \\> **[HSE Networks 2015] *{LastName}* *{First Name}* HA*{Number}***\n",
      "\n",
      "Support your computations with figures and comments. <br \\>\n",
      "If you are using IPython Notebook you may use this file as a starting point of your report.<br \\>\n",
      "<br \\>\n",
      "<hr \\>"
     ]
    },
    {
     "cell_type": "heading",
     "level": 2,
     "metadata": {},
     "source": [
      "Problems"
     ]
    },
    {
     "cell_type": "heading",
     "level": 3,
     "metadata": {},
     "source": [
      "Task 1"
     ]
    },
    {
     "cell_type": "markdown",
     "metadata": {},
     "source": [
      "Compute degree centrality, Pagerank and  HubAuthorities scores for the [flickr](https://www.dropbox.com/s/6c4ybirvffrm2tu/flickr.zip?dl=0) network. \n",
      "\n",
      "Data contains sparse matrix A and list of user names.\n",
      "This is a \u201cdenser\u201d part of the Flickr photo sharing site friendship graph from 2006. Edge direction corresponds to friendship requests (following). Some of the links are reciprocal,others not.  \n",
      "\n",
      "Provide top 50 names in each ranking, compare results\n",
      "\n",
      "You can load .mat files with the following commands:"
     ]
    },
    {
     "cell_type": "markdown",
     "metadata": {},
     "source": [
      "The basic idea of Page Rank, though recursive, is to assign each vertex some importance score based on the aggregate importance score of the node connected to in via incoming edges.\n",
      "\n",
      "The PageRank score has the following interpretation: the more likely it is to find a random surfer in a node, the higher is the pagerank of that node. A random surfer is an agent who follows outgoing links randomly.\n",
      "\n",
      "Let $G=\\big(V,E\\big)$ be a directed graph and its incidence matrix is given by $\\big(M_{vu}\\big)_{u,v\\in V}$ where $M_{vu} = 1_{u\\leadsto v}$.\n",
      "\n",
      "Let $\\hat{M}_{vu} = \\Big(\\sum_{w\\in V} M_{wu}\\Big)^{-1} M_{vu}$ -- the probability of an outgoing link $u\\leadsto v$.\n",
      "\n",
      "Consider the $1$-order Markov chain with transition kernel given by $\\hat{M}$: $\\mathbb{P}\\Big(\\Big. u\\leadsto w\\,\\big.\\big\\rvert\\, u \\Big.\\Big) = \\hat{M}_{wu}$ at any node $u\\in V$ for each $w\\in V$.\n",
      "\n",
      "At any given node it is permitted to make a jump to an arbitrary vertex in $G$ chosen uniformly at random in order to avoid **clque** traps.\n",
      "\n",
      "Thus the PageRank is the stationary distribution of the $1$-order markov chain with transition kernel given by $A$.\n",
      "\n",
      "$A = \\beta M + ( 1-\\beta ) \\frac{\\mathbf{1}\\mathbf{1}'}{\\mathbf{1}'\\mathbf{1}}$\n",
      "\n",
      "In order to avoid purely sink nodes, \n",
      "\n",
      "Then the PageRank is then the eigenvector of \n",
      "\n",
      "$r_{t+1} = A r_t = \\beta M r_t + (1-\\beta) U r_t = \\beta M r_t + (1-\\beta) \\frac{\\vec{1}}{\\lvert V \\rvert}$"
     ]
    },
    {
     "cell_type": "code",
     "collapsed": false,
     "input": [
      "## Comupte the page rank on the row sparse matrix M with the teleportation probability \\beta\n",
      "import numpy as np\n",
      "import numpy.random as rnd\n",
      "import scipy.sparse as spma\n",
      "import scipy.sparse.linalg as spla\n",
      "\n",
      "\n",
      "import matplotlib.pyplot as plt\n",
      "%matplotlib inline"
     ],
     "language": "python",
     "metadata": {},
     "outputs": []
    },
    {
     "cell_type": "code",
     "collapsed": false,
     "input": [
      "import scipy.io\n",
      "data = scipy.io.loadmat('./data/flickr.mat')\n",
      "\n",
      "## Convert the matrix into a stochastic matrix\n",
      "M = spma.csc_matrix( data['A'] )\n",
      "M = M / M.sum( axis = 0 )"
     ],
     "language": "python",
     "metadata": {},
     "outputs": []
    },
    {
     "cell_type": "markdown",
     "metadata": {},
     "source": [
      "#### The iterative procedure\n",
      "As have been mentioned eralier the PageRank score is the egienvector of a stochastic matrix with the unit eigen value. "
     ]
    },
    {
     "cell_type": "code",
     "collapsed": false,
     "input": [
      "def PageRank_iter( M, beta, x0 = None, rel_eps = 1.0E-6, niter = 10000 ) :\n",
      "## Convert the marix to row sparse representation, as it is more efficient\n",
      "##  in matrix-vector multiplication\n",
      "    S = spma.csr_matrix( M )\n",
      "## Create a teleporation vector\n",
      "    U = np.full( S.shape[ 1 ], ( 1.0 - beta ) / S.shape[ 1 ], np.float )\n",
      "## The previous value of the pagerank vector\n",
      "    x0 = x0 if x0 is not None else np.random.uniform( size = M.shape[ 1 ] )\n",
      "## Re-nromalise the initial pagerank vector\n",
      "    x0 /= np.sum( x0 )\n",
      "## The resulting status of the convergence procedure: 1 -- exceeded the number of iterations.\n",
      "    status = 1 ; i = 0\n",
      "## First stopping rule: within the specified number of iterations\n",
      "    while i < niter :\n",
      "## The main computational step\n",
      "        x1 = beta * S.dot( x0 ) + U\n",
      "## Second stopping rule: within the required tolerance. Correction for \n",
      "##  possible machine zeros in the denominator.\n",
      "        if np.max( np.abs( x1 - x0 ) / ( np.abs( x0 ) + rel_eps ) ) < rel_eps :\n",
      "            status = 0\n",
      "            break\n",
      "## Proceed to the next iteration\n",
      "        x0 = x1 ; i += 1\n",
      "## Clean up phase\n",
      "    del S\n",
      "## return the stationary distribution and the convergence information\n",
      "    return ( x1, { 'convergence': status, 'iterations' : i } )"
     ],
     "language": "python",
     "metadata": {},
     "outputs": []
    },
    {
     "cell_type": "code",
     "collapsed": false,
     "input": [
      "def PageRank_inver( M, beta ) :\n",
      "    S = spma.coo_matrix( M )\n",
      "## Create a teleporation vector\n",
      "    U = np.full( S.shape[ 1 ], ( 1.0 - beta ) / S.shape[ 1 ], np.float )\n",
      "    S = spma.identity( M.shape[ 1 ], dtype = np.float ) - beta * S\n",
      "    x = spla.spsolve( S, U )\n",
      "    del S\n",
      "    return x"
     ],
     "language": "python",
     "metadata": {},
     "outputs": []
    },
    {
     "cell_type": "code",
     "collapsed": false,
     "input": [
      "# N = np.matrix( [ [ .3, .4, .3 ], [ 0, .5, .5 ], [ .5, 0, .5 ] ], np.float ).T\n",
      "# N.sum(axis=0)"
     ],
     "language": "python",
     "metadata": {},
     "outputs": []
    },
    {
     "cell_type": "code",
     "collapsed": false,
     "input": [
      "x0 = np.full( M.shape[ 1 ], 1.0 / M.shape[ 1 ], np.float )\n",
      "y1 = PageRank_iter( M, .1, x0 = x0, rel_eps = 1e-8 )\n",
      "y2 = PageRank_iter( M, .1, x0 = x0, rel_eps = 1e-4 )\n",
      "y3 = PageRank_iter( M, .1, x0 = x0, rel_eps = 1e-6 )\n",
      "y4 = PageRank_iter( M, .1, rel_eps = 1e-4 )"
     ],
     "language": "python",
     "metadata": {},
     "outputs": []
    },
    {
     "cell_type": "code",
     "collapsed": false,
     "input": [
      "print y1\n",
      "print y2\n",
      "print y3\n",
      "print y4"
     ],
     "language": "python",
     "metadata": {},
     "outputs": []
    },
    {
     "cell_type": "code",
     "collapsed": false,
     "input": [
      "plt.figure( figsize = (16,9) )\n",
      "plt.plot( y1[0]-y4[0], \"y-\" )\n",
      "# plt.plot( y2[0], \"r-\" )\n",
      "# plt.plot( y3[0], \"b-\" )\n",
      "# plt.plot( y4[0], \"k-\" )"
     ],
     "language": "python",
     "metadata": {},
     "outputs": []
    },
    {
     "cell_type": "code",
     "collapsed": false,
     "input": [
      "PageRank_inver( M, .1 )"
     ],
     "language": "python",
     "metadata": {},
     "outputs": []
    },
    {
     "cell_type": "heading",
     "level": 3,
     "metadata": {},
     "source": [
      "<hr />\n",
      "Task 2"
     ]
    },
    {
     "cell_type": "markdown",
     "metadata": {},
     "source": [
      "Here are the [Facebook friendship graphs](https://www.dropbox.com/s/l4z8x81a9bolpw5/universities.zip?dl=0) from several US universities from 2005 (one year after fb launch).\n",
      "\n",
      "Data contains a A matrix (sparse) and a \"local_info\" variable, one row per node: \n",
      "a student/faculty status flag, gender, major, second major/minor (if applicable), dorm/house, year, and high school. \n",
      "Missing data is coded 0.\n",
      "\n",
      "Compute node degree assortativity (mixing by node degree) and assortativity coefficient (modularity) for gender, major, dormitory, year, high school for all universities and compare the results."
     ]
    },
    {
     "cell_type": "code",
     "collapsed": false,
     "input": [],
     "language": "python",
     "metadata": {},
     "outputs": []
    }
   ],
   "metadata": {}
  }
 ]
}