{
 "metadata": {
  "name": "",
  "signature": "sha256:c2f163a11f615cc0b6cda5ba906fdf8f91a7cb452bd1deca8ad0045fa88a385e"
 },
 "nbformat": 3,
 "nbformat_minor": 0,
 "worksheets": [
  {
   "cells": [
    {
     "cell_type": "code",
     "collapsed": false,
     "input": [
      "import numpy as np\n",
      "import matplotlib.pyplot as plt\n",
      "%matplotlib inline\n",
      "\n",
      "from f_get_w import f_get_w\n",
      "from hsssi_processes import *\n"
     ],
     "language": "python",
     "metadata": {},
     "outputs": []
    },
    {
     "cell_type": "code",
     "collapsed": false,
     "input": [
      "def fbm( log_N, H, seed = None ) :\n",
      "\tN = 2 ** log_N\n",
      "\tt = np.arange( N, dtype = np.float ) / ( N - 1 )\n",
      "\tu, v = synthfbmcircul( N + 1, H, sigma2 = 1.0, tmax = 1.0, seed = seed )\n",
      "\treturn( t, u[1:], v[1:] )"
     ],
     "language": "python",
     "metadata": {},
     "outputs": []
    },
    {
     "cell_type": "code",
     "collapsed": false,
     "input": [
      "t, u, v = fbm( 15, .65 )"
     ],
     "language": "python",
     "metadata": {},
     "outputs": []
    },
    {
     "cell_type": "code",
     "collapsed": false,
     "input": [
      "plt.figure( figsize = (10,10) )\n",
      "plt.plot( t, u, \"b-\" )\n",
      "plt.plot( t, v, \"r-\" )\n",
      "plt.show( )"
     ],
     "language": "python",
     "metadata": {},
     "outputs": []
    },
    {
     "cell_type": "code",
     "collapsed": false,
     "input": [
      "## Adaptive selection of the grid: based on the standard deviation of the\n",
      "##  incremetns.\n",
      "delta = np.std( np.diff( u ) )\n",
      "## For the given size of the grid band, construct a ten layers deep\n",
      "##  crossing tree, starting from the root, which corresponds to the\n",
      "##  coarsest grid.\n",
      "root = 1 + np.floor( np.log2( np.max( u ) - np.min( u ) ) - np.log( delta ) )\n",
      "levels = np.arange( root - 9, root + 1 )\n",
      "ft, fp, subx, wt = f_get_w( t, u, levels, delta )"
     ],
     "language": "python",
     "metadata": {},
     "outputs": []
    },
    {
     "cell_type": "code",
     "collapsed": true,
     "input": [
      "levels\n",
      "# np.std( np.abs( np.diff( u ) ) )\n",
      "# np.std( np.diff( u ) )\n",
      "# np.min(np.abs(np.diff(u)))"
     ],
     "language": "python",
     "metadata": {},
     "outputs": []
    },
    {
     "cell_type": "code",
     "collapsed": false,
     "input": [
      "plt.figure( figsize = (15, 5) ) ; plt.plot( t, u, \"r-\") ;\n",
      "for p in fp[5] : plt.axhline( p, linewidth = 1, color = 'k' )\n",
      "plt.plot( ft[5], fp[5], \"bo\" ) ; plt.show( )"
     ],
     "language": "python",
     "metadata": {},
     "outputs": []
    },
    {
     "cell_type": "code",
     "collapsed": false,
     "input": [
      "[np.unique( x, return_counts = True) for x in subx ]"
     ],
     "language": "python",
     "metadata": {},
     "outputs": []
    },
    {
     "cell_type": "code",
     "collapsed": false,
     "input": [
      "N = 2**15\n",
      "t = np.arange( N, dtype = np.float ) / ( N - 1 )\n",
      "\n",
      "a1 = fBM( N, 0.6 )\n",
      "a2 = Rosenblatt( N, 0.6, downsample = 16 )\n",
      "a3 = Hermite3( N, 0.9, downsample = 16 )\n",
      "a4 = Hermite4( N, 0.925, downsample = 16 )\n",
      "a5 = Weier( N, 0.6 )\n",
      "\n",
      "plt.figure( figsize = (10,6) )\n",
      "plt.subplot(311)\n",
      "plt.plot(t, a1, \"r-\", linewidth = 1 )\n",
      "plt.subplot(312)\n",
      "plt.plot(t, a5, \"b-\", linewidth = 1 )\n",
      "\n",
      "plt.subplot(313)\n",
      "plt.plot(t, a2, \"r-\", linewidth = 1 )\n",
      "plt.plot(t, a3, \"k-\", linewidth = 1 )\n",
      "plt.plot(t, a4, \"b-\", linewidth = 1 )\n",
      "\n",
      "plt.show( )\n"
     ],
     "language": "python",
     "metadata": {},
     "outputs": []
    }
   ],
   "metadata": {}
  }
 ]
}