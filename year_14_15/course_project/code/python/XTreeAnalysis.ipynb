{
 "metadata": {
  "name": "",
  "signature": "sha256:e4cc7273a2af4f316c0f73416607725ad4becfba182defb94c1064f2996cde71"
 },
 "nbformat": 3,
 "nbformat_minor": 0,
 "worksheets": [
  {
   "cells": [
    {
     "cell_type": "code",
     "collapsed": false,
     "input": [
      "import numpy as np\n",
      "import matplotlib.pyplot as plt\n",
      "\n",
      "%matplotlib inline\n",
      "\n",
      "from crossing_tree import *\n",
      "\n",
      "from hsssi_processes import *"
     ],
     "language": "python",
     "metadata": {},
     "outputs": []
    },
    {
     "cell_type": "code",
     "collapsed": false,
     "input": [
      "def fbm( log_N, H, seed = None ) :\n",
      "\tN = 2 ** log_N\n",
      "\tt = np.arange( N, dtype = np.float ) / ( N - 1 )\n",
      "\tu, v = synthfbmcircul( N + 1, H, sigma2 = 1.0, tmax = 1.0, seed = seed )\n",
      "\treturn( t, u[1:], v[1:] )\n",
      "\n",
      "def wei( log_N, H, seed = None ) :\n",
      "\tN = 2 ** log_N\n",
      "\tt = np.arange( N, dtype = np.float ) / ( N - 1 )\n",
      "\tx, t = synthweier( log_N, H, 1.2, 1000 )\n",
      "\tu, v = synthfbmcircul( N + 1, H, sigma2 = 1.0, tmax = 1.0, seed = seed )\n",
      "\treturn( t, u[1:], v[1:] )\n",
      "\n",
      "\n",
      "# Weier( N, 0.6 )"
     ],
     "language": "python",
     "metadata": {},
     "outputs": []
    },
    {
     "cell_type": "code",
     "collapsed": false,
     "input": [
      "def foo( P ) :\n",
      "    t, u, v = fbm( P, .85 )\n",
      "    xt, xp, xs = xtree_build( t, u )\n",
      "# %prun foo( 20 )"
     ],
     "language": "python",
     "metadata": {},
     "outputs": []
    },
    {
     "cell_type": "code",
     "collapsed": false,
     "input": [
      "%lprun -f xtree_super_crossing foo(20)"
     ],
     "language": "python",
     "metadata": {},
     "outputs": []
    },
    {
     "cell_type": "code",
     "collapsed": false,
     "input": [
      "t, u, v = fbm( 20, .85 )"
     ],
     "language": "python",
     "metadata": {},
     "outputs": []
    },
    {
     "cell_type": "code",
     "collapsed": false,
     "input": [
      "plt.figure( figsize = (15, 8) )\n",
      "plt.plot( t, u, \"y-\")\n",
      "l = 4;\n",
      "plt.step( xt[l+0], xp[l+0], \"g>\" )\n",
      "plt.step( xt[l+1], xp[l+1], \"b>\" )\n",
      "plt.step( xt[l+2], xp[l+2], \"r>\" )\n",
      "plt.step( xt[l+3], xp[l+3], \"k>\" )\n",
      "plt.show( )"
     ],
     "language": "python",
     "metadata": {},
     "outputs": []
    },
    {
     "cell_type": "code",
     "collapsed": false,
     "input": [
      "def scaffolding_plot( t, x, l = 2 ) :\n",
      "    ht, hp, xt = xtree_build( t, x )\n",
      "    plt.figure( figsize = (15, 8) )\n",
      "    plt.plot( t, x, \"y-\")\n",
      "# for p in tp[l] : plt.axhline( p, linewidth = 1, color = 'k' )\n",
      "    plt.step( ht[l+0], hp[l+0], \"g>\" )\n",
      "    plt.step( ht[l+1], hp[l+1], \"b>\" )\n",
      "    plt.step( ht[l+2], hp[l+2], \"r>\" )\n",
      "    plt.step( ht[l+3], hp[l+3], \"k>\" )\n",
      "    plt.show( )\n",
      "    return [zip(*np.unique( x, return_counts = True)) for x in xt ]"
     ],
     "language": "python",
     "metadata": {},
     "outputs": []
    },
    {
     "cell_type": "code",
     "collapsed": false,
     "input": [
      "print scaffolding_plot( t, u, l = 3 )\n",
      "print scaffolding_plot( t, v, l = 3 )"
     ],
     "language": "python",
     "metadata": {},
     "outputs": []
    },
    {
     "cell_type": "code",
     "collapsed": false,
     "input": [
      "xt, xp, xxt = xtree_build( t, u )\n",
      "print [len(a) for a in xt ]\n",
      "print [len(a) for a in xp ]\n",
      "print [len(a) for a in xxt ]\n",
      "\n",
      "# [552453, 216850, 80667, 29079, 10220, 3534, 1206, 429, 148, 59, 25, 8, 3, 2, 1]\n",
      "# [552453, 216850, 80667, 29079, 10220, 3534, 1206, 429, 148, 59, 25, 8, 3, 2, 1]\n",
      "# [0, 216849, 80666, 29078, 10219, 3533, 1205, 428, 147, 58, 24, 7, 2, 1, 0]\n"
     ],
     "language": "python",
     "metadata": {},
     "outputs": []
    },
    {
     "cell_type": "code",
     "collapsed": false,
     "input": [
      "def fbm_mc_distr( p = 15, M = 100, H = .5 ) :\n",
      "    for m in xrange( M ) :\n",
      "        t, u, v = fbm( p, H )\n"
     ],
     "language": "python",
     "metadata": {},
     "outputs": []
    },
    {
     "cell_type": "code",
     "collapsed": false,
     "input": [
      "N = 2**15\n",
      "t = np.arange( N, dtype = np.float ) / ( N - 1 )\n",
      "\n",
      "a1 = fBM( N, 0.6 )\n",
      "a2 = Rosenblatt( N, 0.6, downsample = 16 )\n",
      "a3 = Hermite3( N, 0.9, downsample = 16 )\n",
      "a4 = Hermite4( N, 0.925, downsample = 16 )\n",
      "a5 = Weier( N, 0.6 )\n",
      "\n",
      "plt.figure( figsize = (10,6) )\n",
      "plt.subplot(311)\n",
      "plt.plot(t, a1, \"r-\", linewidth = 1 )\n",
      "plt.subplot(312)\n",
      "plt.plot(t, a5, \"b-\", linewidth = 1 )\n",
      "\n",
      "plt.subplot(313)\n",
      "plt.plot(t, a2, \"r-\", linewidth = 1 )\n",
      "plt.plot(t, a3, \"k-\", linewidth = 1 )\n",
      "plt.plot(t, a4, \"b-\", linewidth = 1 )\n",
      "\n",
      "plt.show( )\n"
     ],
     "language": "python",
     "metadata": {},
     "outputs": []
    }
   ],
   "metadata": {}
  }
 ]
}