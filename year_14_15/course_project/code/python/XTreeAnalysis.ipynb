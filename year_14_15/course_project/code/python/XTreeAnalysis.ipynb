{
 "metadata": {
  "name": "",
  "signature": "sha256:3df0bfa432cc25ef8bce1a3f1ecaa60bc78e77254110672e461c5af6e7d25c38"
 },
 "nbformat": 3,
 "nbformat_minor": 0,
 "worksheets": [
  {
   "cells": [
    {
     "cell_type": "code",
     "collapsed": false,
     "input": [
      "import numpy as np\n",
      "import matplotlib.pyplot as plt\n",
      "\n",
      "%matplotlib inline\n",
      "\n",
      "# from f_get_w import f_get_w\n",
      "from crossing_tree import xtree_build\n",
      "\n",
      "from hsssi_processes import *"
     ],
     "language": "python",
     "metadata": {},
     "outputs": []
    },
    {
     "cell_type": "code",
     "collapsed": false,
     "input": [
      "def fbm( log_N, H, seed = None ) :\n",
      "\tN = 2 ** log_N\n",
      "\tt = np.arange( N, dtype = np.float ) / ( N - 1 )\n",
      "\tu, v = synthfbmcircul( N + 1, H, sigma2 = 1.0, tmax = 1.0, seed = seed )\n",
      "\treturn( t, u[1:], v[1:] )\n",
      "\n",
      "def wei( log_N, H, seed = None ) :\n",
      "\tN = 2 ** log_N\n",
      "\tt = np.arange( N, dtype = np.float ) / ( N - 1 )\n",
      "\tx, t = synthweier( log_N, H, 1.2, 1000 )\n",
      "\tu, v = synthfbmcircul( N + 1, H, sigma2 = 1.0, tmax = 1.0, seed = seed )\n",
      "\treturn( t, u[1:], v[1:] )\n",
      "\n",
      "\n",
      "# Weier( N, 0.6 )"
     ],
     "language": "python",
     "metadata": {},
     "outputs": []
    },
    {
     "cell_type": "code",
     "collapsed": false,
     "input": [
      "def scaffolding_plot( t, x, l = 2 ) :\n",
      "    ht, hp, xt = xtree_build( t, x )\n",
      "    plt.figure( figsize = (15, 8) )\n",
      "    plt.plot( t, x, \"y-\")\n",
      "# for p in tp[l] : plt.axhline( p, linewidth = 1, color = 'k' )\n",
      "    plt.step( ht[l+0], hp[l+0], \"g>\" )\n",
      "    plt.step( ht[l+1], hp[l+1], \"b>\" )\n",
      "    plt.step( ht[l+2], hp[l+2], \"r>\" )\n",
      "    plt.step( ht[l+3], hp[l+3], \"k>\" )\n",
      "    plt.show( )\n",
      "    return [zip(*np.unique( x, return_counts = True)) for x in xt ]"
     ],
     "language": "python",
     "metadata": {},
     "outputs": []
    },
    {
     "cell_type": "code",
     "collapsed": false,
     "input": [
      "t, u, v = fbm( 20, .25 )"
     ],
     "language": "python",
     "metadata": {},
     "outputs": []
    },
    {
     "cell_type": "code",
     "collapsed": false,
     "input": [
      "print scaffolding_plot( t, u, l = 3 )\n",
      "print scaffolding_plot( t, v, l = 3 )"
     ],
     "language": "python",
     "metadata": {},
     "outputs": []
    },
    {
     "cell_type": "code",
     "collapsed": false,
     "input": [
      "xt, xp, xxt = xtree_build( t, u )\n",
      "print [len(a) for a in xt ]\n",
      "print [len(a) for a in xp ]\n",
      "print [len(a) for a in xxt ]\n",
      "\n",
      "# [552453, 216850, 80667, 29079, 10220, 3534, 1206, 429, 148, 59, 25, 8, 3, 2, 1]\n",
      "# [552453, 216850, 80667, 29079, 10220, 3534, 1206, 429, 148, 59, 25, 8, 3, 2, 1]\n",
      "# [0, 216849, 80666, 29078, 10219, 3533, 1205, 428, 147, 58, 24, 7, 2, 1, 0]\n"
     ],
     "language": "python",
     "metadata": {},
     "outputs": []
    },
    {
     "cell_type": "code",
     "collapsed": false,
     "input": [
      "def fbm_mc_distr( p = 15, M = 100, H = .5 ) :\n",
      "    for m in xrange( M ) :\n",
      "        t, u, v = fbm( p, H )\n"
     ],
     "language": "python",
     "metadata": {},
     "outputs": []
    },
    {
     "cell_type": "code",
     "collapsed": false,
     "input": [
      "N = 2**15\n",
      "t = np.arange( N, dtype = np.float ) / ( N - 1 )\n",
      "\n",
      "a1 = fBM( N, 0.6 )\n",
      "a2 = Rosenblatt( N, 0.6, downsample = 16 )\n",
      "a3 = Hermite3( N, 0.9, downsample = 16 )\n",
      "a4 = Hermite4( N, 0.925, downsample = 16 )\n",
      "a5 = Weier( N, 0.6 )\n",
      "\n",
      "plt.figure( figsize = (10,6) )\n",
      "plt.subplot(311)\n",
      "plt.plot(t, a1, \"r-\", linewidth = 1 )\n",
      "plt.subplot(312)\n",
      "plt.plot(t, a5, \"b-\", linewidth = 1 )\n",
      "\n",
      "plt.subplot(313)\n",
      "plt.plot(t, a2, \"r-\", linewidth = 1 )\n",
      "plt.plot(t, a3, \"k-\", linewidth = 1 )\n",
      "plt.plot(t, a4, \"b-\", linewidth = 1 )\n",
      "\n",
      "plt.show( )\n"
     ],
     "language": "python",
     "metadata": {},
     "outputs": []
    }
   ],
   "metadata": {}
  }
 ]
}